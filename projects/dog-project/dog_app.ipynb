{
 "cells": [
  {
   "cell_type": "markdown",
   "metadata": {},
   "source": [
    "# Artificial Intelligence Nanodegree\n",
    "\n",
    "## Convolutional Neural Networks\n",
    "\n",
    "## Project: Write an Algorithm for a Dog Identification App \n",
    "\n",
    "---\n",
    "\n",
    "In this notebook, some template code has already been provided for you, and you will need to implement additional functionality to successfully complete this project. You will not need to modify the included code beyond what is requested. Sections that begin with **'(IMPLEMENTATION)'** in the header indicate that the following block of code will require additional functionality which you must provide. Instructions will be provided for each section, and the specifics of the implementation are marked in the code block with a 'TODO' statement. Please be sure to read the instructions carefully! \n",
    "\n",
    "> **Note**: Once you have completed all of the code implementations, you need to finalize your work by exporting the iPython Notebook as an HTML document. Before exporting the notebook to html, all of the code cells need to have been run so that reviewers can see the final implementation and output. You can then export the notebook by using the menu above and navigating to  \\n\",\n",
    "    \"**File -> Download as -> HTML (.html)**. Include the finished document along with this notebook as your submission.\n",
    "\n",
    "In addition to implementing code, there will be questions that you must answer which relate to the project and your implementation. Each section where you will answer a question is preceded by a **'Question X'** header. Carefully read each question and provide thorough answers in the following text boxes that begin with **'Answer:'**. Your project submission will be evaluated based on your answers to each of the questions and the implementation you provide.\n",
    "\n",
    ">**Note:** Code and Markdown cells can be executed using the **Shift + Enter** keyboard shortcut.  Markdown cells can be edited by double-clicking the cell to enter edit mode.\n",
    "\n",
    "The rubric contains _optional_ \"Stand Out Suggestions\" for enhancing the project beyond the minimum requirements. If you decide to pursue the \"Stand Out Suggestions\", you should include the code in this IPython notebook.\n",
    "\n",
    "\n",
    "\n",
    "---\n",
    "### Why We're Here \n",
    "\n",
    "In this notebook, you will make the first steps towards developing an algorithm that could be used as part of a mobile or web app.  At the end of this project, your code will accept any user-supplied image as input.  If a dog is detected in the image, it will provide an estimate of the dog's breed.  If a human is detected, it will provide an estimate of the dog breed that is most resembling.  The image below displays potential sample output of your finished project (... but we expect that each student's algorithm will behave differently!). \n",
    "\n",
    "![Sample Dog Output](images/sample_dog_output.png)\n",
    "\n",
    "In this real-world setting, you will need to piece together a series of models to perform different tasks; for instance, the algorithm that detects humans in an image will be different from the CNN that infers dog breed.  There are many points of possible failure, and no perfect algorithm exists.  Your imperfect solution will nonetheless create a fun user experience!\n",
    "\n",
    "### The Road Ahead\n",
    "\n",
    "We break the notebook into separate steps.  Feel free to use the links below to navigate the notebook.\n",
    "\n",
    "* [Step 0](#step0): Import Datasets\n",
    "* [Step 1](#step1): Detect Humans\n",
    "* [Step 2](#step2): Detect Dogs\n",
    "* [Step 3](#step3): Create a CNN to Classify Dog Breeds (from Scratch)\n",
    "* [Step 4](#step4): Use a CNN to Classify Dog Breeds (using Transfer Learning)\n",
    "* [Step 5](#step5): Create a CNN to Classify Dog Breeds (using Transfer Learning)\n",
    "* [Step 6](#step6): Write your Algorithm\n",
    "* [Step 7](#step7): Test Your Algorithm\n",
    "\n",
    "---\n",
    "<a id='step0'></a>\n",
    "## Step 0: Import Datasets\n",
    "\n",
    "### Import Dog Dataset\n",
    "\n",
    "In the code cell below, we import a dataset of dog images.  We populate a few variables through the use of the `load_files` function from the scikit-learn library:\n",
    "- `train_files`, `valid_files`, `test_files` - numpy arrays containing file paths to images\n",
    "- `train_targets`, `valid_targets`, `test_targets` - numpy arrays containing onehot-encoded classification labels \n",
    "- `dog_names` - list of string-valued dog breed names for translating labels"
   ]
  },
  {
   "cell_type": "code",
   "execution_count": 1,
   "metadata": {},
   "outputs": [
    {
     "name": "stderr",
     "output_type": "stream",
     "text": [
      "C:\\Users\\VM7634\\anaconda3\\lib\\site-packages\\h5py\\__init__.py:36: FutureWarning: Conversion of the second argument of issubdtype from `float` to `np.floating` is deprecated. In future, it will be treated as `np.float64 == np.dtype(float).type`.\n",
      "  from ._conv import register_converters as _register_converters\n",
      "Using TensorFlow backend.\n"
     ]
    },
    {
     "name": "stdout",
     "output_type": "stream",
     "text": [
      "There are 133 total dog categories.\n",
      "There are 8351 total dog images.\n",
      "\n",
      "There are 6680 training dog images.\n",
      "There are 835 validation dog images.\n",
      "There are 836 test dog images.\n"
     ]
    }
   ],
   "source": [
    "from sklearn.datasets import load_files       \n",
    "from keras.utils import np_utils\n",
    "import numpy as np\n",
    "from glob import glob\n",
    "\n",
    "# define function to load train, test, and validation datasets\n",
    "def load_dataset(path):\n",
    "    data = load_files(path)\n",
    "    dog_files = np.array(data['filenames'])\n",
    "    dog_targets = np_utils.to_categorical(np.array(data['target']), 133)\n",
    "    return dog_files, dog_targets\n",
    "\n",
    "# load train, test, and validation datasets\n",
    "train_files, train_targets = load_dataset('dogImages/train')\n",
    "valid_files, valid_targets = load_dataset('dogImages/valid')\n",
    "test_files, test_targets = load_dataset('dogImages/test')\n",
    "\n",
    "# load list of dog names\n",
    "dog_names = [item[20:-1] for item in sorted(glob(\"dogImages/train/*/\"))]\n",
    "#print(sorted(glob(\"dogImages/train/*/\")))\n",
    "#print(dog_names)\n",
    "\n",
    "# print statistics about the dataset\n",
    "print('There are %d total dog categories.' % len(dog_names))\n",
    "print('There are %s total dog images.\\n' % len(np.hstack([train_files, valid_files, test_files])))\n",
    "print('There are %d training dog images.' % len(train_files))\n",
    "print('There are %d validation dog images.' % len(valid_files))\n",
    "print('There are %d test dog images.'% len(test_files))"
   ]
  },
  {
   "cell_type": "markdown",
   "metadata": {},
   "source": [
    "### Import Human Dataset\n",
    "\n",
    "In the code cell below, we import a dataset of human images, where the file paths are stored in the numpy array `human_files`."
   ]
  },
  {
   "cell_type": "code",
   "execution_count": 2,
   "metadata": {},
   "outputs": [
    {
     "name": "stdout",
     "output_type": "stream",
     "text": [
      "['lfw\\\\Muhammad_Ali\\\\Muhammad_Ali_0001.jpg'\n",
      " 'lfw\\\\Yoko_Ono\\\\Yoko_Ono_0001.jpg'\n",
      " 'lfw\\\\Svetlana_Koroleva\\\\Svetlana_Koroleva_0002.jpg'\n",
      " 'lfw\\\\Laurence_Fishburne\\\\Laurence_Fishburne_0001.jpg'\n",
      " 'lfw\\\\Jennifer_Capriati\\\\Jennifer_Capriati_0007.jpg'\n",
      " 'lfw\\\\George_W_Bush\\\\George_W_Bush_0399.jpg'\n",
      " 'lfw\\\\Tom_Ridge\\\\Tom_Ridge_0001.jpg'\n",
      " 'lfw\\\\Catherine_Woodard\\\\Catherine_Woodard_0001.jpg'\n",
      " 'lfw\\\\Fabricio_Oberto\\\\Fabricio_Oberto_0001.jpg'\n",
      " 'lfw\\\\Pete_Sampras\\\\Pete_Sampras_0011.jpg']\n",
      "There are 13233 total human images.\n"
     ]
    }
   ],
   "source": [
    "import random\n",
    "random.seed(8675309)\n",
    "\n",
    "# load filenames in shuffled human dataset\n",
    "human_files = np.array(glob(\"lfw/*/*\"))\n",
    "#print(human_files)\n",
    "random.shuffle(human_files)\n",
    "print(human_files[:10])\n",
    "\n",
    "# print statistics about the dataset\n",
    "print('There are %d total human images.' % len(human_files))"
   ]
  },
  {
   "cell_type": "markdown",
   "metadata": {},
   "source": [
    "---\n",
    "<a id='step1'></a>\n",
    "## Step 1: Detect Humans\n",
    "\n",
    "We use OpenCV's implementation of [Haar feature-based cascade classifiers](http://docs.opencv.org/trunk/d7/d8b/tutorial_py_face_detection.html) to detect human faces in images.  OpenCV provides many pre-trained face detectors, stored as XML files on [github](https://github.com/opencv/opencv/tree/master/data/haarcascades).  We have downloaded one of these detectors and stored it in the `haarcascades` directory.\n",
    "\n",
    "In the next code cell, we demonstrate how to use this detector to find human faces in a sample image."
   ]
  },
  {
   "cell_type": "code",
   "execution_count": 17,
   "metadata": {},
   "outputs": [
    {
     "name": "stdout",
     "output_type": "stream",
     "text": [
      "lfw\\George_W_Bush\\George_W_Bush_0399.jpg\n",
      "Number of faces detected: 1\n"
     ]
    },
    {
     "data": {
      "image/png": "[encoded data removed]",
      "text/plain": [
       "<matplotlib.figure.Figure at 0x749358d0>"
      ]
     },
     "metadata": {},
     "output_type": "display_data"
    }
   ],
   "source": [
    "import cv2                \n",
    "import matplotlib.pyplot as plt                        \n",
    "%matplotlib inline                               \n",
    "\n",
    "# extract pre-trained face detector\n",
    "face_cascade = cv2.CascadeClassifier('haarcascades/haarcascade_frontalface_alt.xml')\n",
    "\n",
    "# load color (BGR) image\n",
    "img = cv2.imread(human_files[5])\n",
    "print(human_files[5])\n",
    "# convert BGR image to grayscale\n",
    "gray = cv2.cvtColor(img, cv2.COLOR_BGR2GRAY)\n",
    "\n",
    "\n",
    "# find faces in image\n",
    "faces = face_cascade.detectMultiScale(gray)\n",
    "\n",
    "# print number of faces detected in the image\n",
    "print('Number of faces detected:', len(faces))\n",
    "\n",
    "# get bounding box for each detected face\n",
    "for (x,y,w,h) in faces:\n",
    "    # add bounding box to color image\n",
    "    cv2.rectangle(img,(x,y),(x+w,y+h),(255,0,0),2)\n",
    "    \n",
    "# convert BGR image to RGB for plotting\n",
    "cv_rgb = cv2.cvtColor(img, cv2.COLOR_BGR2RGB)\n",
    "\n",
    "# display the image, along with bounding box\n",
    "plt.imshow(cv_rgb)\n",
    "plt.show()"
   ]
  },
  {
   "cell_type": "markdown",
   "metadata": {},
   "source": [
    "Before using any of the face detectors, it is standard procedure to convert the images to grayscale.  The `detectMultiScale` function executes the classifier stored in `face_cascade` and takes the grayscale image as a parameter.  \n",
    "\n",
    "In the above code, `faces` is a numpy array of detected faces, where each row corresponds to a detected face.  Each detected face is a 1D array with four entries that specifies the bounding box of the detected face.  The first two entries in the array (extracted in the above code as `x` and `y`) specify the horizontal and vertical positions of the top left corner of the bounding box.  The last two entries in the array (extracted here as `w` and `h`) specify the width and height of the box.\n",
    "\n",
    "### Write a Human Face Detector\n",
    "\n",
    "We can use this procedure to write a function that returns `True` if a human face is detected in an image and `False` otherwise.  This function, aptly named `face_detector`, takes a string-valued file path to an image as input and appears in the code block below."
   ]
  },
  {
   "cell_type": "code",
   "execution_count": 3,
   "metadata": {},
   "outputs": [],
   "source": [
    "# returns \"True\" if face is detected in image stored at img_path\n",
    "def face_detector(img_path):\n",
    "    #print(img_path)\n",
    "    img = cv2.imread(img_path)\n",
    "    gray = cv2.cvtColor(img, cv2.COLOR_BGR2GRAY)\n",
    "    faces = face_cascade.detectMultiScale(gray)\n",
    "    #plt.imshow(img)\n",
    "    #plt.show()\n",
    "    return len(faces) > 0"
   ]
  },
  {
   "cell_type": "markdown",
   "metadata": {},
   "source": [
    "### (IMPLEMENTATION) Assess the Human Face Detector\n",
    "\n",
    "__Question 1:__ Use the code cell below to test the performance of the `face_detector` function.  \n",
    "- What percentage of the first 100 images in `human_files` have a detected human face?  \n",
    "- What percentage of the first 100 images in `dog_files` have a detected human face? \n",
    "\n",
    "Ideally, we would like 100% of human images with a detected face and 0% of dog images with a detected face.  You will see that our algorithm falls short of this goal, but still gives acceptable performance.  We extract the file paths for the first 100 images from each of the datasets and store them in the numpy arrays `human_files_short` and `dog_files_short`.\n",
    "\n",
    "__Answer:__ "
   ]
  },
  {
   "cell_type": "code",
   "execution_count": 58,
   "metadata": {},
   "outputs": [
    {
     "name": "stdout",
     "output_type": "stream",
     "text": [
      "Percentage of human faces detected in first 100 human images:99%\n",
      "Percentage of human faces detected in first 100 dog images:12%\n"
     ]
    }
   ],
   "source": [
    "human_files_short = human_files[:100]\n",
    "dog_files_short = train_files[:100]\n",
    "# Do NOT modify the code above this line.\n",
    "\n",
    "## TODO: Test the performance of the face_detector algorithm \n",
    "img_seq=0\n",
    "human_faces_found=0\n",
    "dog_faces_found=0\n",
    "while (img_seq < len(human_files_short)):\n",
    "    if face_detector(human_files_short[img_seq]):\n",
    "        #print(\"human_files_short[img_seq] face found\")\n",
    "        human_faces_found +=1\n",
    "    if face_detector(dog_files_short[img_seq]):\n",
    "        #print(\"dog_files_short face found\", img_seq)\n",
    "        dog_faces_found +=1\n",
    "    img_seq +=1\n",
    "\n",
    "## on the images in human_files_short and dog_files_short.\n",
    "CBLUE = '\\33[34m'\n",
    "CEND = '\\33[0m'\n",
    "print(CBLUE+\"Percentage of human faces detected in first 100 human images:{0:.0f}%\".format(human_faces_found/len(human_files_short)*100) + CEND)\n",
    "print(CBLUE+\"Percentage of human faces detected in first 100 dog images:{0:.0f}%\".format(dog_faces_found/len(dog_files_short)*100)+ CEND)"
   ]
  },
  {
   "cell_type": "markdown",
   "metadata": {},
   "source": [
    "__Question 2:__ This algorithmic choice necessitates that we communicate to the user that we accept human images only when they provide a clear view of a face (otherwise, we risk having unneccessarily frustrated users!). In your opinion, is this a reasonable expectation to pose on the user? If not, can you think of a way to detect humans in images that does not necessitate an image with a clearly presented face?\n",
    "\n",
    "__Answer:__\n",
    "\n",
    "We suggest the face detector from OpenCV as a potential way to detect human images in your algorithm, but you are free to explore other approaches, especially approaches that make use of deep learning :).  Please use the code cell below to design and test your own face detection algorithm.  If you decide to pursue this _optional_ task, report performance on each of the datasets."
   ]
  },
  {
   "cell_type": "code",
   "execution_count": 6,
   "metadata": {},
   "outputs": [],
   "source": [
    "## (Optional) TODO: Report the performance of another  \n",
    "## face detection algorithm on the LFW dataset\n",
    "### Feel free to use as many code cells as needed."
   ]
  },
  {
   "cell_type": "markdown",
   "metadata": {},
   "source": [
    "---\n",
    "<a id='step2'></a>\n",
    "## Step 2: Detect Dogs\n",
    "\n",
    "In this section, we use a pre-trained [ResNet-50](http://ethereon.github.io/netscope/#/gist/db945b393d40bfa26006) model to detect dogs in images.  Our first line of code downloads the ResNet-50 model, along with weights that have been trained on [ImageNet](http://www.image-net.org/), a very large, very popular dataset used for image classification and other vision tasks.  ImageNet contains over 10 million URLs, each linking to an image containing an object from one of [1000 categories](https://gist.github.com/yrevar/942d3a0ac09ec9e5eb3a).  Given an image, this pre-trained ResNet-50 model returns a prediction (derived from the available categories in ImageNet) for the object that is contained in the image."
   ]
  },
  {
   "cell_type": "code",
   "execution_count": 4,
   "metadata": {},
   "outputs": [],
   "source": [
    "from keras.applications.resnet50 import ResNet50\n",
    "\n",
    "# define ResNet50 model\n",
    "ResNet50_model = ResNet50(weights='imagenet')"
   ]
  },
  {
   "cell_type": "markdown",
   "metadata": {},
   "source": [
    "### Pre-process the Data\n",
    "\n",
    "When using TensorFlow as backend, Keras CNNs require a 4D array (which we'll also refer to as a 4D tensor) as input, with shape\n",
    "\n",
    "$$\n",
    "(\\text{nb_samples}, \\text{rows}, \\text{columns}, \\text{channels}),\n",
    "$$\n",
    "\n",
    "where `nb_samples` corresponds to the total number of images (or samples), and `rows`, `columns`, and `channels` correspond to the number of rows, columns, and channels for each image, respectively.  \n",
    "\n",
    "The `path_to_tensor` function below takes a string-valued file path to a color image as input and returns a 4D tensor suitable for supplying to a Keras CNN.  The function first loads the image and resizes it to a square image that is $224 \\times 224$ pixels.  Next, the image is converted to an array, which is then resized to a 4D tensor.  In this case, since we are working with color images, each image has three channels.  Likewise, since we are processing a single image (or sample), the returned tensor will always have shape\n",
    "\n",
    "$$\n",
    "(1, 224, 224, 3).\n",
    "$$\n",
    "\n",
    "The `paths_to_tensor` function takes a numpy array of string-valued image paths as input and returns a 4D tensor with shape \n",
    "\n",
    "$$\n",
    "(\\text{nb_samples}, 224, 224, 3).\n",
    "$$\n",
    "\n",
    "Here, `nb_samples` is the number of samples, or number of images, in the supplied array of image paths.  It is best to think of `nb_samples` as the number of 3D tensors (where each 3D tensor corresponds to a different image) in your dataset!"
   ]
  },
  {
   "cell_type": "code",
   "execution_count": 5,
   "metadata": {},
   "outputs": [],
   "source": [
    "from keras.preprocessing import image                  \n",
    "from tqdm import tqdm\n",
    "\n",
    "def path_to_tensor(img_path):\n",
    "    # loads RGB image as PIL.Image.Image type\n",
    "    img = image.load_img(img_path, target_size=(224, 224))\n",
    "    # convert PIL.Image.Image type to 3D tensor with shape (224, 224, 3)\n",
    "    x = image.img_to_array(img)\n",
    "    # convert 3D tensor to 4D tensor with shape (1, 224, 224, 3) and return 4D tensor\n",
    "    return np.expand_dims(x, axis=0)\n",
    "\n",
    "def paths_to_tensor(img_paths):\n",
    "    list_of_tensors = [path_to_tensor(img_path) for img_path in tqdm(img_paths)]\n",
    "    return np.vstack(list_of_tensors)"
   ]
  },
  {
   "cell_type": "markdown",
   "metadata": {},
   "source": [
    "### Making Predictions with ResNet-50\n",
    "\n",
    "Getting the 4D tensor ready for ResNet-50, and for any other pre-trained model in Keras, requires some additional processing.  First, the RGB image is converted to BGR by reordering the channels.  All pre-trained models have the additional normalization step that the mean pixel (expressed in RGB as $[103.939, 116.779, 123.68]$ and calculated from all pixels in all images in ImageNet) must be subtracted from every pixel in each image.  This is implemented in the imported function `preprocess_input`.  If you're curious, you can check the code for `preprocess_input` [here](https://github.com/fchollet/keras/blob/master/keras/applications/imagenet_utils.py).\n",
    "\n",
    "Now that we have a way to format our image for supplying to ResNet-50, we are now ready to use the model to extract the predictions.  This is accomplished with the `predict` method, which returns an array whose $i$-th entry is the model's predicted probability that the image belongs to the $i$-th ImageNet category.  This is implemented in the `ResNet50_predict_labels` function below.\n",
    "\n",
    "By taking the argmax of the predicted probability vector, we obtain an integer corresponding to the model's predicted object class, which we can identify with an object category through the use of this [dictionary](https://gist.github.com/yrevar/942d3a0ac09ec9e5eb3a). "
   ]
  },
  {
   "cell_type": "code",
   "execution_count": 6,
   "metadata": {},
   "outputs": [],
   "source": [
    "from keras.applications.resnet50 import preprocess_input, decode_predictions\n",
    "\n",
    "def ResNet50_predict_labels(img_path):\n",
    "    # returns prediction vector for image located at img_path\n",
    "    img = preprocess_input(path_to_tensor(img_path))\n",
    "    return np.argmax(ResNet50_model.predict(img))"
   ]
  },
  {
   "cell_type": "markdown",
   "metadata": {},
   "source": [
    "### Write a Dog Detector\n",
    "\n",
    "While looking at the [dictionary](https://gist.github.com/yrevar/942d3a0ac09ec9e5eb3a), you will notice that the categories corresponding to dogs appear in an uninterrupted sequence and correspond to dictionary keys 151-268, inclusive, to include all categories from `'Chihuahua'` to `'Mexican hairless'`.  Thus, in order to check to see if an image is predicted to contain a dog by the pre-trained ResNet-50 model, we need only check if the `ResNet50_predict_labels` function above returns a value between 151 and 268 (inclusive).\n",
    "\n",
    "We use these ideas to complete the `dog_detector` function below, which returns `True` if a dog is detected in an image (and `False` if not)."
   ]
  },
  {
   "cell_type": "code",
   "execution_count": 7,
   "metadata": {},
   "outputs": [],
   "source": [
    "### returns \"True\" if a dog is detected in the image stored at img_path\n",
    "def dog_detector(img_path):\n",
    "    prediction = ResNet50_predict_labels(img_path)\n",
    "    return ((prediction <= 268) & (prediction >= 151)) "
   ]
  },
  {
   "cell_type": "markdown",
   "metadata": {},
   "source": [
    "### (IMPLEMENTATION) Assess the Dog Detector\n",
    "\n",
    "__Question 3:__ Use the code cell below to test the performance of your `dog_detector` function.  \n",
    "- What percentage of the images in `human_files_short` have a detected dog?  \n",
    "- What percentage of the images in `dog_files_short` have a detected dog?\n",
    "\n",
    "__Answer:__ "
   ]
  },
  {
   "cell_type": "code",
   "execution_count": 11,
   "metadata": {},
   "outputs": [
    {
     "name": "stdout",
     "output_type": "stream",
     "text": [
      "dog_files_short face found 0\n",
      "dog_files_short face found 1\n",
      "dog_files_short face found 2\n",
      "dog_files_short face found 3\n",
      "dog_files_short face found 4\n",
      "dog_files_short face found 5\n",
      "dog_files_short face found 6\n",
      "dog_files_short face found 7\n",
      "dog_files_short face found 8\n",
      "dog_files_short face found 9\n",
      "dog_files_short face found 10\n",
      "dog_files_short face found 11\n",
      "dog_files_short face found 12\n",
      "dog_files_short face found 13\n",
      "dog_files_short face found 14\n",
      "dog_files_short face found 15\n",
      "dog_files_short face found 16\n",
      "dog_files_short face found 17\n",
      "dog_files_short face found 18\n",
      "dog_files_short face found 19\n",
      "dog_files_short face found 20\n",
      "dog_files_short face found 21\n",
      "dog_files_short face found 22\n",
      "dog_files_short face found 23\n",
      "dog_files_short face found 24\n",
      "dog_files_short face found 25\n",
      "dog_files_short face found 26\n",
      "dog_files_short face found 27\n",
      "dog_files_short face found 28\n",
      "dog_files_short face found 29\n",
      "dog_files_short face found 30\n",
      "dog_files_short face found 31\n",
      "dog_files_short face found 32\n",
      "dog_files_short face found 33\n",
      "dog_files_short face found 34\n",
      "dog_files_short face found 35\n",
      "dog_files_short face found 36\n",
      "dog_files_short face found 37\n",
      "dog_files_short face found 38\n",
      "dog_files_short face found 39\n",
      "dog_files_short face found 40\n",
      "dog_files_short face found 41\n",
      "dog_files_short face found 42\n",
      "dog_files_short face found 43\n",
      "dog_files_short face found 44\n",
      "dog_files_short face found 45\n",
      "dog_files_short face found 46\n",
      "dog_files_short face found 47\n",
      "dog_files_short face found 48\n",
      "dog_files_short face found 49\n",
      "dog_files_short face found 50\n",
      "dog_files_short face found 51\n",
      "dog_files_short face found 52\n",
      "dog_files_short face found 53\n",
      "dog_files_short face found 54\n",
      "dog_files_short face found 55\n",
      "dog_files_short face found 56\n",
      "dog_files_short face found 57\n",
      "dog_files_short face found 58\n",
      "dog_files_short face found 59\n",
      "dog_files_short face found 60\n",
      "dog_files_short face found 61\n",
      "dog_files_short face found 62\n",
      "dog_files_short face found 63\n",
      "dog_files_short face found 64\n",
      "dog_files_short face found 65\n",
      "dog_files_short face found 66\n",
      "dog_files_short face found 67\n",
      "dog_files_short face found 68\n",
      "dog_files_short face found 69\n",
      "dog_files_short face found 70\n",
      "dog_files_short face found 71\n",
      "dog_files_short face found 72\n",
      "dog_files_short face found 73\n",
      "dog_files_short face found 74\n",
      "dog_files_short face found 75\n",
      "dog_files_short face found 76\n",
      "dog_files_short face found 77\n",
      "dog_files_short face found 78\n",
      "dog_files_short face found 79\n",
      "dog_files_short face found 80\n",
      "dog_files_short face found 81\n",
      "dog_files_short face found 82\n",
      "dog_files_short face found 83\n",
      "dog_files_short face found 84\n",
      "dog_files_short face found 85\n",
      "dog_files_short face found 86\n",
      "dog_files_short face found 87\n",
      "dog_files_short face found 88\n",
      "dog_files_short face found 89\n",
      "dog_files_short face found 90\n",
      "dog_files_short face found 91\n",
      "dog_files_short face found 92\n",
      "dog_files_short face found 93\n",
      "dog_files_short face found 94\n",
      "dog_files_short face found 95\n",
      "dog_files_short face found 96\n",
      "dog_files_short face found 97\n",
      "dog_files_short face found 98\n",
      "dog_files_short face found 99\n",
      "Percentage of dog faces detected in first 100 human images:1%\n",
      "Percentage of dog faces detected in first 100 dog images:100%\n"
     ]
    }
   ],
   "source": [
    "### TODO: Test the performance of the dog_detector function\n",
    "\n",
    "img_seq=0\n",
    "human_faces_found=0\n",
    "dog_faces_found=0\n",
    "while (img_seq < len(human_files_short)):\n",
    "    if dog_detector(human_files_short[img_seq]):\n",
    "        #print(\"human_files_short[img_seq] face found\")\n",
    "        human_faces_found +=1\n",
    "    if dog_detector(dog_files_short[img_seq]):\n",
    "        print(\"dog_files_short face found\", img_seq)\n",
    "        dog_faces_found +=1\n",
    "    img_seq +=1\n",
    "\n",
    "## on the images in human_files_short and dog_files_short.\n",
    "CBLUE = '\\33[34m'\n",
    "CEND = '\\33[0m'\n",
    "print(CBLUE+\"Percentage of dog faces detected in first 100 human images:{0:.0f}%\".format(human_faces_found/len(human_files_short)*100) + CEND)\n",
    "print(CBLUE+\"Percentage of dog faces detected in first 100 dog images:{0:.0f}%\".format(dog_faces_found/len(dog_files_short)*100)+ CEND)"
   ]
  },
  {
   "cell_type": "markdown",
   "metadata": {},
   "source": [
    "---\n",
    "<a id='step3'></a>\n",
    "## Step 3: Create a CNN to Classify Dog Breeds (from Scratch)\n",
    "\n",
    "Now that we have functions for detecting humans and dogs in images, we need a way to predict breed from images.  In this step, you will create a CNN that classifies dog breeds.  You must create your CNN _from scratch_ (so, you can't use transfer learning _yet_!), and you must attain a test accuracy of at least 1%.  In Step 5 of this notebook, you will have the opportunity to use transfer learning to create a CNN that attains greatly improved accuracy.\n",
    "\n",
    "Be careful with adding too many trainable layers!  More parameters means longer training, which means you are more likely to need a GPU to accelerate the training process.  Thankfully, Keras provides a handy estimate of the time that each epoch is likely to take; you can extrapolate this estimate to figure out how long it will take for your algorithm to train. \n",
    "\n",
    "We mention that the task of assigning breed to dogs from images is considered exceptionally challenging.  To see why, consider that *even a human* would have great difficulty in distinguishing between a Brittany and a Welsh Springer Spaniel.  \n",
    "\n",
    "Brittany | Welsh Springer Spaniel\n",
    "- | - \n",
    "<img src=\"images/Brittany_02625.jpg\" width=\"100\"> | <img src=\"images/Welsh_springer_spaniel_08203.jpg\" width=\"200\">\n",
    "\n",
    "It is not difficult to find other dog breed pairs with minimal inter-class variation (for instance, Curly-Coated Retrievers and American Water Spaniels).  \n",
    "\n",
    "Curly-Coated Retriever | American Water Spaniel\n",
    "- | -\n",
    "<img src=\"images/Curly-coated_retriever_03896.jpg\" width=\"200\"> | <img src=\"images/American_water_spaniel_00648.jpg\" width=\"200\">\n",
    "\n",
    "\n",
    "Likewise, recall that labradors come in yellow, chocolate, and black.  Your vision-based algorithm will have to conquer this high intra-class variation to determine how to classify all of these different shades as the same breed.  \n",
    "\n",
    "Yellow Labrador | Chocolate Labrador | Black Labrador\n",
    "- | -\n",
    "<img src=\"images/Labrador_retriever_06457.jpg\" width=\"150\"> | <img src=\"images/Labrador_retriever_06455.jpg\" width=\"240\"> | <img src=\"images/Labrador_retriever_06449.jpg\" width=\"220\">\n",
    "\n",
    "We also mention that random chance presents an exceptionally low bar: setting aside the fact that the classes are slightly imabalanced, a random guess will provide a correct answer roughly 1 in 133 times, which corresponds to an accuracy of less than 1%.  \n",
    "\n",
    "Remember that the practice is far ahead of the theory in deep learning.  Experiment with many different architectures, and trust your intuition.  And, of course, have fun! \n",
    "\n",
    "### Pre-process the Data\n",
    "\n",
    "We rescale the images by dividing every pixel in every image by 255."
   ]
  },
  {
   "cell_type": "code",
   "execution_count": 8,
   "metadata": {},
   "outputs": [
    {
     "name": "stderr",
     "output_type": "stream",
     "text": [
      "100%|█████████████████████████████████████████████████████████████████████████████| 6680/6680 [01:03<00:00, 104.56it/s]\n",
      "100%|███████████████████████████████████████████████████████████████████████████████| 835/835 [00:08<00:00, 103.32it/s]\n",
      "100%|███████████████████████████████████████████████████████████████████████████████| 836/836 [00:07<00:00, 107.43it/s]\n"
     ]
    }
   ],
   "source": [
    "from PIL import ImageFile                            \n",
    "ImageFile.LOAD_TRUNCATED_IMAGES = True                 \n",
    "\n",
    "# pre-process the data for Keras\n",
    "train_tensors = paths_to_tensor(train_files).astype('float32')/255\n",
    "valid_tensors = paths_to_tensor(valid_files).astype('float32')/255\n",
    "test_tensors = paths_to_tensor(test_files).astype('float32')/255"
   ]
  },
  {
   "cell_type": "markdown",
   "metadata": {},
   "source": [
    "### (IMPLEMENTATION) Model Architecture\n",
    "\n",
    "Create a CNN to classify dog breed.  At the end of your code cell block, summarize the layers of your model by executing the line:\n",
    "    \n",
    "        model.summary()\n",
    "\n",
    "We have imported some Python modules to get you started, but feel free to import as many modules as you need.  If you end up getting stuck, here's a hint that specifies a model that trains relatively fast on CPU and attains >1% test accuracy in 5 epochs:\n",
    "\n",
    "![Sample CNN](images/sample_cnn.png)\n",
    "           \n",
    "__Question 4:__ Outline the steps you took to get to your final CNN architecture and your reasoning at each step.  If you chose to use the hinted architecture above, describe why you think that CNN architecture should work well for the image classification task.\n",
    "\n",
    "__Answer:__ "
   ]
  },
  {
   "cell_type": "code",
   "execution_count": 13,
   "metadata": {},
   "outputs": [
    {
     "name": "stdout",
     "output_type": "stream",
     "text": [
      "_________________________________________________________________\n",
      "Layer (type)                 Output Shape              Param #   \n",
      "=================================================================\n",
      "conv2d_1 (Conv2D)            (None, 223, 223, 16)      208       \n",
      "_________________________________________________________________\n",
      "max_pooling2d_2 (MaxPooling2 (None, 220, 220, 16)      0         \n",
      "_________________________________________________________________\n",
      "conv2d_2 (Conv2D)            (None, 219, 219, 32)      2080      \n",
      "_________________________________________________________________\n",
      "max_pooling2d_3 (MaxPooling2 (None, 109, 109, 32)      0         \n",
      "_________________________________________________________________\n",
      "conv2d_3 (Conv2D)            (None, 108, 108, 64)      8256      \n",
      "_________________________________________________________________\n",
      "max_pooling2d_4 (MaxPooling2 (None, 54, 54, 64)        0         \n",
      "_________________________________________________________________\n",
      "flatten_2 (Flatten)          (None, 186624)            0         \n",
      "_________________________________________________________________\n",
      "dense_1 (Dense)              (None, 200)               37325000  \n",
      "_________________________________________________________________\n",
      "dropout_1 (Dropout)          (None, 200)               0         \n",
      "_________________________________________________________________\n",
      "dense_2 (Dense)              (None, 133)               26733     \n",
      "=================================================================\n",
      "Total params: 37,362,277\n",
      "Trainable params: 37,362,277\n",
      "Non-trainable params: 0\n",
      "_________________________________________________________________\n"
     ]
    }
   ],
   "source": [
    "from keras.layers import Conv2D, MaxPooling2D, GlobalAveragePooling2D\n",
    "from keras.layers import Dropout, Flatten, Dense\n",
    "from keras.models import Sequential\n",
    "\n",
    "model = Sequential()\n",
    "\n",
    "### TODO: Define your architecture.\n",
    "model.add(Conv2D(filters=16, kernel_size=2, strides=1, padding='valid', activation='relu', \n",
    "                 input_shape=(224, 224, 3)))\n",
    "model.add(MaxPooling2D(pool_size=(4, 4), strides=1, padding='valid', data_format=None))\n",
    "\n",
    "### Conv2d -- second layer\n",
    "model.add(Conv2D(32, kernel_size=2, strides=1, padding='valid', activation='relu'))\n",
    "model.add(MaxPooling2D(pool_size=(2, 2), strides=None, padding='valid', data_format=None))\n",
    "\n",
    "### Conv2d -- third layer\n",
    "model.add(Conv2D(64, kernel_size=2, strides=1, padding='valid', activation='relu'))\n",
    "model.add(MaxPooling2D(pool_size=(2, 2), strides=None, padding='valid', data_format=None))\n",
    "\n",
    "### Global average\n",
    "#model.add(GlobalAveragePooling2D(data_format=None))\n",
    "\n",
    "###Convert 3D into 1D features vector\n",
    "model.add(Flatten())\n",
    "model.add(Dense(200, activation='relu'))\n",
    "model.add(Dropout(0.2))\n",
    "model.add(Dense(133, activation='softmax'))\n",
    "\n",
    "\n",
    "model.summary()"
   ]
  },
  {
   "cell_type": "markdown",
   "metadata": {},
   "source": [
    "### Compile the Model"
   ]
  },
  {
   "cell_type": "code",
   "execution_count": 14,
   "metadata": {},
   "outputs": [],
   "source": [
    "model.compile(optimizer='rmsprop', loss='categorical_crossentropy', metrics=['accuracy'])"
   ]
  },
  {
   "cell_type": "markdown",
   "metadata": {},
   "source": [
    "### (IMPLEMENTATION) Train the Model\n",
    "\n",
    "Train your model in the code cell below.  Use model checkpointing to save the model that attains the best validation loss.\n",
    "\n",
    "You are welcome to [augment the training data](https://blog.keras.io/building-powerful-image-classification-models-using-very-little-data.html), but this is not a requirement. "
   ]
  },
  {
   "cell_type": "code",
   "execution_count": 15,
   "metadata": {},
   "outputs": [
    {
     "name": "stdout",
     "output_type": "stream",
     "text": [
      "Train on 6680 samples, validate on 835 samples\n",
      "Epoch 1/10\n",
      "4020/6680 [=================>............] - ETA: 29:58 - loss: 4.9043 - acc: 0.0000e+ - ETA: 22:30 - loss: 10.5112 - acc: 0.0000e+0 - ETA: 19:57 - loss: 12.3801 - acc: 0.0000e+0 - ETA: 18:51 - loss: 13.3146 - acc: 0.0000e+0 - ETA: 18:05 - loss: 13.8753 - acc: 0.0000e+0 - ETA: 17:37 - loss: 14.2491 - acc: 0.0000e+0 - ETA: 17:13 - loss: 14.2522 - acc: 0.0143    - ETA: 16:56 - loss: 14.4854 - acc: 0.012 - ETA: 16:39 - loss: 14.5773 - acc: 0.016 - ETA: 16:27 - loss: 14.6737 - acc: 0.015 - ETA: 16:13 - loss: 14.7083 - acc: 0.013 - ETA: 16:02 - loss: 14.2605 - acc: 0.016 - ETA: 15:53 - loss: 13.5533 - acc: 0.015 - ETA: 15:45 - loss: 12.9454 - acc: 0.014 - ETA: 15:38 - loss: 12.4102 - acc: 0.016 - ETA: 15:30 - loss: 11.9457 - acc: 0.015 - ETA: 15:23 - loss: 11.5310 - acc: 0.017 - ETA: 15:16 - loss: 11.1643 - acc: 0.016 - ETA: 15:10 - loss: 10.8359 - acc: 0.015 - ETA: 15:04 - loss: 10.5379 - acc: 0.017 - ETA: 14:59 - loss: 10.2681 - acc: 0.019 - ETA: 14:54 - loss: 10.0249 - acc: 0.018 - ETA: 14:48 - loss: 9.8036 - acc: 0.017 - ETA: 14:44 - loss: 9.5990 - acc: 0.01 - ETA: 14:39 - loss: 9.4110 - acc: 0.01 - ETA: 14:35 - loss: 9.2369 - acc: 0.01 - ETA: 14:30 - loss: 9.0755 - acc: 0.01 - ETA: 14:26 - loss: 8.9255 - acc: 0.01 - ETA: 14:22 - loss: 8.7857 - acc: 0.01 - ETA: 14:18 - loss: 8.6546 - acc: 0.01 - ETA: 14:14 - loss: 8.5345 - acc: 0.01 - ETA: 14:10 - loss: 8.4200 - acc: 0.01 - ETA: 14:06 - loss: 8.3132 - acc: 0.01 - ETA: 14:03 - loss: 8.2133 - acc: 0.01 - ETA: 13:59 - loss: 8.1200 - acc: 0.01 - ETA: 13:55 - loss: 8.0301 - acc: 0.01 - ETA: 13:52 - loss: 7.9451 - acc: 0.01 - ETA: 13:48 - loss: 7.8653 - acc: 0.01 - ETA: 13:44 - loss: 7.7892 - acc: 0.01 - ETA: 13:41 - loss: 7.7163 - acc: 0.01 - ETA: 13:37 - loss: 7.6470 - acc: 0.01 - ETA: 13:34 - loss: 7.5816 - acc: 0.01 - ETA: 13:31 - loss: 7.5191 - acc: 0.01 - ETA: 13:27 - loss: 7.4595 - acc: 0.01 - ETA: 13:24 - loss: 7.4027 - acc: 0.01 - ETA: 13:21 - loss: 7.3476 - acc: 0.01 - ETA: 13:18 - loss: 7.2954 - acc: 0.01 - ETA: 13:15 - loss: 7.2452 - acc: 0.01 - ETA: 13:11 - loss: 7.1980 - acc: 0.01 - ETA: 13:08 - loss: 7.1514 - acc: 0.01 - ETA: 13:05 - loss: 7.1099 - acc: 0.01 - ETA: 13:02 - loss: 7.0671 - acc: 0.01 - ETA: 12:59 - loss: 7.0261 - acc: 0.01 - ETA: 12:55 - loss: 6.9869 - acc: 0.01 - ETA: 12:52 - loss: 6.9490 - acc: 0.01 - ETA: 12:49 - loss: 6.9123 - acc: 0.01 - ETA: 12:46 - loss: 6.8769 - acc: 0.01 - ETA: 12:43 - loss: 6.8425 - acc: 0.01 - ETA: 12:40 - loss: 6.8093 - acc: 0.01 - ETA: 12:37 - loss: 6.7774 - acc: 0.01 - ETA: 12:34 - loss: 6.7465 - acc: 0.01 - ETA: 12:31 - loss: 6.7164 - acc: 0.01 - ETA: 12:29 - loss: 6.6871 - acc: 0.01 - ETA: 12:25 - loss: 6.6595 - acc: 0.01 - ETA: 12:22 - loss: 6.6336 - acc: 0.01 - ETA: 12:20 - loss: 6.6072 - acc: 0.01 - ETA: 12:17 - loss: 6.5815 - acc: 0.01 - ETA: 12:14 - loss: 6.5564 - acc: 0.01 - ETA: 12:11 - loss: 6.5321 - acc: 0.01 - ETA: 12:08 - loss: 6.5088 - acc: 0.01 - ETA: 12:05 - loss: 6.4866 - acc: 0.01 - ETA: 12:02 - loss: 6.4646 - acc: 0.01 - ETA: 11:59 - loss: 6.4429 - acc: 0.01 - ETA: 11:56 - loss: 6.4218 - acc: 0.01 - ETA: 11:53 - loss: 6.4015 - acc: 0.01 - ETA: 11:50 - loss: 6.3816 - acc: 0.01 - ETA: 11:47 - loss: 6.3622 - acc: 0.01 - ETA: 11:44 - loss: 6.3433 - acc: 0.01 - ETA: 11:41 - loss: 6.3250 - acc: 0.01 - ETA: 11:39 - loss: 6.3069 - acc: 0.01 - ETA: 11:36 - loss: 6.2905 - acc: 0.01 - ETA: 11:33 - loss: 6.2736 - acc: 0.01 - ETA: 11:30 - loss: 6.2565 - acc: 0.01 - ETA: 11:27 - loss: 6.2403 - acc: 0.01 - ETA: 11:24 - loss: 6.2241 - acc: 0.01 - ETA: 11:21 - loss: 6.2097 - acc: 0.01 - ETA: 11:19 - loss: 6.1942 - acc: 0.01 - ETA: 11:16 - loss: 6.1792 - acc: 0.01 - ETA: 11:13 - loss: 6.1648 - acc: 0.01 - ETA: 11:10 - loss: 6.1513 - acc: 0.01 - ETA: 11:07 - loss: 6.1371 - acc: 0.01 - ETA: 11:04 - loss: 6.1235 - acc: 0.01 - ETA: 11:01 - loss: 6.1100 - acc: 0.01 - ETA: 10:58 - loss: 6.0972 - acc: 0.01 - ETA: 10:56 - loss: 6.0851 - acc: 0.01 - ETA: 10:53 - loss: 6.0726 - acc: 0.01 - ETA: 10:50 - loss: 6.0602 - acc: 0.01 - ETA: 10:47 - loss: 6.0475 - acc: 0.01 - ETA: 10:44 - loss: 6.0358 - acc: 0.01 - ETA: 10:41 - loss: 6.0243 - acc: 0.01 - ETA: 10:38 - loss: 6.0136 - acc: 0.01 - ETA: 10:36 - loss: 6.0025 - acc: 0.01 - ETA: 10:33 - loss: 5.9917 - acc: 0.01 - ETA: 10:30 - loss: 5.9811 - acc: 0.01 - ETA: 10:27 - loss: 5.9708 - acc: 0.01 - ETA: 10:24 - loss: 5.9604 - acc: 0.01 - ETA: 10:22 - loss: 5.9504 - acc: 0.01 - ETA: 10:19 - loss: 5.9412 - acc: 0.01 - ETA: 10:16 - loss: 5.9314 - acc: 0.01 - ETA: 10:13 - loss: 5.9223 - acc: 0.01 - ETA: 10:10 - loss: 5.9129 - acc: 0.01 - ETA: 10:08 - loss: 5.9038 - acc: 0.01 - ETA: 10:05 - loss: 5.8948 - acc: 0.01 - ETA: 10:02 - loss: 5.8857 - acc: 0.01 - ETA: 9:59 - loss: 5.8770 - acc: 0.0130 - ETA: 9:57 - loss: 5.8684 - acc: 0.012 - ETA: 9:54 - loss: 5.8602 - acc: 0.013 - ETA: 9:51 - loss: 5.8519 - acc: 0.013 - ETA: 9:48 - loss: 5.8442 - acc: 0.013 - ETA: 9:46 - loss: 5.8364 - acc: 0.013 - ETA: 9:43 - loss: 5.8285 - acc: 0.013 - ETA: 9:40 - loss: 5.8209 - acc: 0.013 - ETA: 9:37 - loss: 5.8132 - acc: 0.013 - ETA: 9:34 - loss: 5.8057 - acc: 0.013 - ETA: 9:31 - loss: 5.7982 - acc: 0.013 - ETA: 9:28 - loss: 5.7909 - acc: 0.013 - ETA: 9:25 - loss: 5.7839 - acc: 0.013 - ETA: 9:23 - loss: 5.7767 - acc: 0.012 - ETA: 9:20 - loss: 5.7710 - acc: 0.012 - ETA: 9:17 - loss: 5.7643 - acc: 0.012 - ETA: 9:14 - loss: 5.7574 - acc: 0.013 - ETA: 9:11 - loss: 5.7508 - acc: 0.012 - ETA: 9:08 - loss: 5.7442 - acc: 0.012 - ETA: 9:05 - loss: 5.7376 - acc: 0.012 - ETA: 9:02 - loss: 5.7312 - acc: 0.012 - ETA: 9:00 - loss: 5.7244 - acc: 0.012 - ETA: 8:57 - loss: 5.7185 - acc: 0.012 - ETA: 8:54 - loss: 5.7125 - acc: 0.012 - ETA: 8:51 - loss: 5.7065 - acc: 0.012 - ETA: 8:48 - loss: 5.7010 - acc: 0.012 - ETA: 8:46 - loss: 5.6949 - acc: 0.012 - ETA: 8:43 - loss: 5.6891 - acc: 0.012 - ETA: 8:40 - loss: 5.6842 - acc: 0.012 - ETA: 8:37 - loss: 5.6784 - acc: 0.012 - ETA: 8:34 - loss: 5.6732 - acc: 0.012 - ETA: 8:31 - loss: 5.6679 - acc: 0.012 - ETA: 8:28 - loss: 5.6626 - acc: 0.012 - ETA: 8:26 - loss: 5.6573 - acc: 0.012 - ETA: 8:23 - loss: 5.6520 - acc: 0.012 - ETA: 8:20 - loss: 5.6468 - acc: 0.012 - ETA: 8:17 - loss: 5.6415 - acc: 0.011 - ETA: 8:14 - loss: 5.6361 - acc: 0.011 - ETA: 8:12 - loss: 5.6335 - acc: 0.012 - ETA: 8:09 - loss: 5.6284 - acc: 0.012 - ETA: 8:06 - loss: 5.6236 - acc: 0.012 - ETA: 8:03 - loss: 5.6189 - acc: 0.012 - ETA: 8:01 - loss: 5.6137 - acc: 0.012 - ETA: 7:58 - loss: 5.6087 - acc: 0.012 - ETA: 7:55 - loss: 5.6041 - acc: 0.011 - ETA: 7:52 - loss: 5.5996 - acc: 0.011 - ETA: 7:49 - loss: 5.5949 - acc: 0.011 - ETA: 7:47 - loss: 5.5911 - acc: 0.011 - ETA: 7:44 - loss: 5.5868 - acc: 0.011 - ETA: 7:41 - loss: 5.5824 - acc: 0.012 - ETA: 7:38 - loss: 5.5778 - acc: 0.012 - ETA: 7:35 - loss: 5.5740 - acc: 0.012 - ETA: 7:33 - loss: 5.5701 - acc: 0.012 - ETA: 7:30 - loss: 5.5661 - acc: 0.011 - ETA: 7:27 - loss: 5.5620 - acc: 0.011 - ETA: 7:24 - loss: 5.5581 - acc: 0.011 - ETA: 7:22 - loss: 5.5539 - acc: 0.012 - ETA: 7:19 - loss: 5.5498 - acc: 0.012 - ETA: 7:16 - loss: 5.5463 - acc: 0.012 - ETA: 7:13 - loss: 5.5425 - acc: 0.012 - ETA: 7:10 - loss: 5.5382 - acc: 0.012 - ETA: 7:08 - loss: 5.5343 - acc: 0.012 - ETA: 7:05 - loss: 5.5307 - acc: 0.012 - ETA: 7:02 - loss: 5.5269 - acc: 0.012 - ETA: 6:59 - loss: 5.5230 - acc: 0.012 - ETA: 6:57 - loss: 5.5200 - acc: 0.012 - ETA: 6:54 - loss: 5.5165 - acc: 0.012 - ETA: 6:51 - loss: 5.5131 - acc: 0.012 - ETA: 6:48 - loss: 5.5089 - acc: 0.012 - ETA: 6:46 - loss: 5.5076 - acc: 0.012 - ETA: 6:43 - loss: 5.5041 - acc: 0.012 - ETA: 6:40 - loss: 5.5004 - acc: 0.012 - ETA: 6:37 - loss: 5.4975 - acc: 0.012 - ETA: 6:34 - loss: 5.4941 - acc: 0.012 - ETA: 6:32 - loss: 5.4908 - acc: 0.012 - ETA: 6:29 - loss: 5.4879 - acc: 0.012 - ETA: 6:26 - loss: 5.4845 - acc: 0.012 - ETA: 6:23 - loss: 5.4810 - acc: 0.012 - ETA: 6:21 - loss: 5.4781 - acc: 0.012 - ETA: 6:18 - loss: 5.4748 - acc: 0.012 - ETA: 6:15 - loss: 5.4715 - acc: 0.012 - ETA: 6:13 - loss: 5.4684 - acc: 0.012 - ETA: 6:10 - loss: 5.4651 - acc: 0.012 - ETA: 6:07 - loss: 5.4617 - acc: 0.012 - ETA: 6:04 - loss: 5.4590 - acc: 0.012 - ETA: 6:02 - loss: 5.4556 - acc: 0.012 - ETA: 5:59 - loss: 5.4523 - acc: 0.0126680/6680 [==============================] - ETA: 5:56 - loss: 5.4493 - acc: 0.012 - ETA: 5:53 - loss: 5.4463 - acc: 0.012 - ETA: 5:51 - loss: 5.4438 - acc: 0.012 - ETA: 5:48 - loss: 5.4412 - acc: 0.012 - ETA: 5:45 - loss: 5.4380 - acc: 0.012 - ETA: 5:42 - loss: 5.4350 - acc: 0.012 - ETA: 5:40 - loss: 5.4324 - acc: 0.012 - ETA: 5:37 - loss: 5.4299 - acc: 0.012 - ETA: 5:34 - loss: 5.4268 - acc: 0.012 - ETA: 5:31 - loss: 5.4238 - acc: 0.012 - ETA: 5:29 - loss: 5.4210 - acc: 0.013 - ETA: 5:26 - loss: 5.4187 - acc: 0.012 - ETA: 5:23 - loss: 5.4163 - acc: 0.012 - ETA: 5:20 - loss: 5.4145 - acc: 0.012 - ETA: 5:18 - loss: 5.4121 - acc: 0.012 - ETA: 5:15 - loss: 5.4098 - acc: 0.012 - ETA: 5:12 - loss: 5.4076 - acc: 0.012 - ETA: 5:10 - loss: 5.4049 - acc: 0.012 - ETA: 5:07 - loss: 5.4026 - acc: 0.012 - ETA: 5:04 - loss: 5.4004 - acc: 0.012 - ETA: 5:01 - loss: 5.3980 - acc: 0.012 - ETA: 4:59 - loss: 5.3957 - acc: 0.012 - ETA: 4:56 - loss: 5.3930 - acc: 0.012 - ETA: 4:53 - loss: 5.3905 - acc: 0.012 - ETA: 4:51 - loss: 5.3885 - acc: 0.012 - ETA: 4:48 - loss: 5.3860 - acc: 0.012 - ETA: 4:45 - loss: 5.3837 - acc: 0.012 - ETA: 4:42 - loss: 5.3814 - acc: 0.012 - ETA: 4:40 - loss: 5.3786 - acc: 0.012 - ETA: 4:37 - loss: 5.3763 - acc: 0.012 - ETA: 4:34 - loss: 5.3743 - acc: 0.012 - ETA: 4:32 - loss: 5.3718 - acc: 0.012 - ETA: 4:29 - loss: 5.3696 - acc: 0.012 - ETA: 4:26 - loss: 5.3674 - acc: 0.012 - ETA: 4:23 - loss: 5.3648 - acc: 0.012 - ETA: 4:21 - loss: 5.3621 - acc: 0.012 - ETA: 4:18 - loss: 5.3602 - acc: 0.012 - ETA: 4:15 - loss: 5.3582 - acc: 0.012 - ETA: 4:12 - loss: 5.3560 - acc: 0.012 - ETA: 4:10 - loss: 5.3534 - acc: 0.012 - ETA: 4:07 - loss: 5.3510 - acc: 0.012 - ETA: 4:04 - loss: 5.3488 - acc: 0.012 - ETA: 4:01 - loss: 5.3465 - acc: 0.012 - ETA: 3:58 - loss: 5.3443 - acc: 0.012 - ETA: 3:56 - loss: 5.3426 - acc: 0.012 - ETA: 3:53 - loss: 5.3404 - acc: 0.012 - ETA: 3:50 - loss: 5.3384 - acc: 0.012 - ETA: 3:47 - loss: 5.3367 - acc: 0.012 - ETA: 3:45 - loss: 5.3343 - acc: 0.012 - ETA: 3:42 - loss: 5.3328 - acc: 0.012 - ETA: 3:39 - loss: 5.3309 - acc: 0.012 - ETA: 3:36 - loss: 5.3287 - acc: 0.012 - ETA: 3:34 - loss: 5.3267 - acc: 0.012 - ETA: 3:31 - loss: 5.3248 - acc: 0.012 - ETA: 3:28 - loss: 5.3230 - acc: 0.012 - ETA: 3:25 - loss: 5.3215 - acc: 0.012 - ETA: 3:23 - loss: 5.3196 - acc: 0.012 - ETA: 3:20 - loss: 5.3178 - acc: 0.012 - ETA: 3:17 - loss: 5.3161 - acc: 0.012 - ETA: 3:15 - loss: 5.3143 - acc: 0.012 - ETA: 3:12 - loss: 5.3116 - acc: 0.012 - ETA: 3:09 - loss: 5.3102 - acc: 0.012 - ETA: 3:06 - loss: 5.3084 - acc: 0.012 - ETA: 3:04 - loss: 5.3064 - acc: 0.012 - ETA: 3:01 - loss: 5.3050 - acc: 0.012 - ETA: 2:58 - loss: 5.3036 - acc: 0.012 - ETA: 2:55 - loss: 5.3019 - acc: 0.012 - ETA: 2:53 - loss: 5.3000 - acc: 0.012 - ETA: 2:50 - loss: 5.2979 - acc: 0.013 - ETA: 2:47 - loss: 5.2968 - acc: 0.012 - ETA: 2:45 - loss: 5.2952 - acc: 0.012 - ETA: 2:42 - loss: 5.2933 - acc: 0.013 - ETA: 2:39 - loss: 5.2914 - acc: 0.013 - ETA: 2:36 - loss: 5.2901 - acc: 0.012 - ETA: 2:34 - loss: 5.2886 - acc: 0.012 - ETA: 2:31 - loss: 5.2867 - acc: 0.012 - ETA: 2:28 - loss: 5.2854 - acc: 0.012 - ETA: 2:26 - loss: 5.2838 - acc: 0.012 - ETA: 2:23 - loss: 5.2817 - acc: 0.012 - ETA: 2:20 - loss: 5.2799 - acc: 0.012 - ETA: 2:18 - loss: 5.2787 - acc: 0.012 - ETA: 2:15 - loss: 5.2770 - acc: 0.012 - ETA: 2:12 - loss: 5.2758 - acc: 0.012 - ETA: 2:09 - loss: 5.2738 - acc: 0.012 - ETA: 2:07 - loss: 5.2728 - acc: 0.012 - ETA: 2:04 - loss: 5.2713 - acc: 0.012 - ETA: 2:01 - loss: 5.2699 - acc: 0.012 - ETA: 1:59 - loss: 5.2684 - acc: 0.012 - ETA: 1:56 - loss: 5.2668 - acc: 0.012 - ETA: 1:53 - loss: 5.2652 - acc: 0.013 - ETA: 1:51 - loss: 5.2641 - acc: 0.013 - ETA: 1:48 - loss: 5.2625 - acc: 0.013 - ETA: 1:46 - loss: 5.2611 - acc: 0.012 - ETA: 1:43 - loss: 5.2593 - acc: 0.012 - ETA: 1:40 - loss: 5.2571 - acc: 0.012 - ETA: 1:37 - loss: 5.2560 - acc: 0.012 - ETA: 1:35 - loss: 5.2538 - acc: 0.012 - ETA: 1:32 - loss: 5.2525 - acc: 0.012 - ETA: 1:29 - loss: 5.2509 - acc: 0.012 - ETA: 1:27 - loss: 5.2496 - acc: 0.012 - ETA: 1:24 - loss: 5.2477 - acc: 0.012 - ETA: 1:21 - loss: 5.2485 - acc: 0.012 - ETA: 1:19 - loss: 5.2468 - acc: 0.012 - ETA: 1:16 - loss: 5.2451 - acc: 0.013 - ETA: 1:14 - loss: 5.2431 - acc: 0.013 - ETA: 1:11 - loss: 5.2419 - acc: 0.013 - ETA: 1:08 - loss: 5.2420 - acc: 0.013 - ETA: 1:06 - loss: 5.2401 - acc: 0.013 - ETA: 1:03 - loss: 5.2382 - acc: 0.013 - ETA: 1:00 - loss: 5.2367 - acc: 0.013 - ETA: 58s - loss: 5.2351 - acc: 0.013 - ETA: 55s - loss: 5.2339 - acc: 0.01 - ETA: 52s - loss: 5.2317 - acc: 0.01 - ETA: 50s - loss: 5.2304 - acc: 0.01 - ETA: 47s - loss: 5.2288 - acc: 0.01 - ETA: 44s - loss: 5.2279 - acc: 0.01 - ETA: 42s - loss: 5.2265 - acc: 0.01 - ETA: 39s - loss: 5.2252 - acc: 0.01 - ETA: 36s - loss: 5.2240 - acc: 0.01 - ETA: 34s - loss: 5.2224 - acc: 0.01 - ETA: 31s - loss: 5.2215 - acc: 0.01 - ETA: 29s - loss: 5.2200 - acc: 0.01 - ETA: 26s - loss: 5.2189 - acc: 0.01 - ETA: 23s - loss: 5.2177 - acc: 0.01 - ETA: 21s - loss: 5.2165 - acc: 0.01 - ETA: 18s - loss: 5.2152 - acc: 0.01 - ETA: 15s - loss: 5.2141 - acc: 0.01 - ETA: 13s - loss: 5.2127 - acc: 0.01 - ETA: 10s - loss: 5.2108 - acc: 0.01 - ETA: 7s - loss: 5.2102 - acc: 0.0144 - ETA: 5s - loss: 5.2088 - acc: 0.014 - ETA: 2s - loss: 5.2073 - acc: 0.014 - 906s 136ms/step - loss: 5.2051 - acc: 0.0142 - val_loss: 4.8512 - val_acc: 0.0263\n",
      "\n",
      "Epoch 00001: val_loss improved from inf to 4.85117, saving model to saved_models/weights.best.from_scratch.hdf5\n",
      "Epoch 2/10\n"
     ]
    },
    {
     "name": "stdout",
     "output_type": "stream",
     "text": [
      "4080/6680 [=================>............] - ETA: 14:18 - loss: 4.6119 - acc: 0.05 - ETA: 13:50 - loss: 4.5997 - acc: 0.02 - ETA: 13:37 - loss: 4.6034 - acc: 0.03 - ETA: 13:56 - loss: 4.5504 - acc: 0.05 - ETA: 13:48 - loss: 4.6180 - acc: 0.04 - ETA: 13:41 - loss: 4.5955 - acc: 0.04 - ETA: 13:37 - loss: 4.5759 - acc: 0.05 - ETA: 13:34 - loss: 4.5617 - acc: 0.04 - ETA: 13:30 - loss: 4.5482 - acc: 0.03 - ETA: 13:27 - loss: 4.5655 - acc: 0.04 - ETA: 13:49 - loss: 4.5671 - acc: 0.05 - ETA: 13:43 - loss: 4.5688 - acc: 0.04 - ETA: 13:42 - loss: 4.5636 - acc: 0.05 - ETA: 13:37 - loss: 4.5882 - acc: 0.04 - ETA: 13:32 - loss: 4.6179 - acc: 0.04 - ETA: 13:28 - loss: 4.6110 - acc: 0.04 - ETA: 13:23 - loss: 4.6062 - acc: 0.04 - ETA: 13:19 - loss: 4.6175 - acc: 0.04 - ETA: 13:15 - loss: 4.6107 - acc: 0.04 - ETA: 13:11 - loss: 4.6141 - acc: 0.04 - ETA: 13:08 - loss: 4.6122 - acc: 0.04 - ETA: 13:04 - loss: 4.6168 - acc: 0.04 - ETA: 13:00 - loss: 4.6183 - acc: 0.04 - ETA: 12:57 - loss: 4.6158 - acc: 0.04 - ETA: 12:53 - loss: 4.6110 - acc: 0.04 - ETA: 12:50 - loss: 4.6070 - acc: 0.04 - ETA: 12:46 - loss: 4.6161 - acc: 0.04 - ETA: 12:43 - loss: 4.6086 - acc: 0.04 - ETA: 12:40 - loss: 4.6050 - acc: 0.04 - ETA: 12:37 - loss: 4.6150 - acc: 0.04 - ETA: 12:34 - loss: 4.6154 - acc: 0.04 - ETA: 12:32 - loss: 4.6140 - acc: 0.04 - ETA: 12:29 - loss: 4.6136 - acc: 0.04 - ETA: 12:26 - loss: 4.6039 - acc: 0.04 - ETA: 12:23 - loss: 4.6046 - acc: 0.04 - ETA: 12:20 - loss: 4.6029 - acc: 0.04 - ETA: 12:17 - loss: 4.6183 - acc: 0.03 - ETA: 12:15 - loss: 4.6216 - acc: 0.03 - ETA: 12:12 - loss: 4.6206 - acc: 0.03 - ETA: 12:10 - loss: 4.6157 - acc: 0.04 - ETA: 12:07 - loss: 4.6178 - acc: 0.03 - ETA: 12:05 - loss: 4.6100 - acc: 0.04 - ETA: 12:02 - loss: 4.6000 - acc: 0.04 - ETA: 12:01 - loss: 4.6209 - acc: 0.04 - ETA: 11:58 - loss: 4.6265 - acc: 0.04 - ETA: 11:55 - loss: 4.6188 - acc: 0.04 - ETA: 11:53 - loss: 4.6219 - acc: 0.04 - ETA: 11:50 - loss: 4.6182 - acc: 0.04 - ETA: 11:47 - loss: 4.6160 - acc: 0.04 - ETA: 11:45 - loss: 4.6170 - acc: 0.04 - ETA: 11:42 - loss: 4.6139 - acc: 0.04 - ETA: 11:40 - loss: 4.6114 - acc: 0.04 - ETA: 11:37 - loss: 4.6058 - acc: 0.04 - ETA: 11:34 - loss: 4.6075 - acc: 0.04 - ETA: 11:31 - loss: 4.6104 - acc: 0.04 - ETA: 11:29 - loss: 4.6092 - acc: 0.04 - ETA: 11:26 - loss: 4.6061 - acc: 0.04 - ETA: 11:24 - loss: 4.6047 - acc: 0.04 - ETA: 11:21 - loss: 4.6001 - acc: 0.04 - ETA: 11:18 - loss: 4.5996 - acc: 0.04 - ETA: 11:15 - loss: 4.6006 - acc: 0.04 - ETA: 11:13 - loss: 4.6033 - acc: 0.04 - ETA: 11:10 - loss: 4.6045 - acc: 0.04 - ETA: 11:08 - loss: 4.5996 - acc: 0.04 - ETA: 11:05 - loss: 4.6039 - acc: 0.04 - ETA: 11:03 - loss: 4.6022 - acc: 0.04 - ETA: 11:00 - loss: 4.6052 - acc: 0.04 - ETA: 10:58 - loss: 4.5960 - acc: 0.04 - ETA: 10:55 - loss: 4.5992 - acc: 0.04 - ETA: 10:52 - loss: 4.6005 - acc: 0.04 - ETA: 10:50 - loss: 4.6015 - acc: 0.04 - ETA: 10:47 - loss: 4.5995 - acc: 0.04 - ETA: 10:45 - loss: 4.5954 - acc: 0.04 - ETA: 10:42 - loss: 4.5932 - acc: 0.04 - ETA: 10:40 - loss: 4.5926 - acc: 0.04 - ETA: 10:37 - loss: 4.5922 - acc: 0.04 - ETA: 10:34 - loss: 4.5905 - acc: 0.04 - ETA: 10:32 - loss: 4.5874 - acc: 0.04 - ETA: 10:29 - loss: 4.5935 - acc: 0.04 - ETA: 10:27 - loss: 4.5905 - acc: 0.04 - ETA: 10:24 - loss: 4.5847 - acc: 0.04 - ETA: 10:22 - loss: 4.5842 - acc: 0.04 - ETA: 10:19 - loss: 4.5807 - acc: 0.05 - ETA: 10:17 - loss: 4.5767 - acc: 0.05 - ETA: 10:14 - loss: 4.5711 - acc: 0.05 - ETA: 10:12 - loss: 4.5693 - acc: 0.05 - ETA: 10:09 - loss: 4.5709 - acc: 0.05 - ETA: 10:08 - loss: 4.5705 - acc: 0.05 - ETA: 10:05 - loss: 4.5697 - acc: 0.05 - ETA: 10:03 - loss: 4.5693 - acc: 0.05 - ETA: 10:00 - loss: 4.5687 - acc: 0.05 - ETA: 9:58 - loss: 4.5664 - acc: 0.0511 - ETA: 9:55 - loss: 4.5679 - acc: 0.050 - ETA: 9:52 - loss: 4.5668 - acc: 0.050 - ETA: 9:50 - loss: 4.5646 - acc: 0.050 - ETA: 9:47 - loss: 4.5608 - acc: 0.051 - ETA: 9:45 - loss: 4.5586 - acc: 0.051 - ETA: 9:42 - loss: 4.5553 - acc: 0.054 - ETA: 9:40 - loss: 4.5569 - acc: 0.054 - ETA: 9:38 - loss: 4.5559 - acc: 0.054 - ETA: 9:35 - loss: 4.5553 - acc: 0.054 - ETA: 9:32 - loss: 4.5514 - acc: 0.054 - ETA: 9:30 - loss: 4.5504 - acc: 0.054 - ETA: 9:27 - loss: 4.5483 - acc: 0.054 - ETA: 9:25 - loss: 4.5480 - acc: 0.054 - ETA: 9:22 - loss: 4.5482 - acc: 0.054 - ETA: 9:20 - loss: 4.5477 - acc: 0.054 - ETA: 9:18 - loss: 4.5492 - acc: 0.054 - ETA: 9:16 - loss: 4.5471 - acc: 0.054 - ETA: 9:13 - loss: 4.5380 - acc: 0.056 - ETA: 9:11 - loss: 4.5319 - acc: 0.058 - ETA: 9:08 - loss: 4.5379 - acc: 0.058 - ETA: 9:06 - loss: 4.5376 - acc: 0.058 - ETA: 9:03 - loss: 4.5393 - acc: 0.058 - ETA: 9:00 - loss: 4.5374 - acc: 0.058 - ETA: 8:58 - loss: 4.5381 - acc: 0.059 - ETA: 8:55 - loss: 4.5348 - acc: 0.060 - ETA: 8:53 - loss: 4.5347 - acc: 0.060 - ETA: 8:50 - loss: 4.5334 - acc: 0.060 - ETA: 8:48 - loss: 4.5322 - acc: 0.060 - ETA: 8:45 - loss: 4.5316 - acc: 0.060 - ETA: 8:43 - loss: 4.5302 - acc: 0.061 - ETA: 8:40 - loss: 4.5267 - acc: 0.062 - ETA: 8:38 - loss: 4.5251 - acc: 0.062 - ETA: 8:35 - loss: 4.5252 - acc: 0.062 - ETA: 8:33 - loss: 4.5259 - acc: 0.062 - ETA: 8:30 - loss: 4.5253 - acc: 0.063 - ETA: 8:28 - loss: 4.5252 - acc: 0.062 - ETA: 8:25 - loss: 4.5258 - acc: 0.062 - ETA: 8:23 - loss: 4.5265 - acc: 0.062 - ETA: 8:20 - loss: 4.5261 - acc: 0.063 - ETA: 8:18 - loss: 4.5250 - acc: 0.063 - ETA: 8:15 - loss: 4.5241 - acc: 0.062 - ETA: 8:13 - loss: 4.5233 - acc: 0.062 - ETA: 8:10 - loss: 4.5205 - acc: 0.063 - ETA: 8:08 - loss: 4.5222 - acc: 0.063 - ETA: 8:05 - loss: 4.5218 - acc: 0.063 - ETA: 8:03 - loss: 4.5208 - acc: 0.063 - ETA: 8:00 - loss: 4.5161 - acc: 0.062 - ETA: 7:58 - loss: 4.5224 - acc: 0.062 - ETA: 7:55 - loss: 4.5243 - acc: 0.062 - ETA: 7:53 - loss: 4.5229 - acc: 0.062 - ETA: 7:50 - loss: 4.5213 - acc: 0.062 - ETA: 7:48 - loss: 4.5196 - acc: 0.062 - ETA: 7:45 - loss: 4.5159 - acc: 0.063 - ETA: 7:43 - loss: 4.5155 - acc: 0.063 - ETA: 7:40 - loss: 4.5207 - acc: 0.062 - ETA: 7:38 - loss: 4.5201 - acc: 0.062 - ETA: 7:35 - loss: 4.5166 - acc: 0.063 - ETA: 7:33 - loss: 4.5154 - acc: 0.063 - ETA: 7:30 - loss: 4.5240 - acc: 0.062 - ETA: 7:28 - loss: 4.5243 - acc: 0.062 - ETA: 7:25 - loss: 4.5243 - acc: 0.062 - ETA: 7:23 - loss: 4.5232 - acc: 0.063 - ETA: 7:20 - loss: 4.5227 - acc: 0.063 - ETA: 7:18 - loss: 4.5225 - acc: 0.063 - ETA: 7:15 - loss: 4.5205 - acc: 0.063 - ETA: 7:13 - loss: 4.5196 - acc: 0.063 - ETA: 7:10 - loss: 4.5170 - acc: 0.063 - ETA: 7:08 - loss: 4.5192 - acc: 0.062 - ETA: 7:05 - loss: 4.5191 - acc: 0.063 - ETA: 7:03 - loss: 4.5193 - acc: 0.063 - ETA: 7:00 - loss: 4.5204 - acc: 0.062 - ETA: 6:58 - loss: 4.5190 - acc: 0.062 - ETA: 6:56 - loss: 4.5174 - acc: 0.063 - ETA: 6:53 - loss: 4.5188 - acc: 0.063 - ETA: 6:51 - loss: 4.5167 - acc: 0.064 - ETA: 6:48 - loss: 4.5145 - acc: 0.063 - ETA: 6:46 - loss: 4.5131 - acc: 0.063 - ETA: 6:43 - loss: 4.5125 - acc: 0.063 - ETA: 6:41 - loss: 4.5114 - acc: 0.063 - ETA: 6:38 - loss: 4.5122 - acc: 0.063 - ETA: 6:36 - loss: 4.5121 - acc: 0.063 - ETA: 6:33 - loss: 4.5123 - acc: 0.062 - ETA: 6:31 - loss: 4.5082 - acc: 0.064 - ETA: 6:28 - loss: 4.5090 - acc: 0.063 - ETA: 6:26 - loss: 4.5102 - acc: 0.063 - ETA: 6:23 - loss: 4.5086 - acc: 0.064 - ETA: 6:21 - loss: 4.5100 - acc: 0.064 - ETA: 6:18 - loss: 4.5083 - acc: 0.064 - ETA: 6:16 - loss: 4.5066 - acc: 0.064 - ETA: 6:13 - loss: 4.5069 - acc: 0.063 - ETA: 6:11 - loss: 4.5048 - acc: 0.064 - ETA: 6:09 - loss: 4.5059 - acc: 0.064 - ETA: 6:06 - loss: 4.5045 - acc: 0.064 - ETA: 6:04 - loss: 4.5019 - acc: 0.064 - ETA: 6:01 - loss: 4.5012 - acc: 0.064 - ETA: 5:59 - loss: 4.5000 - acc: 0.064 - ETA: 5:57 - loss: 4.4994 - acc: 0.064 - ETA: 5:54 - loss: 4.4996 - acc: 0.063 - ETA: 5:52 - loss: 4.4972 - acc: 0.064 - ETA: 5:49 - loss: 4.4989 - acc: 0.064 - ETA: 5:47 - loss: 4.4984 - acc: 0.064 - ETA: 5:44 - loss: 4.4968 - acc: 0.065 - ETA: 5:42 - loss: 4.4938 - acc: 0.065 - ETA: 5:39 - loss: 4.4957 - acc: 0.065 - ETA: 5:37 - loss: 4.4977 - acc: 0.065 - ETA: 5:34 - loss: 4.4983 - acc: 0.065 - ETA: 5:32 - loss: 4.4972 - acc: 0.065 - ETA: 5:29 - loss: 4.4977 - acc: 0.065 - ETA: 5:27 - loss: 4.4953 - acc: 0.065 - ETA: 5:24 - loss: 4.4958 - acc: 0.065 - ETA: 5:22 - loss: 4.4931 - acc: 0.065 - ETA: 5:19 - loss: 4.4924 - acc: 0.0657"
     ]
    },
    {
     "name": "stdout",
     "output_type": "stream",
     "text": [
      "6680/6680 [==============================] - ETA: 5:17 - loss: 4.4910 - acc: 0.066 - ETA: 5:14 - loss: 4.4903 - acc: 0.066 - ETA: 5:12 - loss: 4.4916 - acc: 0.065 - ETA: 5:10 - loss: 4.4891 - acc: 0.066 - ETA: 5:07 - loss: 4.4867 - acc: 0.066 - ETA: 5:05 - loss: 4.4854 - acc: 0.065 - ETA: 5:02 - loss: 4.4850 - acc: 0.065 - ETA: 5:00 - loss: 4.4846 - acc: 0.065 - ETA: 4:57 - loss: 4.4835 - acc: 0.065 - ETA: 4:55 - loss: 4.4842 - acc: 0.065 - ETA: 4:52 - loss: 4.4826 - acc: 0.065 - ETA: 4:50 - loss: 4.4829 - acc: 0.065 - ETA: 4:47 - loss: 4.4826 - acc: 0.066 - ETA: 4:45 - loss: 4.4829 - acc: 0.066 - ETA: 4:42 - loss: 4.4816 - acc: 0.066 - ETA: 4:40 - loss: 4.4818 - acc: 0.066 - ETA: 4:38 - loss: 4.4802 - acc: 0.066 - ETA: 4:35 - loss: 4.4795 - acc: 0.066 - ETA: 4:33 - loss: 4.4768 - acc: 0.067 - ETA: 4:30 - loss: 4.4748 - acc: 0.067 - ETA: 4:28 - loss: 4.4753 - acc: 0.067 - ETA: 4:25 - loss: 4.4744 - acc: 0.068 - ETA: 4:23 - loss: 4.4753 - acc: 0.068 - ETA: 4:21 - loss: 4.4751 - acc: 0.068 - ETA: 4:18 - loss: 4.4741 - acc: 0.069 - ETA: 4:16 - loss: 4.4729 - acc: 0.069 - ETA: 4:13 - loss: 4.4718 - acc: 0.069 - ETA: 4:11 - loss: 4.4714 - acc: 0.069 - ETA: 4:08 - loss: 4.4727 - acc: 0.069 - ETA: 4:06 - loss: 4.4716 - acc: 0.069 - ETA: 4:03 - loss: 4.4727 - acc: 0.068 - ETA: 4:01 - loss: 4.4711 - acc: 0.069 - ETA: 3:58 - loss: 4.4691 - acc: 0.069 - ETA: 3:56 - loss: 4.4668 - acc: 0.070 - ETA: 3:53 - loss: 4.4671 - acc: 0.070 - ETA: 3:51 - loss: 4.4645 - acc: 0.070 - ETA: 3:49 - loss: 4.4642 - acc: 0.071 - ETA: 3:46 - loss: 4.4622 - acc: 0.071 - ETA: 3:44 - loss: 4.4594 - acc: 0.071 - ETA: 3:41 - loss: 4.4583 - acc: 0.071 - ETA: 3:39 - loss: 4.4557 - acc: 0.072 - ETA: 3:36 - loss: 4.4550 - acc: 0.072 - ETA: 3:34 - loss: 4.4537 - acc: 0.072 - ETA: 3:31 - loss: 4.4529 - acc: 0.072 - ETA: 3:29 - loss: 4.4524 - acc: 0.072 - ETA: 3:26 - loss: 4.4512 - acc: 0.072 - ETA: 3:24 - loss: 4.4510 - acc: 0.072 - ETA: 3:21 - loss: 4.4497 - acc: 0.072 - ETA: 3:19 - loss: 4.4494 - acc: 0.072 - ETA: 3:16 - loss: 4.4478 - acc: 0.073 - ETA: 3:14 - loss: 4.4481 - acc: 0.072 - ETA: 3:12 - loss: 4.4480 - acc: 0.072 - ETA: 3:09 - loss: 4.4472 - acc: 0.072 - ETA: 3:07 - loss: 4.4465 - acc: 0.072 - ETA: 3:04 - loss: 4.4461 - acc: 0.072 - ETA: 3:02 - loss: 4.4455 - acc: 0.072 - ETA: 2:59 - loss: 4.4450 - acc: 0.072 - ETA: 2:57 - loss: 4.4438 - acc: 0.072 - ETA: 2:54 - loss: 4.4431 - acc: 0.072 - ETA: 2:52 - loss: 4.4427 - acc: 0.072 - ETA: 2:49 - loss: 4.4426 - acc: 0.072 - ETA: 2:47 - loss: 4.4422 - acc: 0.072 - ETA: 2:45 - loss: 4.4425 - acc: 0.072 - ETA: 2:42 - loss: 4.4408 - acc: 0.072 - ETA: 2:40 - loss: 4.4409 - acc: 0.072 - ETA: 2:37 - loss: 4.4397 - acc: 0.073 - ETA: 2:35 - loss: 4.4382 - acc: 0.073 - ETA: 2:32 - loss: 4.4380 - acc: 0.073 - ETA: 2:30 - loss: 4.4394 - acc: 0.073 - ETA: 2:27 - loss: 4.4395 - acc: 0.073 - ETA: 2:25 - loss: 4.4378 - acc: 0.073 - ETA: 2:22 - loss: 4.4381 - acc: 0.073 - ETA: 2:20 - loss: 4.4398 - acc: 0.073 - ETA: 2:17 - loss: 4.4389 - acc: 0.072 - ETA: 2:15 - loss: 4.4382 - acc: 0.072 - ETA: 2:12 - loss: 4.4360 - acc: 0.073 - ETA: 2:10 - loss: 4.4358 - acc: 0.073 - ETA: 2:08 - loss: 4.4350 - acc: 0.073 - ETA: 2:05 - loss: 4.4344 - acc: 0.073 - ETA: 2:03 - loss: 4.4329 - acc: 0.073 - ETA: 2:00 - loss: 4.4323 - acc: 0.073 - ETA: 1:58 - loss: 4.4318 - acc: 0.073 - ETA: 1:55 - loss: 4.4305 - acc: 0.073 - ETA: 1:53 - loss: 4.4307 - acc: 0.073 - ETA: 1:50 - loss: 4.4286 - acc: 0.074 - ETA: 1:48 - loss: 4.4264 - acc: 0.074 - ETA: 1:45 - loss: 4.4259 - acc: 0.075 - ETA: 1:43 - loss: 4.4247 - acc: 0.075 - ETA: 1:40 - loss: 4.4240 - acc: 0.075 - ETA: 1:38 - loss: 4.4222 - acc: 0.075 - ETA: 1:36 - loss: 4.4216 - acc: 0.075 - ETA: 1:33 - loss: 4.4194 - acc: 0.075 - ETA: 1:31 - loss: 4.4186 - acc: 0.075 - ETA: 1:28 - loss: 4.4175 - acc: 0.075 - ETA: 1:26 - loss: 4.4182 - acc: 0.075 - ETA: 1:23 - loss: 4.4172 - acc: 0.075 - ETA: 1:21 - loss: 4.4172 - acc: 0.075 - ETA: 1:18 - loss: 4.4161 - acc: 0.075 - ETA: 1:16 - loss: 4.4169 - acc: 0.075 - ETA: 1:13 - loss: 4.4158 - acc: 0.075 - ETA: 1:11 - loss: 4.4165 - acc: 0.075 - ETA: 1:08 - loss: 4.4163 - acc: 0.075 - ETA: 1:06 - loss: 4.4149 - acc: 0.075 - ETA: 1:04 - loss: 4.4141 - acc: 0.075 - ETA: 1:01 - loss: 4.4135 - acc: 0.075 - ETA: 59s - loss: 4.4130 - acc: 0.075 - ETA: 56s - loss: 4.4123 - acc: 0.07 - ETA: 54s - loss: 4.4112 - acc: 0.07 - ETA: 51s - loss: 4.4111 - acc: 0.07 - ETA: 49s - loss: 4.4108 - acc: 0.07 - ETA: 46s - loss: 4.4111 - acc: 0.07 - ETA: 44s - loss: 4.4108 - acc: 0.07 - ETA: 41s - loss: 4.4110 - acc: 0.07 - ETA: 39s - loss: 4.4097 - acc: 0.07 - ETA: 36s - loss: 4.4098 - acc: 0.07 - ETA: 34s - loss: 4.4091 - acc: 0.07 - ETA: 32s - loss: 4.4081 - acc: 0.07 - ETA: 29s - loss: 4.4071 - acc: 0.07 - ETA: 27s - loss: 4.4047 - acc: 0.07 - ETA: 24s - loss: 4.4041 - acc: 0.07 - ETA: 22s - loss: 4.4041 - acc: 0.07 - ETA: 19s - loss: 4.4028 - acc: 0.07 - ETA: 17s - loss: 4.4023 - acc: 0.07 - ETA: 14s - loss: 4.4018 - acc: 0.07 - ETA: 12s - loss: 4.4015 - acc: 0.07 - ETA: 9s - loss: 4.4008 - acc: 0.0761 - ETA: 7s - loss: 4.3999 - acc: 0.076 - ETA: 4s - loss: 4.4001 - acc: 0.076 - ETA: 2s - loss: 4.3989 - acc: 0.076 - 849s 127ms/step - loss: 4.3987 - acc: 0.0763 - val_loss: 4.6359 - val_acc: 0.0527\n",
      "\n",
      "Epoch 00002: val_loss improved from 4.85117 to 4.63587, saving model to saved_models/weights.best.from_scratch.hdf5\n",
      "Epoch 3/10\n",
      "4080/6680 [=================>............] - ETA: 17:13 - loss: 3.4471 - acc: 0.30 - ETA: 15:19 - loss: 3.1183 - acc: 0.35 - ETA: 14:39 - loss: 2.9743 - acc: 0.36 - ETA: 14:20 - loss: 3.0006 - acc: 0.33 - ETA: 14:05 - loss: 3.0783 - acc: 0.33 - ETA: 13:55 - loss: 3.0052 - acc: 0.35 - ETA: 13:44 - loss: 2.9894 - acc: 0.35 - ETA: 13:38 - loss: 3.1867 - acc: 0.32 - ETA: 13:34 - loss: 3.1321 - acc: 0.33 - ETA: 13:30 - loss: 3.1251 - acc: 0.33 - ETA: 13:29 - loss: 3.0562 - acc: 0.34 - ETA: 13:23 - loss: 3.0836 - acc: 0.33 - ETA: 13:19 - loss: 3.0634 - acc: 0.33 - ETA: 13:15 - loss: 3.0279 - acc: 0.33 - ETA: 13:11 - loss: 3.0548 - acc: 0.32 - ETA: 13:08 - loss: 3.0527 - acc: 0.33 - ETA: 13:04 - loss: 3.0522 - acc: 0.32 - ETA: 13:01 - loss: 3.0428 - acc: 0.32 - ETA: 12:58 - loss: 2.9883 - acc: 0.34 - ETA: 12:55 - loss: 2.9565 - acc: 0.34 - ETA: 12:51 - loss: 2.9599 - acc: 0.34 - ETA: 12:48 - loss: 2.9483 - acc: 0.34 - ETA: 12:46 - loss: 2.9309 - acc: 0.35 - ETA: 12:43 - loss: 2.8955 - acc: 0.36 - ETA: 12:40 - loss: 2.8660 - acc: 0.36 - ETA: 12:37 - loss: 2.8334 - acc: 0.36 - ETA: 12:34 - loss: 2.8332 - acc: 0.36 - ETA: 12:32 - loss: 2.8399 - acc: 0.37 - ETA: 12:29 - loss: 2.8616 - acc: 0.36 - ETA: 12:26 - loss: 2.8556 - acc: 0.36 - ETA: 12:23 - loss: 2.8597 - acc: 0.36 - ETA: 12:21 - loss: 2.8509 - acc: 0.36 - ETA: 12:18 - loss: 2.8294 - acc: 0.36 - ETA: 12:16 - loss: 2.8152 - acc: 0.37 - ETA: 12:14 - loss: 2.8033 - acc: 0.37 - ETA: 12:12 - loss: 2.7786 - acc: 0.37 - ETA: 12:09 - loss: 2.7839 - acc: 0.37 - ETA: 12:06 - loss: 2.7753 - acc: 0.37 - ETA: 12:03 - loss: 2.7847 - acc: 0.37 - ETA: 12:01 - loss: 2.7831 - acc: 0.37 - ETA: 11:58 - loss: 2.7987 - acc: 0.37 - ETA: 11:56 - loss: 2.7972 - acc: 0.37 - ETA: 11:53 - loss: 2.7915 - acc: 0.37 - ETA: 11:50 - loss: 2.8042 - acc: 0.37 - ETA: 11:48 - loss: 2.8001 - acc: 0.37 - ETA: 11:45 - loss: 2.7874 - acc: 0.37 - ETA: 11:43 - loss: 2.7763 - acc: 0.37 - ETA: 11:40 - loss: 2.7663 - acc: 0.37 - ETA: 11:38 - loss: 2.7621 - acc: 0.37 - ETA: 11:35 - loss: 2.7536 - acc: 0.38 - ETA: 11:33 - loss: 2.7473 - acc: 0.37 - ETA: 11:30 - loss: 2.7673 - acc: 0.37 - ETA: 11:27 - loss: 2.7659 - acc: 0.37 - ETA: 11:25 - loss: 2.7680 - acc: 0.37 - ETA: 11:22 - loss: 2.7571 - acc: 0.37 - ETA: 11:20 - loss: 2.7416 - acc: 0.37 - ETA: 11:17 - loss: 2.7421 - acc: 0.37 - ETA: 11:15 - loss: 2.7417 - acc: 0.37 - ETA: 11:13 - loss: 2.7466 - acc: 0.37 - ETA: 11:10 - loss: 2.7530 - acc: 0.37 - ETA: 11:08 - loss: 2.7472 - acc: 0.37 - ETA: 11:05 - loss: 2.7437 - acc: 0.37 - ETA: 11:03 - loss: 2.7431 - acc: 0.37 - ETA: 11:00 - loss: 2.7460 - acc: 0.37 - ETA: 10:58 - loss: 2.7390 - acc: 0.37 - ETA: 10:55 - loss: 2.7256 - acc: 0.37 - ETA: 10:53 - loss: 2.7158 - acc: 0.37 - ETA: 10:50 - loss: 2.7148 - acc: 0.38 - ETA: 10:48 - loss: 2.7141 - acc: 0.37 - ETA: 10:45 - loss: 2.7062 - acc: 0.38 - ETA: 10:43 - loss: 2.7039 - acc: 0.38 - ETA: 10:40 - loss: 2.7095 - acc: 0.37 - ETA: 10:38 - loss: 2.7132 - acc: 0.37 - ETA: 10:35 - loss: 2.7130 - acc: 0.37 - ETA: 10:33 - loss: 2.7083 - acc: 0.37 - ETA: 10:31 - loss: 2.7147 - acc: 0.37 - ETA: 10:28 - loss: 2.7248 - acc: 0.37 - ETA: 10:26 - loss: 2.7134 - acc: 0.37 - ETA: 10:23 - loss: 2.7108 - acc: 0.37 - ETA: 10:21 - loss: 2.7077 - acc: 0.37 - ETA: 10:18 - loss: 2.7114 - acc: 0.37 - ETA: 10:16 - loss: 2.7135 - acc: 0.37 - ETA: 10:14 - loss: 2.7103 - acc: 0.37 - ETA: 10:11 - loss: 2.7048 - acc: 0.38 - ETA: 10:08 - loss: 2.6987 - acc: 0.38 - ETA: 10:06 - loss: 2.6917 - acc: 0.38 - ETA: 10:04 - loss: 2.6960 - acc: 0.38 - ETA: 10:01 - loss: 2.6873 - acc: 0.38 - ETA: 9:59 - loss: 2.6772 - acc: 0.3860 - ETA: 9:56 - loss: 2.6769 - acc: 0.386 - ETA: 9:54 - loss: 2.6857 - acc: 0.385 - ETA: 9:51 - loss: 2.6801 - acc: 0.388 - ETA: 9:49 - loss: 2.6804 - acc: 0.387 - ETA: 9:46 - loss: 2.6811 - acc: 0.386 - ETA: 9:44 - loss: 2.6950 - acc: 0.384 - ETA: 9:41 - loss: 2.6946 - acc: 0.383 - ETA: 9:39 - loss: 2.6998 - acc: 0.383 - ETA: 9:36 - loss: 2.6962 - acc: 0.385 - ETA: 9:34 - loss: 2.6968 - acc: 0.384 - ETA: 9:31 - loss: 2.6975 - acc: 0.384 - ETA: 9:29 - loss: 2.6992 - acc: 0.383 - ETA: 9:27 - loss: 2.6982 - acc: 0.383 - ETA: 9:24 - loss: 2.6933 - acc: 0.384 - ETA: 9:22 - loss: 2.6884 - acc: 0.384 - ETA: 9:19 - loss: 2.6861 - acc: 0.385 - ETA: 9:17 - loss: 2.6744 - acc: 0.388 - ETA: 9:14 - loss: 2.6716 - acc: 0.388 - ETA: 9:12 - loss: 2.6648 - acc: 0.389 - ETA: 9:09 - loss: 2.6667 - acc: 0.388 - ETA: 9:07 - loss: 2.6698 - acc: 0.388 - ETA: 9:05 - loss: 2.6662 - acc: 0.389 - ETA: 9:02 - loss: 2.6641 - acc: 0.390 - ETA: 9:00 - loss: 2.6636 - acc: 0.389 - ETA: 8:57 - loss: 2.6614 - acc: 0.391 - ETA: 8:55 - loss: 2.6609 - acc: 0.391 - ETA: 8:52 - loss: 2.6589 - acc: 0.391 - ETA: 8:50 - loss: 2.6561 - acc: 0.392 - ETA: 8:47 - loss: 2.6494 - acc: 0.394 - ETA: 8:45 - loss: 2.6464 - acc: 0.395 - ETA: 8:43 - loss: 2.6515 - acc: 0.394 - ETA: 8:40 - loss: 2.6426 - acc: 0.396 - ETA: 8:38 - loss: 2.6395 - acc: 0.395 - ETA: 8:35 - loss: 2.6474 - acc: 0.395 - ETA: 8:33 - loss: 2.6434 - acc: 0.396 - ETA: 8:30 - loss: 2.6477 - acc: 0.396 - ETA: 8:28 - loss: 2.6457 - acc: 0.395 - ETA: 8:25 - loss: 2.6470 - acc: 0.395 - ETA: 8:23 - loss: 2.6477 - acc: 0.394 - ETA: 8:20 - loss: 2.6505 - acc: 0.393 - ETA: 8:18 - loss: 2.6581 - acc: 0.392 - ETA: 8:15 - loss: 2.6542 - acc: 0.392 - ETA: 8:13 - loss: 2.6476 - acc: 0.394 - ETA: 8:11 - loss: 2.6408 - acc: 0.396 - ETA: 8:08 - loss: 2.6417 - acc: 0.395 - ETA: 8:06 - loss: 2.6441 - acc: 0.395 - ETA: 8:03 - loss: 2.6479 - acc: 0.396 - ETA: 8:01 - loss: 2.6462 - acc: 0.395 - ETA: 7:58 - loss: 2.6511 - acc: 0.395 - ETA: 7:56 - loss: 2.6530 - acc: 0.395 - ETA: 7:54 - loss: 2.6550 - acc: 0.395 - ETA: 7:51 - loss: 2.6501 - acc: 0.395 - ETA: 7:49 - loss: 2.6485 - acc: 0.395 - ETA: 7:46 - loss: 2.6494 - acc: 0.395 - ETA: 7:44 - loss: 2.6459 - acc: 0.396 - ETA: 7:41 - loss: 2.6440 - acc: 0.397 - ETA: 7:39 - loss: 2.6450 - acc: 0.396 - ETA: 7:36 - loss: 2.6407 - acc: 0.398 - ETA: 7:34 - loss: 2.6457 - acc: 0.396 - ETA: 7:31 - loss: 2.6433 - acc: 0.397 - ETA: 7:29 - loss: 2.6442 - acc: 0.396 - ETA: 7:27 - loss: 2.6464 - acc: 0.395 - ETA: 7:24 - loss: 2.6484 - acc: 0.395 - ETA: 7:22 - loss: 2.6471 - acc: 0.396 - ETA: 7:19 - loss: 2.6524 - acc: 0.395 - ETA: 7:17 - loss: 2.6537 - acc: 0.394 - ETA: 7:14 - loss: 2.6509 - acc: 0.394 - ETA: 7:12 - loss: 2.6464 - acc: 0.396 - ETA: 7:10 - loss: 2.6407 - acc: 0.397 - ETA: 7:07 - loss: 2.6395 - acc: 0.397 - ETA: 7:05 - loss: 2.6407 - acc: 0.397 - ETA: 7:02 - loss: 2.6393 - acc: 0.397 - ETA: 7:00 - loss: 2.6403 - acc: 0.396 - ETA: 6:57 - loss: 2.6409 - acc: 0.396 - ETA: 6:55 - loss: 2.6431 - acc: 0.396 - ETA: 6:52 - loss: 2.6384 - acc: 0.397 - ETA: 6:50 - loss: 2.6350 - acc: 0.397 - ETA: 6:48 - loss: 2.6439 - acc: 0.396 - ETA: 6:45 - loss: 2.6471 - acc: 0.396 - ETA: 6:43 - loss: 2.6502 - acc: 0.395 - ETA: 6:40 - loss: 2.6478 - acc: 0.396 - ETA: 6:38 - loss: 2.6525 - acc: 0.395 - ETA: 6:35 - loss: 2.6504 - acc: 0.397 - ETA: 6:33 - loss: 2.6516 - acc: 0.397 - ETA: 6:30 - loss: 2.6495 - acc: 0.397 - ETA: 6:28 - loss: 2.6484 - acc: 0.397 - ETA: 6:25 - loss: 2.6491 - acc: 0.397 - ETA: 6:23 - loss: 2.6474 - acc: 0.398 - ETA: 6:21 - loss: 2.6466 - acc: 0.398 - ETA: 6:18 - loss: 2.6491 - acc: 0.398 - ETA: 6:16 - loss: 2.6481 - acc: 0.398 - ETA: 6:13 - loss: 2.6480 - acc: 0.398 - ETA: 6:11 - loss: 2.6455 - acc: 0.399 - ETA: 6:08 - loss: 2.6430 - acc: 0.398 - ETA: 6:06 - loss: 2.6438 - acc: 0.398 - ETA: 6:03 - loss: 2.6504 - acc: 0.396 - ETA: 6:01 - loss: 2.6507 - acc: 0.396 - ETA: 5:59 - loss: 2.6491 - acc: 0.396 - ETA: 5:56 - loss: 2.6517 - acc: 0.396 - ETA: 5:54 - loss: 2.6506 - acc: 0.395 - ETA: 5:51 - loss: 2.6498 - acc: 0.396 - ETA: 5:49 - loss: 2.6509 - acc: 0.396 - ETA: 5:46 - loss: 2.6505 - acc: 0.396 - ETA: 5:44 - loss: 2.6522 - acc: 0.395 - ETA: 5:41 - loss: 2.6527 - acc: 0.395 - ETA: 5:39 - loss: 2.6497 - acc: 0.396 - ETA: 5:37 - loss: 2.6483 - acc: 0.396 - ETA: 5:34 - loss: 2.6483 - acc: 0.397 - ETA: 5:32 - loss: 2.6451 - acc: 0.397 - ETA: 5:29 - loss: 2.6432 - acc: 0.398 - ETA: 5:27 - loss: 2.6443 - acc: 0.397 - ETA: 5:24 - loss: 2.6411 - acc: 0.398 - ETA: 5:22 - loss: 2.6381 - acc: 0.399 - ETA: 5:19 - loss: 2.6331 - acc: 0.400 - ETA: 5:17 - loss: 2.6317 - acc: 0.40106680/6680 [==============================] - ETA: 5:15 - loss: 2.6285 - acc: 0.402 - ETA: 5:12 - loss: 2.6295 - acc: 0.401 - ETA: 5:10 - loss: 2.6280 - acc: 0.401 - ETA: 5:07 - loss: 2.6269 - acc: 0.401 - ETA: 5:05 - loss: 2.6264 - acc: 0.401 - ETA: 5:02 - loss: 2.6257 - acc: 0.401 - ETA: 5:00 - loss: 2.6274 - acc: 0.400 - ETA: 4:57 - loss: 2.6248 - acc: 0.400 - ETA: 4:55 - loss: 2.6231 - acc: 0.401 - ETA: 4:53 - loss: 2.6233 - acc: 0.400 - ETA: 4:50 - loss: 2.6226 - acc: 0.400 - ETA: 4:48 - loss: 2.6218 - acc: 0.400 - ETA: 4:45 - loss: 2.6205 - acc: 0.400 - ETA: 4:43 - loss: 2.6224 - acc: 0.400 - ETA: 4:40 - loss: 2.6246 - acc: 0.400 - ETA: 4:38 - loss: 2.6245 - acc: 0.400 - ETA: 4:35 - loss: 2.6235 - acc: 0.399 - ETA: 4:33 - loss: 2.6219 - acc: 0.400 - ETA: 4:31 - loss: 2.6211 - acc: 0.400 - ETA: 4:28 - loss: 2.6236 - acc: 0.400 - ETA: 4:26 - loss: 2.6243 - acc: 0.400 - ETA: 4:23 - loss: 2.6252 - acc: 0.399 - ETA: 4:21 - loss: 2.6246 - acc: 0.399 - ETA: 4:18 - loss: 2.6239 - acc: 0.399 - ETA: 4:16 - loss: 2.6235 - acc: 0.399 - ETA: 4:13 - loss: 2.6236 - acc: 0.398 - ETA: 4:11 - loss: 2.6203 - acc: 0.399 - ETA: 4:09 - loss: 2.6259 - acc: 0.398 - ETA: 4:06 - loss: 2.6230 - acc: 0.399 - ETA: 4:04 - loss: 2.6233 - acc: 0.399 - ETA: 4:01 - loss: 2.6231 - acc: 0.399 - ETA: 3:59 - loss: 2.6223 - acc: 0.399 - ETA: 3:56 - loss: 2.6198 - acc: 0.399 - ETA: 3:54 - loss: 2.6215 - acc: 0.399 - ETA: 3:51 - loss: 2.6223 - acc: 0.399 - ETA: 3:49 - loss: 2.6254 - acc: 0.398 - ETA: 3:47 - loss: 2.6266 - acc: 0.398 - ETA: 3:44 - loss: 2.6269 - acc: 0.397 - ETA: 3:42 - loss: 2.6272 - acc: 0.397 - ETA: 3:39 - loss: 2.6221 - acc: 0.398 - ETA: 3:37 - loss: 2.6210 - acc: 0.399 - ETA: 3:34 - loss: 2.6237 - acc: 0.397 - ETA: 3:32 - loss: 2.6195 - acc: 0.398 - ETA: 3:29 - loss: 2.6191 - acc: 0.399 - ETA: 3:27 - loss: 2.6199 - acc: 0.398 - ETA: 3:25 - loss: 2.6214 - acc: 0.398 - ETA: 3:22 - loss: 2.6204 - acc: 0.398 - ETA: 3:20 - loss: 2.6191 - acc: 0.398 - ETA: 3:17 - loss: 2.6164 - acc: 0.399 - ETA: 3:15 - loss: 2.6181 - acc: 0.398 - ETA: 3:12 - loss: 2.6158 - acc: 0.399 - ETA: 3:10 - loss: 2.6150 - acc: 0.400 - ETA: 3:08 - loss: 2.6126 - acc: 0.400 - ETA: 3:05 - loss: 2.6136 - acc: 0.399 - ETA: 3:03 - loss: 2.6136 - acc: 0.399 - ETA: 3:00 - loss: 2.6139 - acc: 0.399 - ETA: 2:58 - loss: 2.6101 - acc: 0.401 - ETA: 2:55 - loss: 2.6112 - acc: 0.400 - ETA: 2:53 - loss: 2.6085 - acc: 0.401 - ETA: 2:50 - loss: 2.6071 - acc: 0.400 - ETA: 2:48 - loss: 2.6089 - acc: 0.400 - ETA: 2:46 - loss: 2.6097 - acc: 0.400 - ETA: 2:43 - loss: 2.6112 - acc: 0.400 - ETA: 2:41 - loss: 2.6139 - acc: 0.399 - ETA: 2:38 - loss: 2.6139 - acc: 0.400 - ETA: 2:36 - loss: 2.6123 - acc: 0.400 - ETA: 2:33 - loss: 2.6114 - acc: 0.400 - ETA: 2:31 - loss: 2.6134 - acc: 0.399 - ETA: 2:28 - loss: 2.6112 - acc: 0.399 - ETA: 2:26 - loss: 2.6116 - acc: 0.399 - ETA: 2:24 - loss: 2.6106 - acc: 0.399 - ETA: 2:21 - loss: 2.6101 - acc: 0.399 - ETA: 2:19 - loss: 2.6108 - acc: 0.399 - ETA: 2:16 - loss: 2.6167 - acc: 0.398 - ETA: 2:14 - loss: 2.6181 - acc: 0.398 - ETA: 2:11 - loss: 2.6179 - acc: 0.398 - ETA: 2:09 - loss: 2.6174 - acc: 0.398 - ETA: 2:07 - loss: 2.6166 - acc: 0.398 - ETA: 2:04 - loss: 2.6168 - acc: 0.398 - ETA: 2:02 - loss: 2.6177 - acc: 0.398 - ETA: 1:59 - loss: 2.6174 - acc: 0.398 - ETA: 1:57 - loss: 2.6167 - acc: 0.399 - ETA: 1:54 - loss: 2.6157 - acc: 0.399 - ETA: 1:52 - loss: 2.6158 - acc: 0.399 - ETA: 1:49 - loss: 2.6181 - acc: 0.398 - ETA: 1:47 - loss: 2.6167 - acc: 0.399 - ETA: 1:45 - loss: 2.6182 - acc: 0.399 - ETA: 1:42 - loss: 2.6175 - acc: 0.399 - ETA: 1:40 - loss: 2.6189 - acc: 0.399 - ETA: 1:37 - loss: 2.6195 - acc: 0.399 - ETA: 1:35 - loss: 2.6208 - acc: 0.398 - ETA: 1:32 - loss: 2.6188 - acc: 0.398 - ETA: 1:30 - loss: 2.6173 - acc: 0.398 - ETA: 1:28 - loss: 2.6162 - acc: 0.398 - ETA: 1:25 - loss: 2.6157 - acc: 0.398 - ETA: 1:23 - loss: 2.6145 - acc: 0.398 - ETA: 1:20 - loss: 2.6142 - acc: 0.398 - ETA: 1:18 - loss: 2.6151 - acc: 0.398 - ETA: 1:15 - loss: 2.6164 - acc: 0.398 - ETA: 1:13 - loss: 2.6160 - acc: 0.397 - ETA: 1:10 - loss: 2.6179 - acc: 0.397 - ETA: 1:08 - loss: 2.6147 - acc: 0.398 - ETA: 1:06 - loss: 2.6131 - acc: 0.398 - ETA: 1:03 - loss: 2.6134 - acc: 0.398 - ETA: 1:01 - loss: 2.6146 - acc: 0.398 - ETA: 58s - loss: 2.6134 - acc: 0.398 - ETA: 56s - loss: 2.6114 - acc: 0.39 - ETA: 53s - loss: 2.6109 - acc: 0.39 - ETA: 51s - loss: 2.6086 - acc: 0.39 - ETA: 48s - loss: 2.6074 - acc: 0.39 - ETA: 46s - loss: 2.6058 - acc: 0.40 - ETA: 44s - loss: 2.6048 - acc: 0.40 - ETA: 41s - loss: 2.6053 - acc: 0.40 - ETA: 39s - loss: 2.6060 - acc: 0.40 - ETA: 36s - loss: 2.6065 - acc: 0.40 - ETA: 34s - loss: 2.6075 - acc: 0.40 - ETA: 31s - loss: 2.6068 - acc: 0.40 - ETA: 29s - loss: 2.6068 - acc: 0.40 - ETA: 26s - loss: 2.6077 - acc: 0.40 - ETA: 24s - loss: 2.6084 - acc: 0.40 - ETA: 22s - loss: 2.6072 - acc: 0.40 - ETA: 19s - loss: 2.6067 - acc: 0.40 - ETA: 17s - loss: 2.6074 - acc: 0.40 - ETA: 14s - loss: 2.6068 - acc: 0.40 - ETA: 12s - loss: 2.6065 - acc: 0.40 - ETA: 9s - loss: 2.6051 - acc: 0.4014 - ETA: 7s - loss: 2.6051 - acc: 0.401 - ETA: 4s - loss: 2.6049 - acc: 0.401 - ETA: 2s - loss: 2.6056 - acc: 0.401 - 842s 126ms/step - loss: 2.6078 - acc: 0.4010 - val_loss: 5.2135 - val_acc: 0.0455\n",
      "\n",
      "Epoch 00003: val_loss did not improve\n",
      "Epoch 4/10\n"
     ]
    },
    {
     "name": "stdout",
     "output_type": "stream",
     "text": [
      "4080/6680 [=================>............] - ETA: 13:26 - loss: 0.7781 - acc: 0.90 - ETA: 13:25 - loss: 0.8827 - acc: 0.87 - ETA: 13:22 - loss: 0.9671 - acc: 0.86 - ETA: 13:21 - loss: 1.0183 - acc: 0.82 - ETA: 13:19 - loss: 1.0070 - acc: 0.82 - ETA: 13:17 - loss: 0.9376 - acc: 0.84 - ETA: 13:16 - loss: 1.0602 - acc: 0.81 - ETA: 13:14 - loss: 1.0475 - acc: 0.80 - ETA: 13:12 - loss: 1.0271 - acc: 0.81 - ETA: 13:10 - loss: 0.9778 - acc: 0.82 - ETA: 13:07 - loss: 1.0175 - acc: 0.80 - ETA: 13:05 - loss: 0.9703 - acc: 0.81 - ETA: 13:02 - loss: 0.9788 - acc: 0.80 - ETA: 13:00 - loss: 0.9709 - acc: 0.80 - ETA: 12:58 - loss: 0.9389 - acc: 0.80 - ETA: 12:56 - loss: 0.9032 - acc: 0.80 - ETA: 12:54 - loss: 0.9193 - acc: 0.80 - ETA: 12:51 - loss: 0.9044 - acc: 0.81 - ETA: 12:49 - loss: 0.9230 - acc: 0.80 - ETA: 12:46 - loss: 0.9099 - acc: 0.81 - ETA: 12:44 - loss: 0.8885 - acc: 0.81 - ETA: 12:41 - loss: 0.9106 - acc: 0.81 - ETA: 12:38 - loss: 0.9290 - acc: 0.80 - ETA: 12:36 - loss: 0.9076 - acc: 0.81 - ETA: 12:34 - loss: 0.9011 - acc: 0.81 - ETA: 12:31 - loss: 0.8861 - acc: 0.81 - ETA: 12:29 - loss: 0.8774 - acc: 0.82 - ETA: 12:26 - loss: 0.8589 - acc: 0.82 - ETA: 12:24 - loss: 0.8531 - acc: 0.82 - ETA: 12:22 - loss: 0.8712 - acc: 0.81 - ETA: 12:19 - loss: 0.8563 - acc: 0.81 - ETA: 12:17 - loss: 0.8489 - acc: 0.82 - ETA: 12:15 - loss: 0.8367 - acc: 0.82 - ETA: 12:12 - loss: 0.8190 - acc: 0.82 - ETA: 12:10 - loss: 0.8216 - acc: 0.82 - ETA: 12:07 - loss: 0.8240 - acc: 0.82 - ETA: 12:05 - loss: 0.8189 - acc: 0.82 - ETA: 12:02 - loss: 0.8455 - acc: 0.81 - ETA: 12:00 - loss: 0.8625 - acc: 0.81 - ETA: 11:58 - loss: 0.8599 - acc: 0.81 - ETA: 11:55 - loss: 0.8562 - acc: 0.81 - ETA: 11:53 - loss: 0.8494 - acc: 0.81 - ETA: 11:50 - loss: 0.8487 - acc: 0.81 - ETA: 11:48 - loss: 0.8368 - acc: 0.81 - ETA: 11:45 - loss: 0.8256 - acc: 0.82 - ETA: 11:43 - loss: 0.8260 - acc: 0.82 - ETA: 11:40 - loss: 0.8151 - acc: 0.82 - ETA: 11:38 - loss: 0.8295 - acc: 0.81 - ETA: 11:35 - loss: 0.8209 - acc: 0.82 - ETA: 11:33 - loss: 0.8102 - acc: 0.82 - ETA: 11:30 - loss: 0.8010 - acc: 0.82 - ETA: 11:28 - loss: 0.7972 - acc: 0.82 - ETA: 11:26 - loss: 0.7876 - acc: 0.82 - ETA: 11:23 - loss: 0.7887 - acc: 0.82 - ETA: 11:21 - loss: 0.7957 - acc: 0.82 - ETA: 11:18 - loss: 0.8041 - acc: 0.82 - ETA: 11:16 - loss: 0.8004 - acc: 0.82 - ETA: 11:13 - loss: 0.7941 - acc: 0.82 - ETA: 11:11 - loss: 0.7987 - acc: 0.82 - ETA: 11:09 - loss: 0.7934 - acc: 0.82 - ETA: 11:06 - loss: 0.7861 - acc: 0.83 - ETA: 11:04 - loss: 0.7824 - acc: 0.83 - ETA: 11:01 - loss: 0.7812 - acc: 0.82 - ETA: 10:59 - loss: 0.7807 - acc: 0.82 - ETA: 10:56 - loss: 0.7711 - acc: 0.83 - ETA: 10:54 - loss: 0.7687 - acc: 0.83 - ETA: 10:51 - loss: 0.7645 - acc: 0.83 - ETA: 10:49 - loss: 0.7622 - acc: 0.83 - ETA: 10:46 - loss: 0.7593 - acc: 0.83 - ETA: 10:44 - loss: 0.7499 - acc: 0.83 - ETA: 10:41 - loss: 0.7491 - acc: 0.83 - ETA: 10:39 - loss: 0.7493 - acc: 0.83 - ETA: 10:37 - loss: 0.7467 - acc: 0.83 - ETA: 10:34 - loss: 0.7511 - acc: 0.83 - ETA: 10:32 - loss: 0.7537 - acc: 0.83 - ETA: 10:29 - loss: 0.7491 - acc: 0.83 - ETA: 10:27 - loss: 0.7464 - acc: 0.83 - ETA: 10:24 - loss: 0.7500 - acc: 0.83 - ETA: 10:22 - loss: 0.7502 - acc: 0.83 - ETA: 10:19 - loss: 0.7539 - acc: 0.83 - ETA: 10:17 - loss: 0.7510 - acc: 0.83 - ETA: 10:14 - loss: 0.7613 - acc: 0.83 - ETA: 10:12 - loss: 0.7581 - acc: 0.83 - ETA: 10:10 - loss: 0.7534 - acc: 0.83 - ETA: 10:07 - loss: 0.7539 - acc: 0.83 - ETA: 10:05 - loss: 0.7501 - acc: 0.83 - ETA: 10:03 - loss: 0.7549 - acc: 0.83 - ETA: 10:00 - loss: 0.7505 - acc: 0.83 - ETA: 9:58 - loss: 0.7595 - acc: 0.8331 - ETA: 9:55 - loss: 0.7606 - acc: 0.833 - ETA: 9:53 - loss: 0.7640 - acc: 0.831 - ETA: 9:51 - loss: 0.7656 - acc: 0.831 - ETA: 9:48 - loss: 0.7701 - acc: 0.830 - ETA: 9:46 - loss: 0.7661 - acc: 0.830 - ETA: 9:43 - loss: 0.7626 - acc: 0.831 - ETA: 9:41 - loss: 0.7593 - acc: 0.831 - ETA: 9:38 - loss: 0.7580 - acc: 0.830 - ETA: 9:36 - loss: 0.7555 - acc: 0.831 - ETA: 9:33 - loss: 0.7568 - acc: 0.832 - ETA: 9:31 - loss: 0.7532 - acc: 0.833 - ETA: 9:29 - loss: 0.7519 - acc: 0.833 - ETA: 9:26 - loss: 0.7524 - acc: 0.833 - ETA: 9:24 - loss: 0.7524 - acc: 0.834 - ETA: 9:21 - loss: 0.7533 - acc: 0.834 - ETA: 9:19 - loss: 0.7581 - acc: 0.833 - ETA: 9:16 - loss: 0.7572 - acc: 0.834 - ETA: 9:14 - loss: 0.7570 - acc: 0.834 - ETA: 9:11 - loss: 0.7553 - acc: 0.835 - ETA: 9:09 - loss: 0.7559 - acc: 0.834 - ETA: 9:07 - loss: 0.7525 - acc: 0.835 - ETA: 9:04 - loss: 0.7527 - acc: 0.835 - ETA: 9:02 - loss: 0.7561 - acc: 0.834 - ETA: 8:59 - loss: 0.7547 - acc: 0.835 - ETA: 8:57 - loss: 0.7523 - acc: 0.834 - ETA: 8:54 - loss: 0.7534 - acc: 0.833 - ETA: 8:52 - loss: 0.7512 - acc: 0.833 - ETA: 8:50 - loss: 0.7564 - acc: 0.832 - ETA: 8:47 - loss: 0.7543 - acc: 0.832 - ETA: 8:45 - loss: 0.7550 - acc: 0.832 - ETA: 8:42 - loss: 0.7542 - acc: 0.832 - ETA: 8:40 - loss: 0.7549 - acc: 0.832 - ETA: 8:37 - loss: 0.7514 - acc: 0.833 - ETA: 8:35 - loss: 0.7514 - acc: 0.833 - ETA: 8:33 - loss: 0.7557 - acc: 0.831 - ETA: 8:30 - loss: 0.7555 - acc: 0.831 - ETA: 8:28 - loss: 0.7529 - acc: 0.832 - ETA: 8:25 - loss: 0.7530 - acc: 0.831 - ETA: 8:23 - loss: 0.7601 - acc: 0.830 - ETA: 8:20 - loss: 0.7566 - acc: 0.831 - ETA: 8:18 - loss: 0.7611 - acc: 0.830 - ETA: 8:15 - loss: 0.7607 - acc: 0.830 - ETA: 8:13 - loss: 0.7593 - acc: 0.831 - ETA: 8:10 - loss: 0.7599 - acc: 0.832 - ETA: 8:08 - loss: 0.7582 - acc: 0.832 - ETA: 8:06 - loss: 0.7573 - acc: 0.832 - ETA: 8:03 - loss: 0.7714 - acc: 0.830 - ETA: 8:01 - loss: 0.7715 - acc: 0.830 - ETA: 7:58 - loss: 0.7714 - acc: 0.830 - ETA: 7:56 - loss: 0.7723 - acc: 0.829 - ETA: 7:53 - loss: 0.7726 - acc: 0.829 - ETA: 7:51 - loss: 0.7719 - acc: 0.829 - ETA: 7:49 - loss: 0.7711 - acc: 0.829 - ETA: 7:46 - loss: 0.7672 - acc: 0.830 - ETA: 7:44 - loss: 0.7673 - acc: 0.830 - ETA: 7:41 - loss: 0.7642 - acc: 0.831 - ETA: 7:39 - loss: 0.7629 - acc: 0.831 - ETA: 7:36 - loss: 0.7656 - acc: 0.830 - ETA: 7:34 - loss: 0.7651 - acc: 0.830 - ETA: 7:31 - loss: 0.7611 - acc: 0.830 - ETA: 7:29 - loss: 0.7589 - acc: 0.831 - ETA: 7:27 - loss: 0.7592 - acc: 0.830 - ETA: 7:24 - loss: 0.7596 - acc: 0.829 - ETA: 7:22 - loss: 0.7598 - acc: 0.829 - ETA: 7:19 - loss: 0.7599 - acc: 0.828 - ETA: 7:17 - loss: 0.7581 - acc: 0.829 - ETA: 7:14 - loss: 0.7598 - acc: 0.829 - ETA: 7:12 - loss: 0.7575 - acc: 0.829 - ETA: 7:10 - loss: 0.7550 - acc: 0.830 - ETA: 7:07 - loss: 0.7548 - acc: 0.830 - ETA: 7:05 - loss: 0.7529 - acc: 0.830 - ETA: 7:02 - loss: 0.7575 - acc: 0.828 - ETA: 7:00 - loss: 0.7588 - acc: 0.828 - ETA: 6:57 - loss: 0.7561 - acc: 0.829 - ETA: 6:55 - loss: 0.7555 - acc: 0.829 - ETA: 6:52 - loss: 0.7532 - acc: 0.829 - ETA: 6:50 - loss: 0.7511 - acc: 0.830 - ETA: 6:47 - loss: 0.7509 - acc: 0.829 - ETA: 6:45 - loss: 0.7498 - acc: 0.829 - ETA: 6:43 - loss: 0.7474 - acc: 0.830 - ETA: 6:40 - loss: 0.7480 - acc: 0.830 - ETA: 6:38 - loss: 0.7466 - acc: 0.830 - ETA: 6:35 - loss: 0.7440 - acc: 0.830 - ETA: 6:33 - loss: 0.7413 - acc: 0.830 - ETA: 6:30 - loss: 0.7452 - acc: 0.829 - ETA: 6:28 - loss: 0.7441 - acc: 0.830 - ETA: 6:25 - loss: 0.7436 - acc: 0.830 - ETA: 6:23 - loss: 0.7450 - acc: 0.830 - ETA: 6:21 - loss: 0.7440 - acc: 0.830 - ETA: 6:18 - loss: 0.7440 - acc: 0.831 - ETA: 6:16 - loss: 0.7471 - acc: 0.830 - ETA: 6:13 - loss: 0.7486 - acc: 0.830 - ETA: 6:11 - loss: 0.7509 - acc: 0.829 - ETA: 6:08 - loss: 0.7523 - acc: 0.829 - ETA: 6:06 - loss: 0.7510 - acc: 0.829 - ETA: 6:04 - loss: 0.7522 - acc: 0.829 - ETA: 6:01 - loss: 0.7524 - acc: 0.829 - ETA: 5:59 - loss: 0.7516 - acc: 0.829 - ETA: 5:56 - loss: 0.7514 - acc: 0.829 - ETA: 5:54 - loss: 0.7528 - acc: 0.828 - ETA: 5:51 - loss: 0.7533 - acc: 0.828 - ETA: 5:49 - loss: 0.7559 - acc: 0.828 - ETA: 5:46 - loss: 0.7562 - acc: 0.828 - ETA: 5:44 - loss: 0.7574 - acc: 0.828 - ETA: 5:42 - loss: 0.7587 - acc: 0.827 - ETA: 5:39 - loss: 0.7597 - acc: 0.827 - ETA: 5:37 - loss: 0.7588 - acc: 0.827 - ETA: 5:34 - loss: 0.7604 - acc: 0.827 - ETA: 5:32 - loss: 0.7619 - acc: 0.827 - ETA: 5:29 - loss: 0.7621 - acc: 0.826 - ETA: 5:27 - loss: 0.7675 - acc: 0.826 - ETA: 5:24 - loss: 0.7665 - acc: 0.826 - ETA: 5:22 - loss: 0.7664 - acc: 0.826 - ETA: 5:20 - loss: 0.7714 - acc: 0.825 - ETA: 5:17 - loss: 0.7710 - acc: 0.8257"
     ]
    },
    {
     "name": "stdout",
     "output_type": "stream",
     "text": [
      "6680/6680 [==============================] - ETA: 5:15 - loss: 0.7717 - acc: 0.825 - ETA: 5:12 - loss: 0.7751 - acc: 0.824 - ETA: 5:10 - loss: 0.7740 - acc: 0.824 - ETA: 5:07 - loss: 0.7743 - acc: 0.824 - ETA: 5:05 - loss: 0.7724 - acc: 0.825 - ETA: 5:03 - loss: 0.7698 - acc: 0.825 - ETA: 5:00 - loss: 0.7720 - acc: 0.825 - ETA: 4:58 - loss: 0.7739 - acc: 0.825 - ETA: 4:55 - loss: 0.7789 - acc: 0.823 - ETA: 4:53 - loss: 0.7804 - acc: 0.822 - ETA: 4:50 - loss: 0.7801 - acc: 0.822 - ETA: 4:48 - loss: 0.7788 - acc: 0.822 - ETA: 4:45 - loss: 0.7807 - acc: 0.821 - ETA: 4:43 - loss: 0.7790 - acc: 0.822 - ETA: 4:41 - loss: 0.7776 - acc: 0.821 - ETA: 4:38 - loss: 0.7783 - acc: 0.821 - ETA: 4:36 - loss: 0.7826 - acc: 0.821 - ETA: 4:33 - loss: 0.7843 - acc: 0.821 - ETA: 4:31 - loss: 0.7850 - acc: 0.820 - ETA: 4:28 - loss: 0.7871 - acc: 0.819 - ETA: 4:26 - loss: 0.7851 - acc: 0.820 - ETA: 4:23 - loss: 0.7847 - acc: 0.820 - ETA: 4:21 - loss: 0.7857 - acc: 0.820 - ETA: 4:19 - loss: 0.7872 - acc: 0.820 - ETA: 4:16 - loss: 0.7875 - acc: 0.819 - ETA: 4:14 - loss: 0.7904 - acc: 0.818 - ETA: 4:11 - loss: 0.7903 - acc: 0.818 - ETA: 4:09 - loss: 0.7903 - acc: 0.818 - ETA: 4:06 - loss: 0.7886 - acc: 0.819 - ETA: 4:04 - loss: 0.7869 - acc: 0.819 - ETA: 4:01 - loss: 0.7878 - acc: 0.819 - ETA: 3:59 - loss: 0.7873 - acc: 0.819 - ETA: 3:57 - loss: 0.7884 - acc: 0.819 - ETA: 3:54 - loss: 0.7892 - acc: 0.818 - ETA: 3:52 - loss: 0.7886 - acc: 0.819 - ETA: 3:49 - loss: 0.7964 - acc: 0.817 - ETA: 3:47 - loss: 0.7960 - acc: 0.817 - ETA: 3:44 - loss: 0.7935 - acc: 0.817 - ETA: 3:42 - loss: 0.7930 - acc: 0.817 - ETA: 3:40 - loss: 0.7910 - acc: 0.818 - ETA: 3:37 - loss: 0.7931 - acc: 0.818 - ETA: 3:35 - loss: 0.7957 - acc: 0.817 - ETA: 3:32 - loss: 0.7942 - acc: 0.818 - ETA: 3:30 - loss: 0.7919 - acc: 0.818 - ETA: 3:27 - loss: 0.7921 - acc: 0.818 - ETA: 3:25 - loss: 0.7925 - acc: 0.818 - ETA: 3:22 - loss: 0.7910 - acc: 0.818 - ETA: 3:20 - loss: 0.7887 - acc: 0.819 - ETA: 3:18 - loss: 0.7900 - acc: 0.819 - ETA: 3:15 - loss: 0.7901 - acc: 0.818 - ETA: 3:13 - loss: 0.7901 - acc: 0.818 - ETA: 3:10 - loss: 0.7897 - acc: 0.818 - ETA: 3:08 - loss: 0.7880 - acc: 0.818 - ETA: 3:05 - loss: 0.7857 - acc: 0.819 - ETA: 3:03 - loss: 0.7850 - acc: 0.819 - ETA: 3:00 - loss: 0.7849 - acc: 0.819 - ETA: 2:58 - loss: 0.7842 - acc: 0.819 - ETA: 2:55 - loss: 0.7870 - acc: 0.819 - ETA: 2:53 - loss: 0.7899 - acc: 0.818 - ETA: 2:51 - loss: 0.7894 - acc: 0.818 - ETA: 2:48 - loss: 0.7911 - acc: 0.818 - ETA: 2:46 - loss: 0.7894 - acc: 0.818 - ETA: 2:43 - loss: 0.7903 - acc: 0.818 - ETA: 2:41 - loss: 0.7903 - acc: 0.818 - ETA: 2:38 - loss: 0.7900 - acc: 0.818 - ETA: 2:36 - loss: 0.7892 - acc: 0.818 - ETA: 2:34 - loss: 0.7922 - acc: 0.817 - ETA: 2:31 - loss: 0.7976 - acc: 0.816 - ETA: 2:29 - loss: 0.7969 - acc: 0.816 - ETA: 2:26 - loss: 0.7992 - acc: 0.816 - ETA: 2:24 - loss: 0.8006 - acc: 0.816 - ETA: 2:21 - loss: 0.8004 - acc: 0.816 - ETA: 2:19 - loss: 0.7991 - acc: 0.816 - ETA: 2:16 - loss: 0.8002 - acc: 0.815 - ETA: 2:14 - loss: 0.8000 - acc: 0.815 - ETA: 2:12 - loss: 0.7992 - acc: 0.815 - ETA: 2:09 - loss: 0.7995 - acc: 0.815 - ETA: 2:07 - loss: 0.8001 - acc: 0.815 - ETA: 2:04 - loss: 0.7998 - acc: 0.815 - ETA: 2:02 - loss: 0.8000 - acc: 0.815 - ETA: 1:59 - loss: 0.8024 - acc: 0.815 - ETA: 1:57 - loss: 0.8028 - acc: 0.814 - ETA: 1:54 - loss: 0.8051 - acc: 0.813 - ETA: 1:52 - loss: 0.8042 - acc: 0.813 - ETA: 1:49 - loss: 0.8022 - acc: 0.814 - ETA: 1:47 - loss: 0.8026 - acc: 0.814 - ETA: 1:45 - loss: 0.8079 - acc: 0.813 - ETA: 1:42 - loss: 0.8081 - acc: 0.812 - ETA: 1:40 - loss: 0.8106 - acc: 0.812 - ETA: 1:37 - loss: 0.8108 - acc: 0.812 - ETA: 1:35 - loss: 0.8105 - acc: 0.812 - ETA: 1:32 - loss: 0.8103 - acc: 0.812 - ETA: 1:30 - loss: 0.8131 - acc: 0.811 - ETA: 1:28 - loss: 0.8124 - acc: 0.811 - ETA: 1:25 - loss: 0.8142 - acc: 0.811 - ETA: 1:23 - loss: 0.8150 - acc: 0.810 - ETA: 1:20 - loss: 0.8144 - acc: 0.811 - ETA: 1:18 - loss: 0.8138 - acc: 0.811 - ETA: 1:15 - loss: 0.8156 - acc: 0.811 - ETA: 1:13 - loss: 0.8189 - acc: 0.809 - ETA: 1:10 - loss: 0.8191 - acc: 0.809 - ETA: 1:08 - loss: 0.8193 - acc: 0.809 - ETA: 1:06 - loss: 0.8185 - acc: 0.809 - ETA: 1:03 - loss: 0.8183 - acc: 0.809 - ETA: 1:01 - loss: 0.8180 - acc: 0.809 - ETA: 58s - loss: 0.8188 - acc: 0.809 - ETA: 56s - loss: 0.8169 - acc: 0.81 - ETA: 53s - loss: 0.8164 - acc: 0.81 - ETA: 51s - loss: 0.8153 - acc: 0.81 - ETA: 48s - loss: 0.8154 - acc: 0.81 - ETA: 46s - loss: 0.8147 - acc: 0.81 - ETA: 44s - loss: 0.8142 - acc: 0.81 - ETA: 41s - loss: 0.8133 - acc: 0.81 - ETA: 39s - loss: 0.8146 - acc: 0.81 - ETA: 36s - loss: 0.8146 - acc: 0.80 - ETA: 34s - loss: 0.8139 - acc: 0.81 - ETA: 31s - loss: 0.8156 - acc: 0.80 - ETA: 29s - loss: 0.8164 - acc: 0.80 - ETA: 26s - loss: 0.8176 - acc: 0.80 - ETA: 24s - loss: 0.8166 - acc: 0.80 - ETA: 22s - loss: 0.8165 - acc: 0.80 - ETA: 19s - loss: 0.8168 - acc: 0.80 - ETA: 17s - loss: 0.8165 - acc: 0.80 - ETA: 14s - loss: 0.8150 - acc: 0.80 - ETA: 12s - loss: 0.8150 - acc: 0.81 - ETA: 9s - loss: 0.8153 - acc: 0.8098 - ETA: 7s - loss: 0.8148 - acc: 0.809 - ETA: 4s - loss: 0.8176 - acc: 0.809 - ETA: 2s - loss: 0.8181 - acc: 0.809 - 842s 126ms/step - loss: 0.8187 - acc: 0.8090 - val_loss: 7.9471 - val_acc: 0.0443\n",
      "\n",
      "Epoch 00004: val_loss did not improve\n",
      "Epoch 5/10\n",
      "4080/6680 [=================>............] - ETA: 13:32 - loss: 0.1127 - acc: 1.00 - ETA: 13:26 - loss: 0.1093 - acc: 0.97 - ETA: 13:26 - loss: 0.1422 - acc: 0.96 - ETA: 13:22 - loss: 0.1090 - acc: 0.97 - ETA: 13:23 - loss: 0.1092 - acc: 0.97 - ETA: 13:20 - loss: 0.1074 - acc: 0.97 - ETA: 13:18 - loss: 0.1130 - acc: 0.97 - ETA: 13:15 - loss: 0.1743 - acc: 0.96 - ETA: 13:13 - loss: 0.1560 - acc: 0.97 - ETA: 13:11 - loss: 0.1710 - acc: 0.96 - ETA: 13:08 - loss: 0.2072 - acc: 0.95 - ETA: 13:04 - loss: 0.1962 - acc: 0.96 - ETA: 13:03 - loss: 0.1911 - acc: 0.96 - ETA: 13:01 - loss: 0.1847 - acc: 0.96 - ETA: 12:59 - loss: 0.1801 - acc: 0.97 - ETA: 12:56 - loss: 0.1723 - acc: 0.97 - ETA: 12:54 - loss: 0.1867 - acc: 0.96 - ETA: 12:52 - loss: 0.2278 - acc: 0.95 - ETA: 12:49 - loss: 0.2359 - acc: 0.95 - ETA: 12:47 - loss: 0.2661 - acc: 0.95 - ETA: 12:44 - loss: 0.2580 - acc: 0.95 - ETA: 12:42 - loss: 0.2778 - acc: 0.95 - ETA: 12:40 - loss: 0.2681 - acc: 0.95 - ETA: 12:38 - loss: 0.2816 - acc: 0.95 - ETA: 12:35 - loss: 0.2749 - acc: 0.95 - ETA: 12:33 - loss: 0.3200 - acc: 0.93 - ETA: 12:30 - loss: 0.3135 - acc: 0.94 - ETA: 12:28 - loss: 0.3100 - acc: 0.94 - ETA: 12:25 - loss: 0.3042 - acc: 0.94 - ETA: 12:23 - loss: 0.2985 - acc: 0.94 - ETA: 12:20 - loss: 0.3051 - acc: 0.94 - ETA: 12:18 - loss: 0.3003 - acc: 0.94 - ETA: 12:16 - loss: 0.2974 - acc: 0.94 - ETA: 12:13 - loss: 0.3031 - acc: 0.93 - ETA: 12:11 - loss: 0.2950 - acc: 0.94 - ETA: 12:08 - loss: 0.2888 - acc: 0.94 - ETA: 12:06 - loss: 0.2815 - acc: 0.94 - ETA: 12:03 - loss: 0.2804 - acc: 0.94 - ETA: 12:01 - loss: 0.2739 - acc: 0.94 - ETA: 11:58 - loss: 0.2694 - acc: 0.94 - ETA: 11:56 - loss: 0.2685 - acc: 0.94 - ETA: 11:53 - loss: 0.2725 - acc: 0.94 - ETA: 11:51 - loss: 0.3813 - acc: 0.93 - ETA: 11:48 - loss: 0.4163 - acc: 0.92 - ETA: 11:46 - loss: 0.4084 - acc: 0.92 - ETA: 11:43 - loss: 0.4029 - acc: 0.92 - ETA: 11:41 - loss: 0.4037 - acc: 0.92 - ETA: 11:38 - loss: 0.4157 - acc: 0.92 - ETA: 11:36 - loss: 0.4119 - acc: 0.92 - ETA: 11:34 - loss: 0.4146 - acc: 0.92 - ETA: 11:31 - loss: 0.4067 - acc: 0.92 - ETA: 11:29 - loss: 0.4010 - acc: 0.92 - ETA: 11:26 - loss: 0.3938 - acc: 0.92 - ETA: 11:24 - loss: 0.4066 - acc: 0.92 - ETA: 11:21 - loss: 0.4058 - acc: 0.92 - ETA: 11:19 - loss: 0.4004 - acc: 0.92 - ETA: 11:17 - loss: 0.4024 - acc: 0.92 - ETA: 11:14 - loss: 0.4007 - acc: 0.92 - ETA: 11:11 - loss: 0.4026 - acc: 0.92 - ETA: 11:09 - loss: 0.3998 - acc: 0.92 - ETA: 11:07 - loss: 0.3939 - acc: 0.92 - ETA: 11:04 - loss: 0.3896 - acc: 0.92 - ETA: 11:02 - loss: 0.3859 - acc: 0.92 - ETA: 10:59 - loss: 0.3809 - acc: 0.92 - ETA: 10:57 - loss: 0.3774 - acc: 0.92 - ETA: 10:55 - loss: 0.3733 - acc: 0.93 - ETA: 10:52 - loss: 0.3691 - acc: 0.93 - ETA: 10:50 - loss: 0.3649 - acc: 0.93 - ETA: 10:47 - loss: 0.3704 - acc: 0.93 - ETA: 10:45 - loss: 0.3678 - acc: 0.93 - ETA: 10:42 - loss: 0.3629 - acc: 0.93 - ETA: 10:40 - loss: 0.3588 - acc: 0.93 - ETA: 10:37 - loss: 0.3549 - acc: 0.93 - ETA: 10:35 - loss: 0.3554 - acc: 0.93 - ETA: 10:33 - loss: 0.3565 - acc: 0.93 - ETA: 10:30 - loss: 0.3526 - acc: 0.93 - ETA: 10:28 - loss: 0.3526 - acc: 0.93 - ETA: 10:25 - loss: 0.3485 - acc: 0.93 - ETA: 10:23 - loss: 0.3478 - acc: 0.93 - ETA: 10:20 - loss: 0.3477 - acc: 0.93 - ETA: 10:18 - loss: 0.3466 - acc: 0.93 - ETA: 10:16 - loss: 0.3594 - acc: 0.93 - ETA: 10:13 - loss: 0.3803 - acc: 0.93 - ETA: 10:11 - loss: 0.3768 - acc: 0.93 - ETA: 10:09 - loss: 0.3743 - acc: 0.93 - ETA: 10:06 - loss: 0.3718 - acc: 0.93 - ETA: 10:04 - loss: 0.3695 - acc: 0.93 - ETA: 10:01 - loss: 0.3679 - acc: 0.93 - ETA: 9:59 - loss: 0.3644 - acc: 0.9354 - ETA: 9:56 - loss: 0.3624 - acc: 0.935 - ETA: 9:54 - loss: 0.3605 - acc: 0.935 - ETA: 9:51 - loss: 0.3572 - acc: 0.936 - ETA: 9:49 - loss: 0.3539 - acc: 0.937 - ETA: 9:46 - loss: 0.3716 - acc: 0.934 - ETA: 9:44 - loss: 0.3742 - acc: 0.934 - ETA: 9:41 - loss: 0.3711 - acc: 0.934 - ETA: 9:39 - loss: 0.3692 - acc: 0.935 - ETA: 9:37 - loss: 0.3655 - acc: 0.935 - ETA: 9:34 - loss: 0.3647 - acc: 0.935 - ETA: 9:32 - loss: 0.3630 - acc: 0.936 - ETA: 9:29 - loss: 0.3598 - acc: 0.936 - ETA: 9:27 - loss: 0.3565 - acc: 0.937 - ETA: 9:24 - loss: 0.3555 - acc: 0.937 - ETA: 9:22 - loss: 0.3569 - acc: 0.937 - ETA: 9:20 - loss: 0.3543 - acc: 0.938 - ETA: 9:17 - loss: 0.3526 - acc: 0.938 - ETA: 9:15 - loss: 0.3496 - acc: 0.938 - ETA: 9:12 - loss: 0.3506 - acc: 0.937 - ETA: 9:10 - loss: 0.3482 - acc: 0.938 - ETA: 9:07 - loss: 0.3466 - acc: 0.938 - ETA: 9:05 - loss: 0.3446 - acc: 0.938 - ETA: 9:02 - loss: 0.3415 - acc: 0.939 - ETA: 9:00 - loss: 0.3414 - acc: 0.939 - ETA: 8:57 - loss: 0.3406 - acc: 0.939 - ETA: 8:55 - loss: 0.3384 - acc: 0.939 - ETA: 8:53 - loss: 0.3377 - acc: 0.939 - ETA: 8:50 - loss: 0.3366 - acc: 0.938 - ETA: 8:48 - loss: 0.3350 - acc: 0.939 - ETA: 8:45 - loss: 0.3333 - acc: 0.939 - ETA: 8:43 - loss: 0.3307 - acc: 0.940 - ETA: 8:40 - loss: 0.3294 - acc: 0.940 - ETA: 8:38 - loss: 0.3278 - acc: 0.940 - ETA: 8:36 - loss: 0.3263 - acc: 0.940 - ETA: 8:33 - loss: 0.3253 - acc: 0.940 - ETA: 8:31 - loss: 0.3246 - acc: 0.940 - ETA: 8:28 - loss: 0.3221 - acc: 0.940 - ETA: 8:26 - loss: 0.3215 - acc: 0.940 - ETA: 8:23 - loss: 0.3195 - acc: 0.940 - ETA: 8:21 - loss: 0.3172 - acc: 0.941 - ETA: 8:18 - loss: 0.3148 - acc: 0.941 - ETA: 8:16 - loss: 0.3216 - acc: 0.940 - ETA: 8:14 - loss: 0.3193 - acc: 0.940 - ETA: 8:11 - loss: 0.3174 - acc: 0.941 - ETA: 8:09 - loss: 0.3186 - acc: 0.941 - ETA: 8:06 - loss: 0.3173 - acc: 0.941 - ETA: 8:04 - loss: 0.3161 - acc: 0.941 - ETA: 8:01 - loss: 0.3187 - acc: 0.940 - ETA: 7:59 - loss: 0.3201 - acc: 0.939 - ETA: 7:57 - loss: 0.3187 - acc: 0.939 - ETA: 7:54 - loss: 0.3167 - acc: 0.940 - ETA: 7:52 - loss: 0.3149 - acc: 0.940 - ETA: 7:49 - loss: 0.3148 - acc: 0.940 - ETA: 7:47 - loss: 0.3144 - acc: 0.940 - ETA: 7:44 - loss: 0.3279 - acc: 0.937 - ETA: 7:42 - loss: 0.3273 - acc: 0.937 - ETA: 7:39 - loss: 0.3264 - acc: 0.937 - ETA: 7:37 - loss: 0.3264 - acc: 0.937 - ETA: 7:35 - loss: 0.3271 - acc: 0.936 - ETA: 7:32 - loss: 0.3275 - acc: 0.936 - ETA: 7:30 - loss: 0.3284 - acc: 0.936 - ETA: 7:27 - loss: 0.3327 - acc: 0.934 - ETA: 7:25 - loss: 0.3391 - acc: 0.933 - ETA: 7:22 - loss: 0.3387 - acc: 0.933 - ETA: 7:20 - loss: 0.3366 - acc: 0.933 - ETA: 7:18 - loss: 0.3357 - acc: 0.934 - ETA: 7:15 - loss: 0.3389 - acc: 0.934 - ETA: 7:13 - loss: 0.3391 - acc: 0.934 - ETA: 7:10 - loss: 0.3408 - acc: 0.933 - ETA: 7:08 - loss: 0.3397 - acc: 0.934 - ETA: 7:05 - loss: 0.3396 - acc: 0.934 - ETA: 7:03 - loss: 0.3383 - acc: 0.934 - ETA: 7:00 - loss: 0.3370 - acc: 0.934 - ETA: 6:58 - loss: 0.3350 - acc: 0.935 - ETA: 6:55 - loss: 0.3341 - acc: 0.934 - ETA: 6:53 - loss: 0.3325 - acc: 0.935 - ETA: 6:50 - loss: 0.3322 - acc: 0.935 - ETA: 6:48 - loss: 0.3315 - acc: 0.935 - ETA: 6:46 - loss: 0.3303 - acc: 0.935 - ETA: 6:43 - loss: 0.3299 - acc: 0.935 - ETA: 6:41 - loss: 0.3281 - acc: 0.935 - ETA: 6:38 - loss: 0.3270 - acc: 0.936 - ETA: 6:36 - loss: 0.3287 - acc: 0.935 - ETA: 6:33 - loss: 0.3270 - acc: 0.936 - ETA: 6:31 - loss: 0.3275 - acc: 0.936 - ETA: 6:28 - loss: 0.3275 - acc: 0.936 - ETA: 6:26 - loss: 0.3258 - acc: 0.936 - ETA: 6:23 - loss: 0.3254 - acc: 0.936 - ETA: 6:21 - loss: 0.3238 - acc: 0.936 - ETA: 6:19 - loss: 0.3225 - acc: 0.936 - ETA: 6:16 - loss: 0.3243 - acc: 0.936 - ETA: 6:14 - loss: 0.3250 - acc: 0.936 - ETA: 6:11 - loss: 0.3261 - acc: 0.935 - ETA: 6:09 - loss: 0.3244 - acc: 0.936 - ETA: 6:06 - loss: 0.3232 - acc: 0.936 - ETA: 6:04 - loss: 0.3231 - acc: 0.935 - ETA: 6:01 - loss: 0.3224 - acc: 0.936 - ETA: 5:59 - loss: 0.3222 - acc: 0.935 - ETA: 5:56 - loss: 0.3215 - acc: 0.935 - ETA: 5:54 - loss: 0.3207 - acc: 0.936 - ETA: 5:52 - loss: 0.3196 - acc: 0.936 - ETA: 5:49 - loss: 0.3185 - acc: 0.936 - ETA: 5:47 - loss: 0.3171 - acc: 0.936 - ETA: 5:44 - loss: 0.3156 - acc: 0.936 - ETA: 5:42 - loss: 0.3143 - acc: 0.937 - ETA: 5:39 - loss: 0.3135 - acc: 0.937 - ETA: 5:37 - loss: 0.3123 - acc: 0.937 - ETA: 5:35 - loss: 0.3112 - acc: 0.937 - ETA: 5:32 - loss: 0.3100 - acc: 0.937 - ETA: 5:30 - loss: 0.3086 - acc: 0.938 - ETA: 5:27 - loss: 0.3074 - acc: 0.938 - ETA: 5:25 - loss: 0.3078 - acc: 0.938 - ETA: 5:22 - loss: 0.3063 - acc: 0.938 - ETA: 5:20 - loss: 0.3057 - acc: 0.938 - ETA: 5:17 - loss: 0.3045 - acc: 0.93906680/6680 [==============================] - ETA: 5:15 - loss: 0.3040 - acc: 0.939 - ETA: 5:12 - loss: 0.3040 - acc: 0.938 - ETA: 5:10 - loss: 0.3031 - acc: 0.938 - ETA: 5:08 - loss: 0.3067 - acc: 0.938 - ETA: 5:05 - loss: 0.3109 - acc: 0.937 - ETA: 5:03 - loss: 0.3109 - acc: 0.936 - ETA: 5:00 - loss: 0.3097 - acc: 0.937 - ETA: 4:58 - loss: 0.3108 - acc: 0.936 - ETA: 4:55 - loss: 0.3107 - acc: 0.936 - ETA: 4:53 - loss: 0.3098 - acc: 0.936 - ETA: 4:51 - loss: 0.3107 - acc: 0.937 - ETA: 4:48 - loss: 0.3099 - acc: 0.937 - ETA: 4:46 - loss: 0.3101 - acc: 0.937 - ETA: 4:43 - loss: 0.3103 - acc: 0.937 - ETA: 4:41 - loss: 0.3101 - acc: 0.937 - ETA: 4:38 - loss: 0.3105 - acc: 0.936 - ETA: 4:36 - loss: 0.3100 - acc: 0.936 - ETA: 4:33 - loss: 0.3091 - acc: 0.936 - ETA: 4:31 - loss: 0.3081 - acc: 0.937 - ETA: 4:28 - loss: 0.3072 - acc: 0.937 - ETA: 4:26 - loss: 0.3063 - acc: 0.937 - ETA: 4:24 - loss: 0.3058 - acc: 0.936 - ETA: 4:21 - loss: 0.3045 - acc: 0.937 - ETA: 4:19 - loss: 0.3062 - acc: 0.937 - ETA: 4:16 - loss: 0.3070 - acc: 0.936 - ETA: 4:14 - loss: 0.3108 - acc: 0.936 - ETA: 4:11 - loss: 0.3119 - acc: 0.935 - ETA: 4:09 - loss: 0.3126 - acc: 0.935 - ETA: 4:07 - loss: 0.3127 - acc: 0.935 - ETA: 4:04 - loss: 0.3125 - acc: 0.935 - ETA: 4:02 - loss: 0.3133 - acc: 0.935 - ETA: 3:59 - loss: 0.3122 - acc: 0.936 - ETA: 3:57 - loss: 0.3115 - acc: 0.936 - ETA: 3:54 - loss: 0.3106 - acc: 0.936 - ETA: 3:52 - loss: 0.3106 - acc: 0.936 - ETA: 3:49 - loss: 0.3095 - acc: 0.936 - ETA: 3:47 - loss: 0.3108 - acc: 0.935 - ETA: 3:45 - loss: 0.3097 - acc: 0.936 - ETA: 3:42 - loss: 0.3087 - acc: 0.936 - ETA: 3:40 - loss: 0.3098 - acc: 0.936 - ETA: 3:37 - loss: 0.3088 - acc: 0.936 - ETA: 3:35 - loss: 0.3083 - acc: 0.936 - ETA: 3:32 - loss: 0.3082 - acc: 0.936 - ETA: 3:30 - loss: 0.3112 - acc: 0.935 - ETA: 3:27 - loss: 0.3120 - acc: 0.935 - ETA: 3:25 - loss: 0.3110 - acc: 0.935 - ETA: 3:23 - loss: 0.3135 - acc: 0.935 - ETA: 3:20 - loss: 0.3190 - acc: 0.934 - ETA: 3:18 - loss: 0.3209 - acc: 0.934 - ETA: 3:15 - loss: 0.3249 - acc: 0.934 - ETA: 3:13 - loss: 0.3281 - acc: 0.933 - ETA: 3:10 - loss: 0.3304 - acc: 0.933 - ETA: 3:08 - loss: 0.3298 - acc: 0.933 - ETA: 3:05 - loss: 0.3476 - acc: 0.931 - ETA: 3:03 - loss: 0.3527 - acc: 0.930 - ETA: 3:01 - loss: 0.3538 - acc: 0.930 - ETA: 2:58 - loss: 0.3553 - acc: 0.929 - ETA: 2:56 - loss: 0.3552 - acc: 0.929 - ETA: 2:53 - loss: 0.3543 - acc: 0.929 - ETA: 2:51 - loss: 0.3545 - acc: 0.929 - ETA: 2:48 - loss: 0.3532 - acc: 0.929 - ETA: 2:46 - loss: 0.3524 - acc: 0.929 - ETA: 2:43 - loss: 0.3519 - acc: 0.929 - ETA: 2:41 - loss: 0.3512 - acc: 0.929 - ETA: 2:38 - loss: 0.3507 - acc: 0.929 - ETA: 2:36 - loss: 0.3495 - acc: 0.929 - ETA: 2:34 - loss: 0.3482 - acc: 0.929 - ETA: 2:31 - loss: 0.3491 - acc: 0.929 - ETA: 2:29 - loss: 0.3490 - acc: 0.929 - ETA: 2:26 - loss: 0.3479 - acc: 0.929 - ETA: 2:24 - loss: 0.3475 - acc: 0.930 - ETA: 2:21 - loss: 0.3496 - acc: 0.930 - ETA: 2:19 - loss: 0.3495 - acc: 0.929 - ETA: 2:16 - loss: 0.3493 - acc: 0.929 - ETA: 2:14 - loss: 0.3487 - acc: 0.929 - ETA: 2:12 - loss: 0.3476 - acc: 0.930 - ETA: 2:09 - loss: 0.3474 - acc: 0.930 - ETA: 2:07 - loss: 0.3493 - acc: 0.929 - ETA: 2:04 - loss: 0.3485 - acc: 0.929 - ETA: 2:02 - loss: 0.3494 - acc: 0.929 - ETA: 1:59 - loss: 0.3490 - acc: 0.929 - ETA: 1:57 - loss: 0.3480 - acc: 0.929 - ETA: 1:54 - loss: 0.3474 - acc: 0.929 - ETA: 1:52 - loss: 0.3463 - acc: 0.930 - ETA: 1:50 - loss: 0.3455 - acc: 0.930 - ETA: 1:47 - loss: 0.3449 - acc: 0.930 - ETA: 1:45 - loss: 0.3462 - acc: 0.930 - ETA: 1:42 - loss: 0.3457 - acc: 0.930 - ETA: 1:40 - loss: 0.3468 - acc: 0.930 - ETA: 1:37 - loss: 0.3461 - acc: 0.930 - ETA: 1:35 - loss: 0.3459 - acc: 0.930 - ETA: 1:32 - loss: 0.3459 - acc: 0.930 - ETA: 1:30 - loss: 0.3462 - acc: 0.930 - ETA: 1:28 - loss: 0.3464 - acc: 0.930 - ETA: 1:25 - loss: 0.3472 - acc: 0.929 - ETA: 1:23 - loss: 0.3490 - acc: 0.929 - ETA: 1:20 - loss: 0.3517 - acc: 0.929 - ETA: 1:18 - loss: 0.3529 - acc: 0.928 - ETA: 1:15 - loss: 0.3524 - acc: 0.928 - ETA: 1:13 - loss: 0.3525 - acc: 0.928 - ETA: 1:10 - loss: 0.3526 - acc: 0.928 - ETA: 1:08 - loss: 0.3523 - acc: 0.928 - ETA: 1:06 - loss: 0.3525 - acc: 0.928 - ETA: 1:03 - loss: 0.3516 - acc: 0.928 - ETA: 1:01 - loss: 0.3511 - acc: 0.928 - ETA: 58s - loss: 0.3522 - acc: 0.928 - ETA: 56s - loss: 0.3519 - acc: 0.92 - ETA: 53s - loss: 0.3515 - acc: 0.92 - ETA: 51s - loss: 0.3509 - acc: 0.92 - ETA: 48s - loss: 0.3501 - acc: 0.92 - ETA: 46s - loss: 0.3496 - acc: 0.92 - ETA: 44s - loss: 0.3486 - acc: 0.92 - ETA: 41s - loss: 0.3511 - acc: 0.92 - ETA: 39s - loss: 0.3504 - acc: 0.92 - ETA: 36s - loss: 0.3500 - acc: 0.92 - ETA: 34s - loss: 0.3496 - acc: 0.92 - ETA: 31s - loss: 0.3508 - acc: 0.92 - ETA: 29s - loss: 0.3506 - acc: 0.92 - ETA: 26s - loss: 0.3513 - acc: 0.92 - ETA: 24s - loss: 0.3508 - acc: 0.92 - ETA: 22s - loss: 0.3498 - acc: 0.92 - ETA: 19s - loss: 0.3527 - acc: 0.92 - ETA: 17s - loss: 0.3535 - acc: 0.92 - ETA: 14s - loss: 0.3572 - acc: 0.92 - ETA: 12s - loss: 0.3598 - acc: 0.92 - ETA: 9s - loss: 0.3593 - acc: 0.9268 - ETA: 7s - loss: 0.3583 - acc: 0.927 - ETA: 4s - loss: 0.3574 - acc: 0.927 - ETA: 2s - loss: 0.3576 - acc: 0.927 - 843s 126ms/step - loss: 0.3566 - acc: 0.9274 - val_loss: 9.2680 - val_acc: 0.0479\n",
      "\n",
      "Epoch 00005: val_loss did not improve\n",
      "Epoch 6/10\n"
     ]
    },
    {
     "name": "stdout",
     "output_type": "stream",
     "text": [
      "4080/6680 [=================>............] - ETA: 13:37 - loss: 0.0086 - acc: 1.00 - ETA: 13:30 - loss: 0.0979 - acc: 0.97 - ETA: 13:31 - loss: 0.0930 - acc: 0.98 - ETA: 13:27 - loss: 0.0745 - acc: 0.98 - ETA: 13:24 - loss: 0.0697 - acc: 0.98 - ETA: 13:23 - loss: 0.0588 - acc: 0.98 - ETA: 13:21 - loss: 0.0529 - acc: 0.98 - ETA: 13:19 - loss: 0.0495 - acc: 0.98 - ETA: 13:15 - loss: 0.0505 - acc: 0.98 - ETA: 13:13 - loss: 0.0457 - acc: 0.98 - ETA: 13:11 - loss: 0.0519 - acc: 0.98 - ETA: 13:08 - loss: 0.0788 - acc: 0.97 - ETA: 13:06 - loss: 0.1243 - acc: 0.96 - ETA: 13:03 - loss: 0.1289 - acc: 0.96 - ETA: 13:00 - loss: 0.1834 - acc: 0.96 - ETA: 12:58 - loss: 0.1937 - acc: 0.96 - ETA: 12:55 - loss: 0.1936 - acc: 0.96 - ETA: 12:53 - loss: 0.2012 - acc: 0.95 - ETA: 12:51 - loss: 0.1917 - acc: 0.96 - ETA: 12:48 - loss: 0.2505 - acc: 0.95 - ETA: 12:46 - loss: 0.2524 - acc: 0.95 - ETA: 12:44 - loss: 0.2511 - acc: 0.95 - ETA: 12:41 - loss: 0.2461 - acc: 0.95 - ETA: 12:38 - loss: 0.2469 - acc: 0.95 - ETA: 12:35 - loss: 0.2445 - acc: 0.96 - ETA: 12:33 - loss: 0.2363 - acc: 0.96 - ETA: 12:31 - loss: 0.2287 - acc: 0.96 - ETA: 12:29 - loss: 0.2248 - acc: 0.96 - ETA: 12:27 - loss: 0.2213 - acc: 0.96 - ETA: 12:24 - loss: 0.2157 - acc: 0.96 - ETA: 12:22 - loss: 0.2142 - acc: 0.96 - ETA: 12:20 - loss: 0.2281 - acc: 0.95 - ETA: 12:17 - loss: 0.2696 - acc: 0.95 - ETA: 12:14 - loss: 0.2642 - acc: 0.95 - ETA: 12:12 - loss: 0.2570 - acc: 0.95 - ETA: 12:09 - loss: 0.2500 - acc: 0.95 - ETA: 12:06 - loss: 0.2434 - acc: 0.95 - ETA: 12:04 - loss: 0.2378 - acc: 0.95 - ETA: 12:01 - loss: 0.2415 - acc: 0.95 - ETA: 11:59 - loss: 0.2444 - acc: 0.95 - ETA: 11:57 - loss: 0.2387 - acc: 0.95 - ETA: 11:54 - loss: 0.2351 - acc: 0.95 - ETA: 11:52 - loss: 0.2331 - acc: 0.95 - ETA: 11:50 - loss: 0.2283 - acc: 0.95 - ETA: 11:47 - loss: 0.2266 - acc: 0.95 - ETA: 11:45 - loss: 0.2223 - acc: 0.95 - ETA: 11:42 - loss: 0.2176 - acc: 0.95 - ETA: 11:39 - loss: 0.2164 - acc: 0.95 - ETA: 11:37 - loss: 0.2124 - acc: 0.96 - ETA: 11:34 - loss: 0.2186 - acc: 0.96 - ETA: 11:32 - loss: 0.2332 - acc: 0.95 - ETA: 11:29 - loss: 0.2302 - acc: 0.95 - ETA: 11:27 - loss: 0.2261 - acc: 0.95 - ETA: 11:25 - loss: 0.2246 - acc: 0.95 - ETA: 11:22 - loss: 0.2325 - acc: 0.95 - ETA: 11:19 - loss: 0.2288 - acc: 0.95 - ETA: 11:17 - loss: 0.2250 - acc: 0.95 - ETA: 11:14 - loss: 0.2212 - acc: 0.96 - ETA: 11:12 - loss: 0.2181 - acc: 0.96 - ETA: 11:09 - loss: 0.2218 - acc: 0.96 - ETA: 11:07 - loss: 0.2187 - acc: 0.96 - ETA: 11:04 - loss: 0.2172 - acc: 0.96 - ETA: 11:02 - loss: 0.2225 - acc: 0.96 - ETA: 10:59 - loss: 0.2194 - acc: 0.96 - ETA: 10:57 - loss: 0.2164 - acc: 0.96 - ETA: 10:54 - loss: 0.2187 - acc: 0.96 - ETA: 10:52 - loss: 0.2163 - acc: 0.96 - ETA: 10:49 - loss: 0.2134 - acc: 0.96 - ETA: 10:47 - loss: 0.2134 - acc: 0.96 - ETA: 10:45 - loss: 0.2116 - acc: 0.96 - ETA: 10:42 - loss: 0.2096 - acc: 0.96 - ETA: 10:40 - loss: 0.2118 - acc: 0.96 - ETA: 10:37 - loss: 0.2138 - acc: 0.96 - ETA: 10:35 - loss: 0.2132 - acc: 0.96 - ETA: 10:32 - loss: 0.2105 - acc: 0.96 - ETA: 10:30 - loss: 0.2080 - acc: 0.96 - ETA: 10:27 - loss: 0.2054 - acc: 0.96 - ETA: 10:25 - loss: 0.2056 - acc: 0.96 - ETA: 10:23 - loss: 0.2071 - acc: 0.96 - ETA: 10:20 - loss: 0.2050 - acc: 0.96 - ETA: 10:18 - loss: 0.2078 - acc: 0.96 - ETA: 10:15 - loss: 0.2053 - acc: 0.96 - ETA: 10:13 - loss: 0.2064 - acc: 0.96 - ETA: 10:10 - loss: 0.2047 - acc: 0.96 - ETA: 10:08 - loss: 0.2026 - acc: 0.96 - ETA: 10:05 - loss: 0.2003 - acc: 0.96 - ETA: 10:03 - loss: 0.1997 - acc: 0.96 - ETA: 10:00 - loss: 0.1977 - acc: 0.96 - ETA: 9:58 - loss: 0.1972 - acc: 0.9612 - ETA: 9:56 - loss: 0.1965 - acc: 0.961 - ETA: 9:53 - loss: 0.1974 - acc: 0.961 - ETA: 9:51 - loss: 0.1956 - acc: 0.961 - ETA: 9:48 - loss: 0.1968 - acc: 0.960 - ETA: 9:46 - loss: 0.1954 - acc: 0.961 - ETA: 9:43 - loss: 0.1954 - acc: 0.960 - ETA: 9:41 - loss: 0.1950 - acc: 0.960 - ETA: 9:38 - loss: 0.1932 - acc: 0.960 - ETA: 9:36 - loss: 0.1913 - acc: 0.961 - ETA: 9:34 - loss: 0.1894 - acc: 0.961 - ETA: 9:31 - loss: 0.1877 - acc: 0.962 - ETA: 9:29 - loss: 0.1860 - acc: 0.962 - ETA: 9:26 - loss: 0.1865 - acc: 0.962 - ETA: 9:24 - loss: 0.1856 - acc: 0.962 - ETA: 9:21 - loss: 0.1913 - acc: 0.961 - ETA: 9:19 - loss: 0.1902 - acc: 0.961 - ETA: 9:17 - loss: 0.1885 - acc: 0.962 - ETA: 9:14 - loss: 0.1900 - acc: 0.961 - ETA: 9:12 - loss: 0.1888 - acc: 0.962 - ETA: 9:09 - loss: 0.1882 - acc: 0.961 - ETA: 9:07 - loss: 0.1903 - acc: 0.961 - ETA: 9:04 - loss: 0.2002 - acc: 0.960 - ETA: 9:02 - loss: 0.1987 - acc: 0.960 - ETA: 8:59 - loss: 0.1982 - acc: 0.960 - ETA: 8:57 - loss: 0.1972 - acc: 0.960 - ETA: 8:55 - loss: 0.1955 - acc: 0.960 - ETA: 8:52 - loss: 0.1950 - acc: 0.960 - ETA: 8:50 - loss: 0.1935 - acc: 0.961 - ETA: 8:47 - loss: 0.1919 - acc: 0.961 - ETA: 8:45 - loss: 0.1932 - acc: 0.961 - ETA: 8:42 - loss: 0.1918 - acc: 0.961 - ETA: 8:40 - loss: 0.1922 - acc: 0.961 - ETA: 8:37 - loss: 0.1952 - acc: 0.960 - ETA: 8:35 - loss: 0.1948 - acc: 0.960 - ETA: 8:33 - loss: 0.1934 - acc: 0.960 - ETA: 8:30 - loss: 0.1920 - acc: 0.961 - ETA: 8:28 - loss: 0.1918 - acc: 0.961 - ETA: 8:25 - loss: 0.1907 - acc: 0.961 - ETA: 8:23 - loss: 0.1896 - acc: 0.961 - ETA: 8:20 - loss: 0.1906 - acc: 0.961 - ETA: 8:18 - loss: 0.1906 - acc: 0.961 - ETA: 8:16 - loss: 0.1982 - acc: 0.960 - ETA: 8:13 - loss: 0.1973 - acc: 0.960 - ETA: 8:11 - loss: 0.1978 - acc: 0.960 - ETA: 8:08 - loss: 0.1970 - acc: 0.960 - ETA: 8:06 - loss: 0.1960 - acc: 0.961 - ETA: 8:03 - loss: 0.1969 - acc: 0.961 - ETA: 8:01 - loss: 0.1956 - acc: 0.961 - ETA: 7:58 - loss: 0.1947 - acc: 0.961 - ETA: 7:56 - loss: 0.1990 - acc: 0.960 - ETA: 7:54 - loss: 0.1978 - acc: 0.961 - ETA: 7:51 - loss: 0.1970 - acc: 0.961 - ETA: 7:49 - loss: 0.1979 - acc: 0.960 - ETA: 7:46 - loss: 0.1966 - acc: 0.961 - ETA: 7:44 - loss: 0.1973 - acc: 0.960 - ETA: 7:41 - loss: 0.1976 - acc: 0.960 - ETA: 7:39 - loss: 0.1970 - acc: 0.961 - ETA: 7:36 - loss: 0.1963 - acc: 0.961 - ETA: 7:34 - loss: 0.1951 - acc: 0.961 - ETA: 7:31 - loss: 0.1948 - acc: 0.961 - ETA: 7:29 - loss: 0.1937 - acc: 0.962 - ETA: 7:26 - loss: 0.1925 - acc: 0.962 - ETA: 7:24 - loss: 0.1916 - acc: 0.962 - ETA: 7:22 - loss: 0.1924 - acc: 0.962 - ETA: 7:19 - loss: 0.1922 - acc: 0.962 - ETA: 7:17 - loss: 0.1931 - acc: 0.961 - ETA: 7:14 - loss: 0.1944 - acc: 0.961 - ETA: 7:12 - loss: 0.1935 - acc: 0.962 - ETA: 7:09 - loss: 0.1932 - acc: 0.962 - ETA: 7:07 - loss: 0.1926 - acc: 0.961 - ETA: 7:04 - loss: 0.1933 - acc: 0.961 - ETA: 7:02 - loss: 0.1942 - acc: 0.960 - ETA: 7:00 - loss: 0.1965 - acc: 0.960 - ETA: 6:57 - loss: 0.1955 - acc: 0.961 - ETA: 6:55 - loss: 0.1964 - acc: 0.961 - ETA: 6:52 - loss: 0.2053 - acc: 0.959 - ETA: 6:50 - loss: 0.2062 - acc: 0.959 - ETA: 6:47 - loss: 0.2057 - acc: 0.959 - ETA: 6:45 - loss: 0.2055 - acc: 0.959 - ETA: 6:43 - loss: 0.2074 - acc: 0.959 - ETA: 6:40 - loss: 0.2133 - acc: 0.958 - ETA: 6:38 - loss: 0.2142 - acc: 0.958 - ETA: 6:35 - loss: 0.2131 - acc: 0.959 - ETA: 6:33 - loss: 0.2123 - acc: 0.959 - ETA: 6:30 - loss: 0.2128 - acc: 0.958 - ETA: 6:28 - loss: 0.2118 - acc: 0.958 - ETA: 6:25 - loss: 0.2132 - acc: 0.958 - ETA: 6:23 - loss: 0.2124 - acc: 0.959 - ETA: 6:21 - loss: 0.2131 - acc: 0.958 - ETA: 6:18 - loss: 0.2130 - acc: 0.958 - ETA: 6:16 - loss: 0.2120 - acc: 0.958 - ETA: 6:13 - loss: 0.2113 - acc: 0.959 - ETA: 6:11 - loss: 0.2125 - acc: 0.959 - ETA: 6:08 - loss: 0.2132 - acc: 0.958 - ETA: 6:06 - loss: 0.2189 - acc: 0.958 - ETA: 6:04 - loss: 0.2190 - acc: 0.958 - ETA: 6:01 - loss: 0.2191 - acc: 0.958 - ETA: 5:59 - loss: 0.2180 - acc: 0.958 - ETA: 5:56 - loss: 0.2173 - acc: 0.958 - ETA: 5:54 - loss: 0.2162 - acc: 0.958 - ETA: 5:51 - loss: 0.2154 - acc: 0.958 - ETA: 5:49 - loss: 0.2175 - acc: 0.957 - ETA: 5:46 - loss: 0.2180 - acc: 0.957 - ETA: 5:44 - loss: 0.2180 - acc: 0.957 - ETA: 5:41 - loss: 0.2169 - acc: 0.958 - ETA: 5:39 - loss: 0.2160 - acc: 0.958 - ETA: 5:37 - loss: 0.2153 - acc: 0.958 - ETA: 5:34 - loss: 0.2149 - acc: 0.958 - ETA: 5:32 - loss: 0.2146 - acc: 0.957 - ETA: 5:29 - loss: 0.2152 - acc: 0.957 - ETA: 5:27 - loss: 0.2173 - acc: 0.957 - ETA: 5:24 - loss: 0.2170 - acc: 0.957 - ETA: 5:22 - loss: 0.2164 - acc: 0.957 - ETA: 5:19 - loss: 0.2218 - acc: 0.957 - ETA: 5:17 - loss: 0.2213 - acc: 0.9574"
     ]
    },
    {
     "name": "stdout",
     "output_type": "stream",
     "text": [
      "6680/6680 [==============================] - ETA: 5:15 - loss: 0.2207 - acc: 0.957 - ETA: 5:12 - loss: 0.2197 - acc: 0.957 - ETA: 5:10 - loss: 0.2190 - acc: 0.957 - ETA: 5:07 - loss: 0.2181 - acc: 0.957 - ETA: 5:05 - loss: 0.2172 - acc: 0.958 - ETA: 5:02 - loss: 0.2171 - acc: 0.958 - ETA: 5:00 - loss: 0.2166 - acc: 0.958 - ETA: 4:58 - loss: 0.2187 - acc: 0.957 - ETA: 4:55 - loss: 0.2180 - acc: 0.958 - ETA: 4:53 - loss: 0.2172 - acc: 0.958 - ETA: 4:50 - loss: 0.2165 - acc: 0.958 - ETA: 4:48 - loss: 0.2155 - acc: 0.958 - ETA: 4:45 - loss: 0.2173 - acc: 0.958 - ETA: 4:43 - loss: 0.2211 - acc: 0.957 - ETA: 4:40 - loss: 0.2206 - acc: 0.957 - ETA: 4:38 - loss: 0.2225 - acc: 0.957 - ETA: 4:35 - loss: 0.2226 - acc: 0.957 - ETA: 4:33 - loss: 0.2234 - acc: 0.956 - ETA: 4:31 - loss: 0.2241 - acc: 0.956 - ETA: 4:28 - loss: 0.2245 - acc: 0.956 - ETA: 4:26 - loss: 0.2235 - acc: 0.956 - ETA: 4:23 - loss: 0.2232 - acc: 0.956 - ETA: 4:21 - loss: 0.2223 - acc: 0.956 - ETA: 4:18 - loss: 0.2214 - acc: 0.956 - ETA: 4:16 - loss: 0.2205 - acc: 0.956 - ETA: 4:14 - loss: 0.2220 - acc: 0.956 - ETA: 4:11 - loss: 0.2213 - acc: 0.956 - ETA: 4:09 - loss: 0.2205 - acc: 0.956 - ETA: 4:06 - loss: 0.2213 - acc: 0.956 - ETA: 4:04 - loss: 0.2215 - acc: 0.956 - ETA: 4:01 - loss: 0.2209 - acc: 0.956 - ETA: 3:59 - loss: 0.2211 - acc: 0.956 - ETA: 3:56 - loss: 0.2203 - acc: 0.956 - ETA: 3:54 - loss: 0.2197 - acc: 0.956 - ETA: 3:52 - loss: 0.2209 - acc: 0.956 - ETA: 3:49 - loss: 0.2200 - acc: 0.956 - ETA: 3:47 - loss: 0.2193 - acc: 0.956 - ETA: 3:44 - loss: 0.2185 - acc: 0.957 - ETA: 3:42 - loss: 0.2196 - acc: 0.956 - ETA: 3:39 - loss: 0.2191 - acc: 0.956 - ETA: 3:37 - loss: 0.2188 - acc: 0.956 - ETA: 3:34 - loss: 0.2231 - acc: 0.955 - ETA: 3:32 - loss: 0.2346 - acc: 0.954 - ETA: 3:30 - loss: 0.2380 - acc: 0.954 - ETA: 3:27 - loss: 0.2391 - acc: 0.954 - ETA: 3:25 - loss: 0.2389 - acc: 0.954 - ETA: 3:22 - loss: 0.2383 - acc: 0.954 - ETA: 3:20 - loss: 0.2374 - acc: 0.954 - ETA: 3:17 - loss: 0.2368 - acc: 0.954 - ETA: 3:15 - loss: 0.2391 - acc: 0.954 - ETA: 3:12 - loss: 0.2385 - acc: 0.954 - ETA: 3:10 - loss: 0.2384 - acc: 0.954 - ETA: 3:08 - loss: 0.2377 - acc: 0.954 - ETA: 3:05 - loss: 0.2406 - acc: 0.954 - ETA: 3:03 - loss: 0.2510 - acc: 0.952 - ETA: 3:00 - loss: 0.2510 - acc: 0.952 - ETA: 2:58 - loss: 0.2500 - acc: 0.952 - ETA: 2:55 - loss: 0.2491 - acc: 0.952 - ETA: 2:53 - loss: 0.2491 - acc: 0.952 - ETA: 2:51 - loss: 0.2491 - acc: 0.952 - ETA: 2:48 - loss: 0.2482 - acc: 0.952 - ETA: 2:46 - loss: 0.2478 - acc: 0.953 - ETA: 2:43 - loss: 0.2470 - acc: 0.953 - ETA: 2:41 - loss: 0.2480 - acc: 0.953 - ETA: 2:38 - loss: 0.2474 - acc: 0.953 - ETA: 2:36 - loss: 0.2467 - acc: 0.953 - ETA: 2:33 - loss: 0.2488 - acc: 0.953 - ETA: 2:31 - loss: 0.2480 - acc: 0.953 - ETA: 2:29 - loss: 0.2472 - acc: 0.953 - ETA: 2:26 - loss: 0.2465 - acc: 0.953 - ETA: 2:24 - loss: 0.2461 - acc: 0.953 - ETA: 2:21 - loss: 0.2458 - acc: 0.953 - ETA: 2:19 - loss: 0.2465 - acc: 0.953 - ETA: 2:16 - loss: 0.2469 - acc: 0.953 - ETA: 2:14 - loss: 0.2493 - acc: 0.952 - ETA: 2:11 - loss: 0.2490 - acc: 0.952 - ETA: 2:09 - loss: 0.2482 - acc: 0.953 - ETA: 2:07 - loss: 0.2482 - acc: 0.953 - ETA: 2:04 - loss: 0.2481 - acc: 0.953 - ETA: 2:02 - loss: 0.2473 - acc: 0.953 - ETA: 1:59 - loss: 0.2468 - acc: 0.953 - ETA: 1:57 - loss: 0.2459 - acc: 0.953 - ETA: 1:54 - loss: 0.2466 - acc: 0.953 - ETA: 1:52 - loss: 0.2459 - acc: 0.953 - ETA: 1:49 - loss: 0.2457 - acc: 0.953 - ETA: 1:47 - loss: 0.2469 - acc: 0.953 - ETA: 1:45 - loss: 0.2461 - acc: 0.953 - ETA: 1:42 - loss: 0.2465 - acc: 0.953 - ETA: 1:40 - loss: 0.2495 - acc: 0.952 - ETA: 1:37 - loss: 0.2516 - acc: 0.952 - ETA: 1:35 - loss: 0.2532 - acc: 0.952 - ETA: 1:32 - loss: 0.2526 - acc: 0.952 - ETA: 1:30 - loss: 0.2523 - acc: 0.952 - ETA: 1:27 - loss: 0.2514 - acc: 0.952 - ETA: 1:25 - loss: 0.2508 - acc: 0.952 - ETA: 1:23 - loss: 0.2518 - acc: 0.952 - ETA: 1:20 - loss: 0.2535 - acc: 0.952 - ETA: 1:18 - loss: 0.2532 - acc: 0.952 - ETA: 1:15 - loss: 0.2535 - acc: 0.952 - ETA: 1:13 - loss: 0.2562 - acc: 0.951 - ETA: 1:10 - loss: 0.2563 - acc: 0.951 - ETA: 1:08 - loss: 0.2566 - acc: 0.951 - ETA: 1:05 - loss: 0.2559 - acc: 0.951 - ETA: 1:03 - loss: 0.2554 - acc: 0.951 - ETA: 1:01 - loss: 0.2551 - acc: 0.951 - ETA: 58s - loss: 0.2549 - acc: 0.951 - ETA: 56s - loss: 0.2543 - acc: 0.95 - ETA: 53s - loss: 0.2553 - acc: 0.95 - ETA: 51s - loss: 0.2548 - acc: 0.95 - ETA: 48s - loss: 0.2544 - acc: 0.95 - ETA: 46s - loss: 0.2562 - acc: 0.95 - ETA: 43s - loss: 0.2557 - acc: 0.95 - ETA: 41s - loss: 0.2644 - acc: 0.94 - ETA: 39s - loss: 0.2639 - acc: 0.94 - ETA: 36s - loss: 0.2640 - acc: 0.94 - ETA: 34s - loss: 0.2635 - acc: 0.94 - ETA: 31s - loss: 0.2628 - acc: 0.95 - ETA: 29s - loss: 0.2622 - acc: 0.95 - ETA: 26s - loss: 0.2622 - acc: 0.95 - ETA: 24s - loss: 0.2623 - acc: 0.95 - ETA: 21s - loss: 0.2717 - acc: 0.94 - ETA: 19s - loss: 0.2718 - acc: 0.94 - ETA: 17s - loss: 0.2709 - acc: 0.94 - ETA: 14s - loss: 0.2707 - acc: 0.94 - ETA: 12s - loss: 0.2720 - acc: 0.94 - ETA: 9s - loss: 0.2727 - acc: 0.9483 - ETA: 7s - loss: 0.2722 - acc: 0.948 - ETA: 4s - loss: 0.2718 - acc: 0.948 - ETA: 2s - loss: 0.2710 - acc: 0.948 - 842s 126ms/step - loss: 0.2728 - acc: 0.9485 - val_loss: 10.1011 - val_acc: 0.0383\n",
      "\n",
      "Epoch 00006: val_loss did not improve\n",
      "Epoch 7/10\n",
      "4080/6680 [=================>............] - ETA: 13:30 - loss: 0.2696 - acc: 0.95 - ETA: 13:25 - loss: 0.2907 - acc: 0.95 - ETA: 13:28 - loss: 0.1944 - acc: 0.96 - ETA: 13:22 - loss: 0.1460 - acc: 0.97 - ETA: 13:20 - loss: 0.1563 - acc: 0.97 - ETA: 13:21 - loss: 0.1322 - acc: 0.97 - ETA: 13:18 - loss: 0.1144 - acc: 0.97 - ETA: 13:16 - loss: 0.1295 - acc: 0.96 - ETA: 13:14 - loss: 0.1155 - acc: 0.97 - ETA: 13:11 - loss: 0.1215 - acc: 0.97 - ETA: 13:09 - loss: 0.1148 - acc: 0.97 - ETA: 13:08 - loss: 0.1119 - acc: 0.97 - ETA: 13:07 - loss: 0.1046 - acc: 0.97 - ETA: 13:03 - loss: 0.1161 - acc: 0.97 - ETA: 13:01 - loss: 0.1533 - acc: 0.97 - ETA: 12:58 - loss: 0.1447 - acc: 0.97 - ETA: 12:56 - loss: 0.1408 - acc: 0.97 - ETA: 12:54 - loss: 0.1408 - acc: 0.97 - ETA: 12:52 - loss: 0.1336 - acc: 0.97 - ETA: 12:49 - loss: 0.1274 - acc: 0.97 - ETA: 12:46 - loss: 0.1225 - acc: 0.97 - ETA: 12:43 - loss: 0.1453 - acc: 0.97 - ETA: 12:41 - loss: 0.1428 - acc: 0.97 - ETA: 12:38 - loss: 0.1371 - acc: 0.97 - ETA: 12:36 - loss: 0.1491 - acc: 0.97 - ETA: 12:33 - loss: 0.1449 - acc: 0.97 - ETA: 12:31 - loss: 0.1404 - acc: 0.97 - ETA: 12:28 - loss: 0.1378 - acc: 0.97 - ETA: 12:26 - loss: 0.1354 - acc: 0.97 - ETA: 12:23 - loss: 0.1310 - acc: 0.97 - ETA: 12:22 - loss: 0.1278 - acc: 0.97 - ETA: 12:20 - loss: 0.1243 - acc: 0.97 - ETA: 12:17 - loss: 0.1208 - acc: 0.97 - ETA: 12:15 - loss: 0.1173 - acc: 0.97 - ETA: 12:13 - loss: 0.1140 - acc: 0.98 - ETA: 12:10 - loss: 0.1117 - acc: 0.98 - ETA: 12:08 - loss: 0.1108 - acc: 0.97 - ETA: 12:05 - loss: 0.1089 - acc: 0.98 - ETA: 12:03 - loss: 0.1064 - acc: 0.98 - ETA: 12:00 - loss: 0.1041 - acc: 0.98 - ETA: 11:57 - loss: 0.1024 - acc: 0.98 - ETA: 11:55 - loss: 0.1002 - acc: 0.98 - ETA: 11:52 - loss: 0.0979 - acc: 0.98 - ETA: 11:49 - loss: 0.0959 - acc: 0.98 - ETA: 11:47 - loss: 0.0939 - acc: 0.98 - ETA: 11:45 - loss: 0.0919 - acc: 0.98 - ETA: 11:42 - loss: 0.0907 - acc: 0.98 - ETA: 11:40 - loss: 0.0889 - acc: 0.98 - ETA: 11:37 - loss: 0.0895 - acc: 0.98 - ETA: 11:34 - loss: 0.0953 - acc: 0.98 - ETA: 11:32 - loss: 0.1005 - acc: 0.98 - ETA: 11:29 - loss: 0.0987 - acc: 0.98 - ETA: 11:26 - loss: 0.1036 - acc: 0.98 - ETA: 11:24 - loss: 0.1224 - acc: 0.97 - ETA: 11:21 - loss: 0.1205 - acc: 0.97 - ETA: 11:19 - loss: 0.1184 - acc: 0.97 - ETA: 11:17 - loss: 0.1163 - acc: 0.97 - ETA: 11:14 - loss: 0.1143 - acc: 0.97 - ETA: 11:12 - loss: 0.1230 - acc: 0.97 - ETA: 11:10 - loss: 0.1210 - acc: 0.97 - ETA: 11:07 - loss: 0.1253 - acc: 0.97 - ETA: 11:05 - loss: 0.1248 - acc: 0.97 - ETA: 11:02 - loss: 0.1254 - acc: 0.97 - ETA: 11:00 - loss: 0.1235 - acc: 0.97 - ETA: 10:57 - loss: 0.1250 - acc: 0.97 - ETA: 10:55 - loss: 0.1320 - acc: 0.97 - ETA: 10:53 - loss: 0.1507 - acc: 0.97 - ETA: 10:50 - loss: 0.1599 - acc: 0.97 - ETA: 10:48 - loss: 0.1588 - acc: 0.97 - ETA: 10:45 - loss: 0.1573 - acc: 0.97 - ETA: 10:43 - loss: 0.1553 - acc: 0.97 - ETA: 10:40 - loss: 0.1533 - acc: 0.97 - ETA: 10:38 - loss: 0.1537 - acc: 0.97 - ETA: 10:35 - loss: 0.1577 - acc: 0.97 - ETA: 10:33 - loss: 0.1557 - acc: 0.97 - ETA: 10:30 - loss: 0.1543 - acc: 0.97 - ETA: 10:28 - loss: 0.1545 - acc: 0.97 - ETA: 10:25 - loss: 0.1560 - acc: 0.97 - ETA: 10:23 - loss: 0.1571 - acc: 0.97 - ETA: 10:21 - loss: 0.1553 - acc: 0.97 - ETA: 10:18 - loss: 0.1534 - acc: 0.97 - ETA: 10:16 - loss: 0.1522 - acc: 0.97 - ETA: 10:13 - loss: 0.1607 - acc: 0.97 - ETA: 10:11 - loss: 0.1614 - acc: 0.97 - ETA: 10:09 - loss: 0.1600 - acc: 0.97 - ETA: 10:06 - loss: 0.1607 - acc: 0.97 - ETA: 10:04 - loss: 0.1589 - acc: 0.97 - ETA: 10:01 - loss: 0.1571 - acc: 0.97 - ETA: 9:59 - loss: 0.1563 - acc: 0.9708 - ETA: 9:56 - loss: 0.1566 - acc: 0.970 - ETA: 9:54 - loss: 0.1599 - acc: 0.969 - ETA: 9:51 - loss: 0.1582 - acc: 0.970 - ETA: 9:49 - loss: 0.1654 - acc: 0.969 - ETA: 9:46 - loss: 0.1638 - acc: 0.970 - ETA: 9:44 - loss: 0.1624 - acc: 0.970 - ETA: 9:42 - loss: 0.1610 - acc: 0.970 - ETA: 9:39 - loss: 0.1594 - acc: 0.971 - ETA: 9:37 - loss: 0.1642 - acc: 0.970 - ETA: 9:34 - loss: 0.1652 - acc: 0.970 - ETA: 9:32 - loss: 0.1683 - acc: 0.969 - ETA: 9:29 - loss: 0.1667 - acc: 0.969 - ETA: 9:27 - loss: 0.1651 - acc: 0.970 - ETA: 9:24 - loss: 0.1656 - acc: 0.969 - ETA: 9:22 - loss: 0.1646 - acc: 0.970 - ETA: 9:19 - loss: 0.1630 - acc: 0.970 - ETA: 9:17 - loss: 0.1616 - acc: 0.970 - ETA: 9:14 - loss: 0.1602 - acc: 0.971 - ETA: 9:12 - loss: 0.1610 - acc: 0.969 - ETA: 9:10 - loss: 0.1615 - acc: 0.969 - ETA: 9:07 - loss: 0.1610 - acc: 0.969 - ETA: 9:05 - loss: 0.1596 - acc: 0.969 - ETA: 9:02 - loss: 0.1584 - acc: 0.970 - ETA: 9:00 - loss: 0.1570 - acc: 0.970 - ETA: 8:58 - loss: 0.1568 - acc: 0.970 - ETA: 8:55 - loss: 0.1561 - acc: 0.970 - ETA: 8:53 - loss: 0.1558 - acc: 0.969 - ETA: 8:50 - loss: 0.1908 - acc: 0.965 - ETA: 8:48 - loss: 0.1997 - acc: 0.964 - ETA: 8:45 - loss: 0.2002 - acc: 0.964 - ETA: 8:43 - loss: 0.1993 - acc: 0.964 - ETA: 8:40 - loss: 0.2149 - acc: 0.962 - ETA: 8:38 - loss: 0.2159 - acc: 0.961 - ETA: 8:36 - loss: 0.2201 - acc: 0.961 - ETA: 8:33 - loss: 0.2458 - acc: 0.958 - ETA: 8:31 - loss: 0.2441 - acc: 0.959 - ETA: 8:28 - loss: 0.2428 - acc: 0.959 - ETA: 8:26 - loss: 0.2415 - acc: 0.959 - ETA: 8:23 - loss: 0.2400 - acc: 0.959 - ETA: 8:21 - loss: 0.2397 - acc: 0.958 - ETA: 8:18 - loss: 0.2394 - acc: 0.958 - ETA: 8:16 - loss: 0.2437 - acc: 0.958 - ETA: 8:14 - loss: 0.2455 - acc: 0.958 - ETA: 8:11 - loss: 0.2844 - acc: 0.954 - ETA: 8:09 - loss: 0.2869 - acc: 0.953 - ETA: 8:07 - loss: 0.2945 - acc: 0.953 - ETA: 8:04 - loss: 0.2924 - acc: 0.953 - ETA: 8:02 - loss: 0.2985 - acc: 0.952 - ETA: 7:59 - loss: 0.2964 - acc: 0.952 - ETA: 7:57 - loss: 0.2943 - acc: 0.952 - ETA: 7:54 - loss: 0.2943 - acc: 0.952 - ETA: 7:52 - loss: 0.2938 - acc: 0.952 - ETA: 7:50 - loss: 0.2929 - acc: 0.952 - ETA: 7:47 - loss: 0.2938 - acc: 0.952 - ETA: 7:45 - loss: 0.2940 - acc: 0.952 - ETA: 7:42 - loss: 0.2922 - acc: 0.952 - ETA: 7:40 - loss: 0.2916 - acc: 0.952 - ETA: 7:37 - loss: 0.2897 - acc: 0.953 - ETA: 7:35 - loss: 0.2880 - acc: 0.953 - ETA: 7:32 - loss: 0.2862 - acc: 0.953 - ETA: 7:30 - loss: 0.2844 - acc: 0.954 - ETA: 7:27 - loss: 0.2830 - acc: 0.954 - ETA: 7:25 - loss: 0.2812 - acc: 0.954 - ETA: 7:23 - loss: 0.2800 - acc: 0.954 - ETA: 7:20 - loss: 0.2805 - acc: 0.954 - ETA: 7:18 - loss: 0.2795 - acc: 0.954 - ETA: 7:15 - loss: 0.2793 - acc: 0.954 - ETA: 7:13 - loss: 0.2775 - acc: 0.954 - ETA: 7:10 - loss: 0.2758 - acc: 0.955 - ETA: 7:08 - loss: 0.2749 - acc: 0.955 - ETA: 7:05 - loss: 0.2761 - acc: 0.955 - ETA: 7:03 - loss: 0.2752 - acc: 0.955 - ETA: 7:00 - loss: 0.2735 - acc: 0.955 - ETA: 6:58 - loss: 0.2758 - acc: 0.954 - ETA: 6:55 - loss: 0.2741 - acc: 0.954 - ETA: 6:53 - loss: 0.2730 - acc: 0.955 - ETA: 6:51 - loss: 0.2717 - acc: 0.955 - ETA: 6:48 - loss: 0.2705 - acc: 0.955 - ETA: 6:46 - loss: 0.2699 - acc: 0.955 - ETA: 6:43 - loss: 0.2686 - acc: 0.955 - ETA: 6:41 - loss: 0.2673 - acc: 0.955 - ETA: 6:38 - loss: 0.2670 - acc: 0.955 - ETA: 6:36 - loss: 0.2658 - acc: 0.955 - ETA: 6:33 - loss: 0.2656 - acc: 0.955 - ETA: 6:31 - loss: 0.2652 - acc: 0.955 - ETA: 6:29 - loss: 0.2643 - acc: 0.955 - ETA: 6:26 - loss: 0.2639 - acc: 0.955 - ETA: 6:24 - loss: 0.2629 - acc: 0.955 - ETA: 6:21 - loss: 0.2615 - acc: 0.955 - ETA: 6:19 - loss: 0.2606 - acc: 0.955 - ETA: 6:16 - loss: 0.2592 - acc: 0.955 - ETA: 6:14 - loss: 0.2586 - acc: 0.955 - ETA: 6:11 - loss: 0.2574 - acc: 0.956 - ETA: 6:09 - loss: 0.2562 - acc: 0.956 - ETA: 6:07 - loss: 0.2554 - acc: 0.956 - ETA: 6:04 - loss: 0.2547 - acc: 0.956 - ETA: 6:02 - loss: 0.2548 - acc: 0.956 - ETA: 5:59 - loss: 0.2535 - acc: 0.956 - ETA: 5:57 - loss: 0.2523 - acc: 0.956 - ETA: 5:54 - loss: 0.2528 - acc: 0.956 - ETA: 5:52 - loss: 0.2516 - acc: 0.956 - ETA: 5:49 - loss: 0.2522 - acc: 0.956 - ETA: 5:47 - loss: 0.2525 - acc: 0.956 - ETA: 5:44 - loss: 0.2516 - acc: 0.956 - ETA: 5:42 - loss: 0.2504 - acc: 0.956 - ETA: 5:40 - loss: 0.2500 - acc: 0.956 - ETA: 5:37 - loss: 0.2538 - acc: 0.955 - ETA: 5:35 - loss: 0.2597 - acc: 0.953 - ETA: 5:32 - loss: 0.2606 - acc: 0.953 - ETA: 5:30 - loss: 0.2599 - acc: 0.953 - ETA: 5:27 - loss: 0.2592 - acc: 0.953 - ETA: 5:25 - loss: 0.2582 - acc: 0.953 - ETA: 5:22 - loss: 0.2571 - acc: 0.953 - ETA: 5:20 - loss: 0.2560 - acc: 0.953 - ETA: 5:18 - loss: 0.2563 - acc: 0.95396680/6680 [==============================] - ETA: 5:15 - loss: 0.2551 - acc: 0.954 - ETA: 5:13 - loss: 0.2547 - acc: 0.953 - ETA: 5:10 - loss: 0.2550 - acc: 0.953 - ETA: 5:08 - loss: 0.2544 - acc: 0.953 - ETA: 5:05 - loss: 0.2533 - acc: 0.953 - ETA: 5:03 - loss: 0.2522 - acc: 0.954 - ETA: 5:00 - loss: 0.2546 - acc: 0.953 - ETA: 4:58 - loss: 0.2534 - acc: 0.953 - ETA: 4:55 - loss: 0.2525 - acc: 0.953 - ETA: 4:53 - loss: 0.2517 - acc: 0.954 - ETA: 4:51 - loss: 0.2505 - acc: 0.954 - ETA: 4:48 - loss: 0.2495 - acc: 0.954 - ETA: 4:46 - loss: 0.2510 - acc: 0.954 - ETA: 4:43 - loss: 0.2499 - acc: 0.954 - ETA: 4:41 - loss: 0.2488 - acc: 0.954 - ETA: 4:38 - loss: 0.2477 - acc: 0.954 - ETA: 4:36 - loss: 0.2466 - acc: 0.955 - ETA: 4:33 - loss: 0.2459 - acc: 0.955 - ETA: 4:31 - loss: 0.2449 - acc: 0.955 - ETA: 4:29 - loss: 0.2439 - acc: 0.955 - ETA: 4:26 - loss: 0.2433 - acc: 0.955 - ETA: 4:24 - loss: 0.2428 - acc: 0.955 - ETA: 4:21 - loss: 0.2420 - acc: 0.955 - ETA: 4:19 - loss: 0.2436 - acc: 0.955 - ETA: 4:16 - loss: 0.2430 - acc: 0.955 - ETA: 4:14 - loss: 0.2435 - acc: 0.955 - ETA: 4:11 - loss: 0.2430 - acc: 0.955 - ETA: 4:09 - loss: 0.2457 - acc: 0.954 - ETA: 4:07 - loss: 0.2447 - acc: 0.954 - ETA: 4:04 - loss: 0.2441 - acc: 0.954 - ETA: 4:02 - loss: 0.2434 - acc: 0.955 - ETA: 3:59 - loss: 0.2425 - acc: 0.955 - ETA: 3:57 - loss: 0.2429 - acc: 0.955 - ETA: 3:54 - loss: 0.2475 - acc: 0.954 - ETA: 3:52 - loss: 0.2465 - acc: 0.954 - ETA: 3:49 - loss: 0.2513 - acc: 0.954 - ETA: 3:47 - loss: 0.2544 - acc: 0.953 - ETA: 3:45 - loss: 0.2535 - acc: 0.953 - ETA: 3:42 - loss: 0.2525 - acc: 0.953 - ETA: 3:40 - loss: 0.2521 - acc: 0.953 - ETA: 3:37 - loss: 0.2527 - acc: 0.953 - ETA: 3:35 - loss: 0.2533 - acc: 0.953 - ETA: 3:32 - loss: 0.2524 - acc: 0.953 - ETA: 3:30 - loss: 0.2515 - acc: 0.954 - ETA: 3:27 - loss: 0.2538 - acc: 0.953 - ETA: 3:25 - loss: 0.2542 - acc: 0.953 - ETA: 3:23 - loss: 0.2534 - acc: 0.953 - ETA: 3:20 - loss: 0.2535 - acc: 0.953 - ETA: 3:18 - loss: 0.2532 - acc: 0.953 - ETA: 3:15 - loss: 0.2540 - acc: 0.953 - ETA: 3:13 - loss: 0.2530 - acc: 0.953 - ETA: 3:10 - loss: 0.2521 - acc: 0.953 - ETA: 3:08 - loss: 0.2513 - acc: 0.953 - ETA: 3:05 - loss: 0.2505 - acc: 0.953 - ETA: 3:03 - loss: 0.2500 - acc: 0.953 - ETA: 3:01 - loss: 0.2499 - acc: 0.953 - ETA: 2:58 - loss: 0.2496 - acc: 0.953 - ETA: 2:56 - loss: 0.2487 - acc: 0.953 - ETA: 2:53 - loss: 0.2478 - acc: 0.954 - ETA: 2:51 - loss: 0.2469 - acc: 0.954 - ETA: 2:48 - loss: 0.2463 - acc: 0.954 - ETA: 2:46 - loss: 0.2454 - acc: 0.954 - ETA: 2:43 - loss: 0.2445 - acc: 0.954 - ETA: 2:41 - loss: 0.2460 - acc: 0.954 - ETA: 2:39 - loss: 0.2472 - acc: 0.953 - ETA: 2:36 - loss: 0.2468 - acc: 0.953 - ETA: 2:34 - loss: 0.2459 - acc: 0.954 - ETA: 2:31 - loss: 0.2451 - acc: 0.954 - ETA: 2:29 - loss: 0.2442 - acc: 0.954 - ETA: 2:26 - loss: 0.2438 - acc: 0.954 - ETA: 2:24 - loss: 0.2431 - acc: 0.954 - ETA: 2:21 - loss: 0.2425 - acc: 0.954 - ETA: 2:19 - loss: 0.2417 - acc: 0.954 - ETA: 2:16 - loss: 0.2409 - acc: 0.954 - ETA: 2:14 - loss: 0.2416 - acc: 0.954 - ETA: 2:12 - loss: 0.2469 - acc: 0.953 - ETA: 2:09 - loss: 0.2466 - acc: 0.953 - ETA: 2:07 - loss: 0.2459 - acc: 0.953 - ETA: 2:04 - loss: 0.2450 - acc: 0.953 - ETA: 2:02 - loss: 0.2444 - acc: 0.953 - ETA: 1:59 - loss: 0.2440 - acc: 0.953 - ETA: 1:57 - loss: 0.2433 - acc: 0.954 - ETA: 1:54 - loss: 0.2443 - acc: 0.953 - ETA: 1:52 - loss: 0.2435 - acc: 0.954 - ETA: 1:50 - loss: 0.2428 - acc: 0.954 - ETA: 1:47 - loss: 0.2423 - acc: 0.954 - ETA: 1:45 - loss: 0.2426 - acc: 0.954 - ETA: 1:42 - loss: 0.2439 - acc: 0.953 - ETA: 1:40 - loss: 0.2435 - acc: 0.953 - ETA: 1:37 - loss: 0.2428 - acc: 0.953 - ETA: 1:35 - loss: 0.2420 - acc: 0.954 - ETA: 1:32 - loss: 0.2427 - acc: 0.953 - ETA: 1:30 - loss: 0.2421 - acc: 0.954 - ETA: 1:28 - loss: 0.2413 - acc: 0.954 - ETA: 1:25 - loss: 0.2405 - acc: 0.954 - ETA: 1:23 - loss: 0.2403 - acc: 0.954 - ETA: 1:20 - loss: 0.2395 - acc: 0.954 - ETA: 1:18 - loss: 0.2392 - acc: 0.954 - ETA: 1:15 - loss: 0.2397 - acc: 0.954 - ETA: 1:13 - loss: 0.2401 - acc: 0.954 - ETA: 1:10 - loss: 0.2421 - acc: 0.954 - ETA: 1:08 - loss: 0.2413 - acc: 0.954 - ETA: 1:06 - loss: 0.2407 - acc: 0.954 - ETA: 1:03 - loss: 0.2417 - acc: 0.954 - ETA: 1:01 - loss: 0.2413 - acc: 0.954 - ETA: 58s - loss: 0.2415 - acc: 0.954 - ETA: 56s - loss: 0.2414 - acc: 0.95 - ETA: 53s - loss: 0.2408 - acc: 0.95 - ETA: 51s - loss: 0.2401 - acc: 0.95 - ETA: 48s - loss: 0.2394 - acc: 0.95 - ETA: 46s - loss: 0.2406 - acc: 0.95 - ETA: 44s - loss: 0.2401 - acc: 0.95 - ETA: 41s - loss: 0.2394 - acc: 0.95 - ETA: 39s - loss: 0.2389 - acc: 0.95 - ETA: 36s - loss: 0.2385 - acc: 0.95 - ETA: 34s - loss: 0.2380 - acc: 0.95 - ETA: 31s - loss: 0.2388 - acc: 0.95 - ETA: 29s - loss: 0.2382 - acc: 0.95 - ETA: 26s - loss: 0.2377 - acc: 0.95 - ETA: 24s - loss: 0.2378 - acc: 0.95 - ETA: 22s - loss: 0.2374 - acc: 0.95 - ETA: 19s - loss: 0.2369 - acc: 0.95 - ETA: 17s - loss: 0.2362 - acc: 0.95 - ETA: 14s - loss: 0.2371 - acc: 0.95 - ETA: 12s - loss: 0.2366 - acc: 0.95 - ETA: 9s - loss: 0.2360 - acc: 0.9555 - ETA: 7s - loss: 0.2353 - acc: 0.955 - ETA: 4s - loss: 0.2347 - acc: 0.955 - ETA: 2s - loss: 0.2356 - acc: 0.955 - 843s 126ms/step - loss: 0.2360 - acc: 0.9549 - val_loss: 11.2877 - val_acc: 0.0407\n",
      "\n",
      "Epoch 00007: val_loss did not improve\n",
      "Epoch 8/10\n"
     ]
    },
    {
     "name": "stdout",
     "output_type": "stream",
     "text": [
      "4080/6680 [=================>............] - ETA: 13:45 - loss: 0.1670 - acc: 0.95 - ETA: 13:37 - loss: 0.1247 - acc: 0.97 - ETA: 13:32 - loss: 0.0836 - acc: 0.98 - ETA: 13:29 - loss: 0.0631 - acc: 0.98 - ETA: 13:28 - loss: 0.0506 - acc: 0.99 - ETA: 13:23 - loss: 0.0448 - acc: 0.99 - ETA: 13:17 - loss: 0.0384 - acc: 0.99 - ETA: 13:15 - loss: 0.0337 - acc: 0.99 - ETA: 13:12 - loss: 0.0312 - acc: 0.99 - ETA: 13:11 - loss: 0.0894 - acc: 0.98 - ETA: 13:08 - loss: 0.1048 - acc: 0.97 - ETA: 13:06 - loss: 0.1135 - acc: 0.97 - ETA: 13:03 - loss: 0.1505 - acc: 0.96 - ETA: 13:02 - loss: 0.1614 - acc: 0.96 - ETA: 13:01 - loss: 0.1557 - acc: 0.96 - ETA: 12:58 - loss: 0.1725 - acc: 0.96 - ETA: 12:55 - loss: 0.1633 - acc: 0.96 - ETA: 12:52 - loss: 0.1545 - acc: 0.96 - ETA: 12:50 - loss: 0.1464 - acc: 0.96 - ETA: 12:47 - loss: 0.1467 - acc: 0.96 - ETA: 12:45 - loss: 0.1475 - acc: 0.96 - ETA: 12:42 - loss: 0.1472 - acc: 0.96 - ETA: 12:40 - loss: 0.1432 - acc: 0.96 - ETA: 12:37 - loss: 0.1380 - acc: 0.96 - ETA: 12:34 - loss: 0.1325 - acc: 0.96 - ETA: 12:32 - loss: 0.1288 - acc: 0.96 - ETA: 12:29 - loss: 0.1241 - acc: 0.97 - ETA: 12:27 - loss: 0.1226 - acc: 0.96 - ETA: 12:25 - loss: 0.1229 - acc: 0.96 - ETA: 12:23 - loss: 0.1199 - acc: 0.97 - ETA: 12:21 - loss: 0.1160 - acc: 0.97 - ETA: 12:18 - loss: 0.1133 - acc: 0.97 - ETA: 12:15 - loss: 0.1100 - acc: 0.97 - ETA: 12:13 - loss: 0.1072 - acc: 0.97 - ETA: 12:11 - loss: 0.1048 - acc: 0.97 - ETA: 12:08 - loss: 0.1056 - acc: 0.97 - ETA: 12:06 - loss: 0.1027 - acc: 0.97 - ETA: 12:05 - loss: 0.1000 - acc: 0.97 - ETA: 12:03 - loss: 0.1004 - acc: 0.97 - ETA: 12:02 - loss: 0.0979 - acc: 0.97 - ETA: 11:59 - loss: 0.0961 - acc: 0.97 - ETA: 11:57 - loss: 0.0979 - acc: 0.97 - ETA: 11:54 - loss: 0.0959 - acc: 0.97 - ETA: 11:52 - loss: 0.1000 - acc: 0.97 - ETA: 11:49 - loss: 0.1306 - acc: 0.97 - ETA: 11:47 - loss: 0.1282 - acc: 0.97 - ETA: 11:44 - loss: 0.1256 - acc: 0.97 - ETA: 11:41 - loss: 0.1230 - acc: 0.97 - ETA: 11:39 - loss: 0.1205 - acc: 0.97 - ETA: 11:36 - loss: 0.1182 - acc: 0.97 - ETA: 11:34 - loss: 0.1178 - acc: 0.97 - ETA: 11:31 - loss: 0.1156 - acc: 0.97 - ETA: 11:29 - loss: 0.1135 - acc: 0.97 - ETA: 11:26 - loss: 0.1115 - acc: 0.97 - ETA: 11:24 - loss: 0.1103 - acc: 0.97 - ETA: 11:21 - loss: 0.1091 - acc: 0.97 - ETA: 11:19 - loss: 0.1079 - acc: 0.97 - ETA: 11:17 - loss: 0.1091 - acc: 0.97 - ETA: 11:14 - loss: 0.1111 - acc: 0.97 - ETA: 11:12 - loss: 0.1172 - acc: 0.97 - ETA: 11:09 - loss: 0.1158 - acc: 0.97 - ETA: 11:07 - loss: 0.1161 - acc: 0.97 - ETA: 11:04 - loss: 0.1144 - acc: 0.97 - ETA: 11:02 - loss: 0.1127 - acc: 0.97 - ETA: 11:00 - loss: 0.1110 - acc: 0.97 - ETA: 10:57 - loss: 0.1097 - acc: 0.97 - ETA: 10:54 - loss: 0.1082 - acc: 0.97 - ETA: 10:52 - loss: 0.1183 - acc: 0.97 - ETA: 10:49 - loss: 0.1178 - acc: 0.97 - ETA: 10:47 - loss: 0.1161 - acc: 0.97 - ETA: 10:44 - loss: 0.1145 - acc: 0.97 - ETA: 10:42 - loss: 0.1129 - acc: 0.97 - ETA: 10:39 - loss: 0.1115 - acc: 0.97 - ETA: 10:37 - loss: 0.1104 - acc: 0.97 - ETA: 10:34 - loss: 0.1092 - acc: 0.97 - ETA: 10:32 - loss: 0.1085 - acc: 0.97 - ETA: 10:29 - loss: 0.1071 - acc: 0.97 - ETA: 10:27 - loss: 0.1058 - acc: 0.97 - ETA: 10:25 - loss: 0.1044 - acc: 0.97 - ETA: 10:22 - loss: 0.1069 - acc: 0.97 - ETA: 10:20 - loss: 0.1158 - acc: 0.97 - ETA: 10:17 - loss: 0.1177 - acc: 0.97 - ETA: 10:15 - loss: 0.1163 - acc: 0.97 - ETA: 10:12 - loss: 0.1164 - acc: 0.97 - ETA: 10:10 - loss: 0.1150 - acc: 0.97 - ETA: 10:07 - loss: 0.1171 - acc: 0.97 - ETA: 10:05 - loss: 0.1158 - acc: 0.97 - ETA: 10:02 - loss: 0.1149 - acc: 0.97 - ETA: 10:00 - loss: 0.1136 - acc: 0.97 - ETA: 9:57 - loss: 0.1132 - acc: 0.9767 - ETA: 9:55 - loss: 0.1132 - acc: 0.976 - ETA: 9:53 - loss: 0.1121 - acc: 0.976 - ETA: 9:50 - loss: 0.1109 - acc: 0.976 - ETA: 9:48 - loss: 0.1104 - acc: 0.976 - ETA: 9:45 - loss: 0.1117 - acc: 0.976 - ETA: 9:43 - loss: 0.1111 - acc: 0.976 - ETA: 9:40 - loss: 0.1120 - acc: 0.976 - ETA: 9:38 - loss: 0.1192 - acc: 0.976 - ETA: 9:35 - loss: 0.1180 - acc: 0.976 - ETA: 9:33 - loss: 0.1189 - acc: 0.976 - ETA: 9:30 - loss: 0.1257 - acc: 0.975 - ETA: 9:28 - loss: 0.1254 - acc: 0.976 - ETA: 9:25 - loss: 0.1254 - acc: 0.975 - ETA: 9:23 - loss: 0.1242 - acc: 0.976 - ETA: 9:21 - loss: 0.1251 - acc: 0.975 - ETA: 9:18 - loss: 0.1317 - acc: 0.974 - ETA: 9:16 - loss: 0.1306 - acc: 0.974 - ETA: 9:13 - loss: 0.1322 - acc: 0.974 - ETA: 9:11 - loss: 0.1310 - acc: 0.974 - ETA: 9:08 - loss: 0.1301 - acc: 0.975 - ETA: 9:06 - loss: 0.1289 - acc: 0.975 - ETA: 9:03 - loss: 0.1283 - acc: 0.975 - ETA: 9:01 - loss: 0.1272 - acc: 0.975 - ETA: 8:58 - loss: 0.1262 - acc: 0.975 - ETA: 8:56 - loss: 0.1257 - acc: 0.975 - ETA: 8:53 - loss: 0.1247 - acc: 0.975 - ETA: 8:51 - loss: 0.1239 - acc: 0.976 - ETA: 8:48 - loss: 0.1228 - acc: 0.976 - ETA: 8:46 - loss: 0.1218 - acc: 0.976 - ETA: 8:43 - loss: 0.1216 - acc: 0.975 - ETA: 8:41 - loss: 0.1229 - acc: 0.975 - ETA: 8:39 - loss: 0.1278 - acc: 0.975 - ETA: 8:36 - loss: 0.1292 - acc: 0.974 - ETA: 8:34 - loss: 0.1282 - acc: 0.975 - ETA: 8:31 - loss: 0.1313 - acc: 0.974 - ETA: 8:29 - loss: 0.1306 - acc: 0.974 - ETA: 8:26 - loss: 0.1359 - acc: 0.974 - ETA: 8:24 - loss: 0.1349 - acc: 0.974 - ETA: 8:21 - loss: 0.1344 - acc: 0.974 - ETA: 8:19 - loss: 0.1334 - acc: 0.974 - ETA: 8:16 - loss: 0.1325 - acc: 0.974 - ETA: 8:14 - loss: 0.1321 - acc: 0.974 - ETA: 8:11 - loss: 0.1312 - acc: 0.974 - ETA: 8:09 - loss: 0.1302 - acc: 0.975 - ETA: 8:06 - loss: 0.1352 - acc: 0.974 - ETA: 8:04 - loss: 0.1359 - acc: 0.974 - ETA: 8:02 - loss: 0.1349 - acc: 0.974 - ETA: 7:59 - loss: 0.1339 - acc: 0.975 - ETA: 7:57 - loss: 0.1331 - acc: 0.975 - ETA: 7:54 - loss: 0.1322 - acc: 0.975 - ETA: 7:52 - loss: 0.1354 - acc: 0.975 - ETA: 7:49 - loss: 0.1344 - acc: 0.975 - ETA: 7:47 - loss: 0.1341 - acc: 0.975 - ETA: 7:44 - loss: 0.1332 - acc: 0.975 - ETA: 7:42 - loss: 0.1359 - acc: 0.974 - ETA: 7:40 - loss: 0.1357 - acc: 0.974 - ETA: 7:37 - loss: 0.1375 - acc: 0.974 - ETA: 7:35 - loss: 0.1367 - acc: 0.974 - ETA: 7:32 - loss: 0.1359 - acc: 0.974 - ETA: 7:30 - loss: 0.1365 - acc: 0.974 - ETA: 7:27 - loss: 0.1356 - acc: 0.974 - ETA: 7:25 - loss: 0.1347 - acc: 0.974 - ETA: 7:22 - loss: 0.1362 - acc: 0.974 - ETA: 7:20 - loss: 0.1386 - acc: 0.974 - ETA: 7:18 - loss: 0.1396 - acc: 0.973 - ETA: 7:15 - loss: 0.1390 - acc: 0.973 - ETA: 7:13 - loss: 0.1399 - acc: 0.973 - ETA: 7:10 - loss: 0.1479 - acc: 0.972 - ETA: 7:08 - loss: 0.1469 - acc: 0.973 - ETA: 7:05 - loss: 0.1461 - acc: 0.973 - ETA: 7:03 - loss: 0.1452 - acc: 0.973 - ETA: 7:00 - loss: 0.1447 - acc: 0.973 - ETA: 6:58 - loss: 0.1443 - acc: 0.973 - ETA: 6:55 - loss: 0.1434 - acc: 0.973 - ETA: 6:53 - loss: 0.1425 - acc: 0.973 - ETA: 6:51 - loss: 0.1418 - acc: 0.973 - ETA: 6:48 - loss: 0.1421 - acc: 0.973 - ETA: 6:46 - loss: 0.1413 - acc: 0.973 - ETA: 6:43 - loss: 0.1406 - acc: 0.973 - ETA: 6:41 - loss: 0.1398 - acc: 0.973 - ETA: 6:38 - loss: 0.1390 - acc: 0.973 - ETA: 6:36 - loss: 0.1382 - acc: 0.973 - ETA: 6:33 - loss: 0.1374 - acc: 0.974 - ETA: 6:31 - loss: 0.1403 - acc: 0.973 - ETA: 6:28 - loss: 0.1396 - acc: 0.973 - ETA: 6:26 - loss: 0.1402 - acc: 0.973 - ETA: 6:24 - loss: 0.1429 - acc: 0.973 - ETA: 6:21 - loss: 0.1422 - acc: 0.973 - ETA: 6:19 - loss: 0.1418 - acc: 0.973 - ETA: 6:16 - loss: 0.1411 - acc: 0.973 - ETA: 6:14 - loss: 0.1415 - acc: 0.973 - ETA: 6:11 - loss: 0.1416 - acc: 0.973 - ETA: 6:09 - loss: 0.1949 - acc: 0.969 - ETA: 6:07 - loss: 0.1964 - acc: 0.969 - ETA: 6:04 - loss: 0.1954 - acc: 0.969 - ETA: 6:02 - loss: 0.1956 - acc: 0.969 - ETA: 5:59 - loss: 0.1959 - acc: 0.969 - ETA: 5:57 - loss: 0.1996 - acc: 0.968 - ETA: 5:54 - loss: 0.2021 - acc: 0.968 - ETA: 5:52 - loss: 0.2013 - acc: 0.968 - ETA: 5:49 - loss: 0.2003 - acc: 0.968 - ETA: 5:47 - loss: 0.1994 - acc: 0.968 - ETA: 5:44 - loss: 0.1984 - acc: 0.968 - ETA: 5:42 - loss: 0.1976 - acc: 0.969 - ETA: 5:40 - loss: 0.1994 - acc: 0.969 - ETA: 5:37 - loss: 0.2026 - acc: 0.968 - ETA: 5:35 - loss: 0.2017 - acc: 0.969 - ETA: 5:32 - loss: 0.2007 - acc: 0.969 - ETA: 5:30 - loss: 0.2037 - acc: 0.969 - ETA: 5:27 - loss: 0.2028 - acc: 0.969 - ETA: 5:25 - loss: 0.2034 - acc: 0.968 - ETA: 5:22 - loss: 0.2039 - acc: 0.968 - ETA: 5:20 - loss: 0.2030 - acc: 0.969 - ETA: 5:17 - loss: 0.2020 - acc: 0.9691"
     ]
    },
    {
     "name": "stdout",
     "output_type": "stream",
     "text": [
      "6680/6680 [==============================] - ETA: 5:15 - loss: 0.2018 - acc: 0.969 - ETA: 5:13 - loss: 0.2013 - acc: 0.968 - ETA: 5:10 - loss: 0.2003 - acc: 0.969 - ETA: 5:08 - loss: 0.2013 - acc: 0.969 - ETA: 5:05 - loss: 0.2003 - acc: 0.969 - ETA: 5:03 - loss: 0.2006 - acc: 0.969 - ETA: 5:00 - loss: 0.2022 - acc: 0.968 - ETA: 4:58 - loss: 0.2020 - acc: 0.968 - ETA: 4:55 - loss: 0.2051 - acc: 0.968 - ETA: 4:53 - loss: 0.2054 - acc: 0.968 - ETA: 4:51 - loss: 0.2083 - acc: 0.968 - ETA: 4:48 - loss: 0.2078 - acc: 0.968 - ETA: 4:46 - loss: 0.2069 - acc: 0.968 - ETA: 4:43 - loss: 0.2061 - acc: 0.968 - ETA: 4:41 - loss: 0.2052 - acc: 0.968 - ETA: 4:38 - loss: 0.2044 - acc: 0.968 - ETA: 4:36 - loss: 0.2041 - acc: 0.968 - ETA: 4:33 - loss: 0.2031 - acc: 0.968 - ETA: 4:31 - loss: 0.2035 - acc: 0.968 - ETA: 4:29 - loss: 0.2027 - acc: 0.968 - ETA: 4:26 - loss: 0.2018 - acc: 0.968 - ETA: 4:24 - loss: 0.2009 - acc: 0.968 - ETA: 4:21 - loss: 0.2014 - acc: 0.968 - ETA: 4:19 - loss: 0.2021 - acc: 0.968 - ETA: 4:16 - loss: 0.2013 - acc: 0.968 - ETA: 4:14 - loss: 0.2004 - acc: 0.968 - ETA: 4:11 - loss: 0.2009 - acc: 0.968 - ETA: 4:09 - loss: 0.2009 - acc: 0.968 - ETA: 4:06 - loss: 0.2016 - acc: 0.967 - ETA: 4:04 - loss: 0.2075 - acc: 0.967 - ETA: 4:02 - loss: 0.2067 - acc: 0.967 - ETA: 3:59 - loss: 0.2085 - acc: 0.967 - ETA: 3:57 - loss: 0.2077 - acc: 0.967 - ETA: 3:54 - loss: 0.2080 - acc: 0.967 - ETA: 3:52 - loss: 0.2076 - acc: 0.966 - ETA: 3:49 - loss: 0.2068 - acc: 0.966 - ETA: 3:47 - loss: 0.2067 - acc: 0.966 - ETA: 3:44 - loss: 0.2064 - acc: 0.966 - ETA: 3:42 - loss: 0.2058 - acc: 0.966 - ETA: 3:40 - loss: 0.2052 - acc: 0.967 - ETA: 3:37 - loss: 0.2068 - acc: 0.966 - ETA: 3:35 - loss: 0.2060 - acc: 0.967 - ETA: 3:32 - loss: 0.2058 - acc: 0.967 - ETA: 3:30 - loss: 0.2059 - acc: 0.966 - ETA: 3:27 - loss: 0.2053 - acc: 0.967 - ETA: 3:25 - loss: 0.2045 - acc: 0.967 - ETA: 3:22 - loss: 0.2038 - acc: 0.967 - ETA: 3:20 - loss: 0.2030 - acc: 0.967 - ETA: 3:18 - loss: 0.2025 - acc: 0.967 - ETA: 3:15 - loss: 0.2022 - acc: 0.967 - ETA: 3:13 - loss: 0.2063 - acc: 0.967 - ETA: 3:10 - loss: 0.2065 - acc: 0.967 - ETA: 3:08 - loss: 0.2058 - acc: 0.967 - ETA: 3:05 - loss: 0.2050 - acc: 0.967 - ETA: 3:03 - loss: 0.2043 - acc: 0.967 - ETA: 3:00 - loss: 0.2041 - acc: 0.967 - ETA: 2:58 - loss: 0.2034 - acc: 0.967 - ETA: 2:56 - loss: 0.2031 - acc: 0.967 - ETA: 2:53 - loss: 0.2027 - acc: 0.967 - ETA: 2:51 - loss: 0.2019 - acc: 0.967 - ETA: 2:48 - loss: 0.2023 - acc: 0.967 - ETA: 2:46 - loss: 0.2017 - acc: 0.967 - ETA: 2:43 - loss: 0.2012 - acc: 0.967 - ETA: 2:41 - loss: 0.2005 - acc: 0.967 - ETA: 2:38 - loss: 0.2035 - acc: 0.967 - ETA: 2:36 - loss: 0.2034 - acc: 0.967 - ETA: 2:34 - loss: 0.2033 - acc: 0.967 - ETA: 2:31 - loss: 0.2028 - acc: 0.967 - ETA: 2:29 - loss: 0.2033 - acc: 0.966 - ETA: 2:26 - loss: 0.2029 - acc: 0.966 - ETA: 2:24 - loss: 0.2024 - acc: 0.966 - ETA: 2:21 - loss: 0.2020 - acc: 0.966 - ETA: 2:19 - loss: 0.2014 - acc: 0.966 - ETA: 2:16 - loss: 0.2007 - acc: 0.966 - ETA: 2:14 - loss: 0.2002 - acc: 0.966 - ETA: 2:12 - loss: 0.1995 - acc: 0.967 - ETA: 2:09 - loss: 0.2004 - acc: 0.966 - ETA: 2:07 - loss: 0.1997 - acc: 0.966 - ETA: 2:04 - loss: 0.1990 - acc: 0.967 - ETA: 2:02 - loss: 0.1983 - acc: 0.967 - ETA: 1:59 - loss: 0.1981 - acc: 0.967 - ETA: 1:57 - loss: 0.1977 - acc: 0.967 - ETA: 1:54 - loss: 0.1972 - acc: 0.967 - ETA: 1:52 - loss: 0.1967 - acc: 0.967 - ETA: 1:50 - loss: 0.1966 - acc: 0.967 - ETA: 1:47 - loss: 0.2064 - acc: 0.966 - ETA: 1:45 - loss: 0.2058 - acc: 0.966 - ETA: 1:42 - loss: 0.2079 - acc: 0.966 - ETA: 1:40 - loss: 0.2072 - acc: 0.966 - ETA: 1:37 - loss: 0.2078 - acc: 0.966 - ETA: 1:35 - loss: 0.2084 - acc: 0.966 - ETA: 1:32 - loss: 0.2077 - acc: 0.966 - ETA: 1:30 - loss: 0.2072 - acc: 0.966 - ETA: 1:28 - loss: 0.2065 - acc: 0.966 - ETA: 1:25 - loss: 0.2059 - acc: 0.966 - ETA: 1:23 - loss: 0.2052 - acc: 0.966 - ETA: 1:20 - loss: 0.2046 - acc: 0.966 - ETA: 1:18 - loss: 0.2039 - acc: 0.967 - ETA: 1:15 - loss: 0.2032 - acc: 0.967 - ETA: 1:13 - loss: 0.2031 - acc: 0.967 - ETA: 1:10 - loss: 0.2048 - acc: 0.966 - ETA: 1:08 - loss: 0.2047 - acc: 0.966 - ETA: 1:06 - loss: 0.2071 - acc: 0.966 - ETA: 1:03 - loss: 0.2174 - acc: 0.964 - ETA: 1:01 - loss: 0.2174 - acc: 0.964 - ETA: 58s - loss: 0.2167 - acc: 0.964 - ETA: 56s - loss: 0.2163 - acc: 0.96 - ETA: 53s - loss: 0.2156 - acc: 0.96 - ETA: 51s - loss: 0.2176 - acc: 0.96 - ETA: 48s - loss: 0.2173 - acc: 0.96 - ETA: 46s - loss: 0.2167 - acc: 0.96 - ETA: 44s - loss: 0.2160 - acc: 0.96 - ETA: 41s - loss: 0.2154 - acc: 0.96 - ETA: 39s - loss: 0.2153 - acc: 0.96 - ETA: 36s - loss: 0.2163 - acc: 0.96 - ETA: 34s - loss: 0.2162 - acc: 0.96 - ETA: 31s - loss: 0.2160 - acc: 0.96 - ETA: 29s - loss: 0.2157 - acc: 0.96 - ETA: 26s - loss: 0.2151 - acc: 0.96 - ETA: 24s - loss: 0.2145 - acc: 0.96 - ETA: 22s - loss: 0.2139 - acc: 0.96 - ETA: 19s - loss: 0.2134 - acc: 0.96 - ETA: 17s - loss: 0.2128 - acc: 0.96 - ETA: 14s - loss: 0.2122 - acc: 0.96 - ETA: 12s - loss: 0.2119 - acc: 0.96 - ETA: 9s - loss: 0.2113 - acc: 0.9653 - ETA: 7s - loss: 0.2114 - acc: 0.965 - ETA: 4s - loss: 0.2108 - acc: 0.965 - ETA: 2s - loss: 0.2102 - acc: 0.965 - 842s 126ms/step - loss: 0.2096 - acc: 0.9656 - val_loss: 11.2584 - val_acc: 0.0395\n",
      "\n",
      "Epoch 00008: val_loss did not improve\n",
      "Epoch 9/10\n",
      "4080/6680 [=================>............] - ETA: 13:33 - loss: 0.0012 - acc: 1.00 - ETA: 13:33 - loss: 0.0831 - acc: 0.97 - ETA: 13:26 - loss: 0.0578 - acc: 0.98 - ETA: 13:24 - loss: 0.0452 - acc: 0.98 - ETA: 13:25 - loss: 0.0363 - acc: 0.99 - ETA: 13:22 - loss: 0.0305 - acc: 0.99 - ETA: 13:17 - loss: 0.0263 - acc: 0.99 - ETA: 13:15 - loss: 0.0231 - acc: 0.99 - ETA: 13:13 - loss: 0.0208 - acc: 0.99 - ETA: 13:12 - loss: 0.0189 - acc: 0.99 - ETA: 13:09 - loss: 0.0244 - acc: 0.99 - ETA: 13:06 - loss: 0.0234 - acc: 0.99 - ETA: 13:03 - loss: 0.0219 - acc: 0.99 - ETA: 13:01 - loss: 0.0254 - acc: 0.98 - ETA: 12:58 - loss: 0.0380 - acc: 0.98 - ETA: 12:56 - loss: 0.0358 - acc: 0.98 - ETA: 12:53 - loss: 0.0588 - acc: 0.98 - ETA: 12:51 - loss: 0.0560 - acc: 0.98 - ETA: 12:48 - loss: 0.0531 - acc: 0.98 - ETA: 12:46 - loss: 0.0505 - acc: 0.98 - ETA: 12:43 - loss: 0.0482 - acc: 0.98 - ETA: 12:41 - loss: 0.0549 - acc: 0.98 - ETA: 12:38 - loss: 0.0530 - acc: 0.98 - ETA: 12:36 - loss: 0.0510 - acc: 0.98 - ETA: 12:33 - loss: 0.0508 - acc: 0.98 - ETA: 12:31 - loss: 0.0546 - acc: 0.98 - ETA: 12:28 - loss: 0.0726 - acc: 0.97 - ETA: 12:26 - loss: 0.0758 - acc: 0.97 - ETA: 12:24 - loss: 0.2847 - acc: 0.96 - ETA: 12:22 - loss: 0.3136 - acc: 0.95 - ETA: 12:19 - loss: 0.3269 - acc: 0.95 - ETA: 12:17 - loss: 0.3168 - acc: 0.95 - ETA: 12:15 - loss: 0.3160 - acc: 0.95 - ETA: 12:12 - loss: 0.3068 - acc: 0.95 - ETA: 12:09 - loss: 0.2993 - acc: 0.95 - ETA: 12:07 - loss: 0.2911 - acc: 0.95 - ETA: 12:04 - loss: 0.2832 - acc: 0.95 - ETA: 12:02 - loss: 0.2758 - acc: 0.96 - ETA: 11:59 - loss: 0.2872 - acc: 0.96 - ETA: 11:57 - loss: 0.2801 - acc: 0.96 - ETA: 11:55 - loss: 0.2733 - acc: 0.96 - ETA: 11:52 - loss: 0.2669 - acc: 0.96 - ETA: 11:50 - loss: 0.2607 - acc: 0.96 - ETA: 11:47 - loss: 0.2634 - acc: 0.96 - ETA: 11:45 - loss: 0.2576 - acc: 0.96 - ETA: 11:43 - loss: 0.2521 - acc: 0.96 - ETA: 11:40 - loss: 0.2723 - acc: 0.96 - ETA: 11:38 - loss: 0.2835 - acc: 0.96 - ETA: 11:36 - loss: 0.2777 - acc: 0.96 - ETA: 11:33 - loss: 0.2803 - acc: 0.96 - ETA: 11:31 - loss: 0.2804 - acc: 0.96 - ETA: 11:29 - loss: 0.2752 - acc: 0.96 - ETA: 11:26 - loss: 0.2700 - acc: 0.96 - ETA: 11:24 - loss: 0.2651 - acc: 0.96 - ETA: 11:21 - loss: 0.2652 - acc: 0.96 - ETA: 11:19 - loss: 0.2605 - acc: 0.96 - ETA: 11:16 - loss: 0.2561 - acc: 0.96 - ETA: 11:14 - loss: 0.2656 - acc: 0.96 - ETA: 11:11 - loss: 0.2611 - acc: 0.96 - ETA: 11:09 - loss: 0.2595 - acc: 0.96 - ETA: 11:07 - loss: 0.2553 - acc: 0.96 - ETA: 11:04 - loss: 0.2513 - acc: 0.96 - ETA: 11:02 - loss: 0.2476 - acc: 0.96 - ETA: 10:59 - loss: 0.2448 - acc: 0.96 - ETA: 10:57 - loss: 0.2413 - acc: 0.96 - ETA: 10:54 - loss: 0.2377 - acc: 0.96 - ETA: 10:52 - loss: 0.2342 - acc: 0.97 - ETA: 10:49 - loss: 0.2311 - acc: 0.97 - ETA: 10:47 - loss: 0.2285 - acc: 0.97 - ETA: 10:45 - loss: 0.2263 - acc: 0.97 - ETA: 10:42 - loss: 0.2233 - acc: 0.97 - ETA: 10:40 - loss: 0.2316 - acc: 0.97 - ETA: 10:37 - loss: 0.2303 - acc: 0.97 - ETA: 10:35 - loss: 0.2478 - acc: 0.96 - ETA: 10:32 - loss: 0.2526 - acc: 0.96 - ETA: 10:30 - loss: 0.2493 - acc: 0.96 - ETA: 10:27 - loss: 0.2483 - acc: 0.96 - ETA: 10:25 - loss: 0.2506 - acc: 0.96 - ETA: 10:23 - loss: 0.2559 - acc: 0.96 - ETA: 10:20 - loss: 0.2564 - acc: 0.96 - ETA: 10:18 - loss: 0.2532 - acc: 0.96 - ETA: 10:15 - loss: 0.2502 - acc: 0.96 - ETA: 10:13 - loss: 0.2504 - acc: 0.96 - ETA: 10:10 - loss: 0.2474 - acc: 0.96 - ETA: 10:08 - loss: 0.2448 - acc: 0.96 - ETA: 10:05 - loss: 0.2420 - acc: 0.96 - ETA: 10:03 - loss: 0.2394 - acc: 0.96 - ETA: 10:00 - loss: 0.2443 - acc: 0.96 - ETA: 9:58 - loss: 0.2423 - acc: 0.9663 - ETA: 9:56 - loss: 0.2546 - acc: 0.965 - ETA: 9:53 - loss: 0.2518 - acc: 0.965 - ETA: 9:51 - loss: 0.2519 - acc: 0.965 - ETA: 9:48 - loss: 0.2509 - acc: 0.965 - ETA: 9:46 - loss: 0.2484 - acc: 0.966 - ETA: 9:43 - loss: 0.2459 - acc: 0.966 - ETA: 9:41 - loss: 0.2434 - acc: 0.966 - ETA: 9:38 - loss: 0.2424 - acc: 0.967 - ETA: 9:36 - loss: 0.2400 - acc: 0.967 - ETA: 9:34 - loss: 0.2376 - acc: 0.967 - ETA: 9:31 - loss: 0.2352 - acc: 0.968 - ETA: 9:29 - loss: 0.2329 - acc: 0.968 - ETA: 9:26 - loss: 0.2323 - acc: 0.968 - ETA: 9:24 - loss: 0.2378 - acc: 0.968 - ETA: 9:21 - loss: 0.2356 - acc: 0.968 - ETA: 9:19 - loss: 0.2333 - acc: 0.969 - ETA: 9:16 - loss: 0.2324 - acc: 0.968 - ETA: 9:14 - loss: 0.2303 - acc: 0.969 - ETA: 9:12 - loss: 0.2282 - acc: 0.969 - ETA: 9:09 - loss: 0.2270 - acc: 0.969 - ETA: 9:07 - loss: 0.2250 - acc: 0.969 - ETA: 9:04 - loss: 0.2230 - acc: 0.969 - ETA: 9:02 - loss: 0.2255 - acc: 0.969 - ETA: 8:59 - loss: 0.2259 - acc: 0.969 - ETA: 8:57 - loss: 0.2280 - acc: 0.968 - ETA: 8:54 - loss: 0.2261 - acc: 0.969 - ETA: 8:52 - loss: 0.2259 - acc: 0.969 - ETA: 8:50 - loss: 0.2245 - acc: 0.968 - ETA: 8:47 - loss: 0.2226 - acc: 0.969 - ETA: 8:45 - loss: 0.2209 - acc: 0.969 - ETA: 8:42 - loss: 0.2192 - acc: 0.969 - ETA: 8:40 - loss: 0.2191 - acc: 0.969 - ETA: 8:37 - loss: 0.2174 - acc: 0.969 - ETA: 8:35 - loss: 0.2156 - acc: 0.969 - ETA: 8:32 - loss: 0.2140 - acc: 0.969 - ETA: 8:30 - loss: 0.2134 - acc: 0.969 - ETA: 8:27 - loss: 0.2117 - acc: 0.969 - ETA: 8:25 - loss: 0.2101 - acc: 0.970 - ETA: 8:23 - loss: 0.2109 - acc: 0.969 - ETA: 8:20 - loss: 0.2093 - acc: 0.970 - ETA: 8:18 - loss: 0.2077 - acc: 0.970 - ETA: 8:15 - loss: 0.2063 - acc: 0.970 - ETA: 8:13 - loss: 0.2074 - acc: 0.970 - ETA: 8:11 - loss: 0.2065 - acc: 0.970 - ETA: 8:08 - loss: 0.2063 - acc: 0.970 - ETA: 8:06 - loss: 0.2048 - acc: 0.970 - ETA: 8:03 - loss: 0.2070 - acc: 0.970 - ETA: 8:01 - loss: 0.2077 - acc: 0.969 - ETA: 7:58 - loss: 0.2064 - acc: 0.969 - ETA: 7:56 - loss: 0.2060 - acc: 0.969 - ETA: 7:53 - loss: 0.2052 - acc: 0.969 - ETA: 7:51 - loss: 0.2038 - acc: 0.969 - ETA: 7:48 - loss: 0.2056 - acc: 0.969 - ETA: 7:46 - loss: 0.2050 - acc: 0.969 - ETA: 7:44 - loss: 0.2057 - acc: 0.969 - ETA: 7:41 - loss: 0.2061 - acc: 0.969 - ETA: 7:39 - loss: 0.2073 - acc: 0.968 - ETA: 7:36 - loss: 0.2062 - acc: 0.968 - ETA: 7:34 - loss: 0.2055 - acc: 0.968 - ETA: 7:31 - loss: 0.2042 - acc: 0.968 - ETA: 7:29 - loss: 0.2028 - acc: 0.969 - ETA: 7:27 - loss: 0.2016 - acc: 0.969 - ETA: 7:24 - loss: 0.2006 - acc: 0.969 - ETA: 7:22 - loss: 0.2046 - acc: 0.969 - ETA: 7:19 - loss: 0.2038 - acc: 0.969 - ETA: 7:17 - loss: 0.2026 - acc: 0.969 - ETA: 7:14 - loss: 0.2013 - acc: 0.969 - ETA: 7:12 - loss: 0.2005 - acc: 0.969 - ETA: 7:09 - loss: 0.1992 - acc: 0.969 - ETA: 7:07 - loss: 0.1981 - acc: 0.969 - ETA: 7:05 - loss: 0.2022 - acc: 0.969 - ETA: 7:02 - loss: 0.2029 - acc: 0.969 - ETA: 7:00 - loss: 0.2016 - acc: 0.969 - ETA: 6:57 - loss: 0.2006 - acc: 0.969 - ETA: 6:55 - loss: 0.2010 - acc: 0.969 - ETA: 6:52 - loss: 0.2014 - acc: 0.968 - ETA: 6:50 - loss: 0.2013 - acc: 0.968 - ETA: 6:47 - loss: 0.2025 - acc: 0.968 - ETA: 6:45 - loss: 0.2024 - acc: 0.968 - ETA: 6:42 - loss: 0.2012 - acc: 0.968 - ETA: 6:40 - loss: 0.2007 - acc: 0.968 - ETA: 6:38 - loss: 0.2011 - acc: 0.968 - ETA: 6:35 - loss: 0.1999 - acc: 0.968 - ETA: 6:33 - loss: 0.1989 - acc: 0.968 - ETA: 6:30 - loss: 0.1990 - acc: 0.968 - ETA: 6:28 - loss: 0.1979 - acc: 0.968 - ETA: 6:25 - loss: 0.1969 - acc: 0.969 - ETA: 6:23 - loss: 0.1958 - acc: 0.969 - ETA: 6:21 - loss: 0.1947 - acc: 0.969 - ETA: 6:18 - loss: 0.1937 - acc: 0.969 - ETA: 6:16 - loss: 0.1932 - acc: 0.969 - ETA: 6:13 - loss: 0.1929 - acc: 0.969 - ETA: 6:11 - loss: 0.1925 - acc: 0.969 - ETA: 6:08 - loss: 0.1923 - acc: 0.969 - ETA: 6:06 - loss: 0.1914 - acc: 0.969 - ETA: 6:03 - loss: 0.1921 - acc: 0.969 - ETA: 6:01 - loss: 0.1918 - acc: 0.969 - ETA: 5:59 - loss: 0.1927 - acc: 0.969 - ETA: 5:56 - loss: 0.1921 - acc: 0.968 - ETA: 5:54 - loss: 0.1912 - acc: 0.969 - ETA: 5:51 - loss: 0.1903 - acc: 0.969 - ETA: 5:49 - loss: 0.1898 - acc: 0.969 - ETA: 5:46 - loss: 0.1888 - acc: 0.969 - ETA: 5:44 - loss: 0.1882 - acc: 0.969 - ETA: 5:41 - loss: 0.1874 - acc: 0.969 - ETA: 5:39 - loss: 0.1864 - acc: 0.969 - ETA: 5:37 - loss: 0.1871 - acc: 0.969 - ETA: 5:34 - loss: 0.1888 - acc: 0.969 - ETA: 5:32 - loss: 0.1879 - acc: 0.969 - ETA: 5:29 - loss: 0.1879 - acc: 0.968 - ETA: 5:27 - loss: 0.1888 - acc: 0.968 - ETA: 5:24 - loss: 0.1879 - acc: 0.968 - ETA: 5:22 - loss: 0.1870 - acc: 0.969 - ETA: 5:19 - loss: 0.1865 - acc: 0.969 - ETA: 5:17 - loss: 0.1861 - acc: 0.96896680/6680 [==============================] - ETA: 5:15 - loss: 0.1852 - acc: 0.969 - ETA: 5:12 - loss: 0.1846 - acc: 0.968 - ETA: 5:10 - loss: 0.1840 - acc: 0.968 - ETA: 5:07 - loss: 0.1841 - acc: 0.968 - ETA: 5:05 - loss: 0.1834 - acc: 0.968 - ETA: 5:02 - loss: 0.1830 - acc: 0.968 - ETA: 5:00 - loss: 0.1821 - acc: 0.969 - ETA: 4:57 - loss: 0.1813 - acc: 0.969 - ETA: 4:55 - loss: 0.1804 - acc: 0.969 - ETA: 4:53 - loss: 0.1802 - acc: 0.969 - ETA: 4:50 - loss: 0.1846 - acc: 0.968 - ETA: 4:48 - loss: 0.1838 - acc: 0.968 - ETA: 4:45 - loss: 0.1830 - acc: 0.968 - ETA: 4:43 - loss: 0.1822 - acc: 0.969 - ETA: 4:40 - loss: 0.1814 - acc: 0.969 - ETA: 4:38 - loss: 0.1806 - acc: 0.969 - ETA: 4:36 - loss: 0.1799 - acc: 0.969 - ETA: 4:33 - loss: 0.1792 - acc: 0.969 - ETA: 4:31 - loss: 0.1785 - acc: 0.969 - ETA: 4:28 - loss: 0.1777 - acc: 0.969 - ETA: 4:26 - loss: 0.1769 - acc: 0.970 - ETA: 4:23 - loss: 0.1761 - acc: 0.970 - ETA: 4:21 - loss: 0.1754 - acc: 0.970 - ETA: 4:18 - loss: 0.1747 - acc: 0.970 - ETA: 4:16 - loss: 0.1740 - acc: 0.970 - ETA: 4:14 - loss: 0.1733 - acc: 0.970 - ETA: 4:11 - loss: 0.1729 - acc: 0.970 - ETA: 4:09 - loss: 0.1722 - acc: 0.970 - ETA: 4:06 - loss: 0.1715 - acc: 0.971 - ETA: 4:04 - loss: 0.1707 - acc: 0.971 - ETA: 4:01 - loss: 0.1709 - acc: 0.971 - ETA: 3:59 - loss: 0.1704 - acc: 0.971 - ETA: 3:56 - loss: 0.1716 - acc: 0.971 - ETA: 3:54 - loss: 0.1725 - acc: 0.970 - ETA: 3:52 - loss: 0.1832 - acc: 0.969 - ETA: 3:49 - loss: 0.1861 - acc: 0.969 - ETA: 3:47 - loss: 0.1905 - acc: 0.968 - ETA: 3:44 - loss: 0.1899 - acc: 0.968 - ETA: 3:42 - loss: 0.1906 - acc: 0.968 - ETA: 3:39 - loss: 0.1898 - acc: 0.968 - ETA: 3:37 - loss: 0.1891 - acc: 0.968 - ETA: 3:34 - loss: 0.1892 - acc: 0.968 - ETA: 3:32 - loss: 0.1884 - acc: 0.968 - ETA: 3:30 - loss: 0.1884 - acc: 0.968 - ETA: 3:27 - loss: 0.1877 - acc: 0.968 - ETA: 3:25 - loss: 0.1869 - acc: 0.968 - ETA: 3:22 - loss: 0.1862 - acc: 0.968 - ETA: 3:20 - loss: 0.1854 - acc: 0.968 - ETA: 3:17 - loss: 0.1847 - acc: 0.969 - ETA: 3:15 - loss: 0.1840 - acc: 0.969 - ETA: 3:12 - loss: 0.1833 - acc: 0.969 - ETA: 3:10 - loss: 0.1825 - acc: 0.969 - ETA: 3:08 - loss: 0.1824 - acc: 0.969 - ETA: 3:05 - loss: 0.1861 - acc: 0.969 - ETA: 3:03 - loss: 0.1854 - acc: 0.969 - ETA: 3:00 - loss: 0.1863 - acc: 0.969 - ETA: 2:58 - loss: 0.1864 - acc: 0.969 - ETA: 2:55 - loss: 0.1859 - acc: 0.969 - ETA: 2:53 - loss: 0.1852 - acc: 0.969 - ETA: 2:50 - loss: 0.1845 - acc: 0.969 - ETA: 2:48 - loss: 0.1838 - acc: 0.969 - ETA: 2:46 - loss: 0.1831 - acc: 0.969 - ETA: 2:43 - loss: 0.1825 - acc: 0.969 - ETA: 2:41 - loss: 0.1818 - acc: 0.969 - ETA: 2:38 - loss: 0.1842 - acc: 0.969 - ETA: 2:36 - loss: 0.1835 - acc: 0.969 - ETA: 2:33 - loss: 0.1835 - acc: 0.969 - ETA: 2:31 - loss: 0.1829 - acc: 0.969 - ETA: 2:29 - loss: 0.1822 - acc: 0.970 - ETA: 2:26 - loss: 0.1819 - acc: 0.970 - ETA: 2:24 - loss: 0.1814 - acc: 0.970 - ETA: 2:21 - loss: 0.1810 - acc: 0.970 - ETA: 2:19 - loss: 0.1819 - acc: 0.970 - ETA: 2:16 - loss: 0.1815 - acc: 0.970 - ETA: 2:14 - loss: 0.1809 - acc: 0.970 - ETA: 2:11 - loss: 0.1803 - acc: 0.970 - ETA: 2:09 - loss: 0.1797 - acc: 0.970 - ETA: 2:06 - loss: 0.1792 - acc: 0.970 - ETA: 2:04 - loss: 0.1785 - acc: 0.970 - ETA: 2:02 - loss: 0.1779 - acc: 0.970 - ETA: 1:59 - loss: 0.1801 - acc: 0.970 - ETA: 1:57 - loss: 0.1795 - acc: 0.970 - ETA: 1:54 - loss: 0.1814 - acc: 0.970 - ETA: 1:52 - loss: 0.1856 - acc: 0.970 - ETA: 1:49 - loss: 0.1855 - acc: 0.969 - ETA: 1:47 - loss: 0.1850 - acc: 0.970 - ETA: 1:45 - loss: 0.1852 - acc: 0.969 - ETA: 1:42 - loss: 0.1845 - acc: 0.970 - ETA: 1:40 - loss: 0.1839 - acc: 0.970 - ETA: 1:37 - loss: 0.1833 - acc: 0.970 - ETA: 1:35 - loss: 0.1827 - acc: 0.970 - ETA: 1:32 - loss: 0.1827 - acc: 0.970 - ETA: 1:30 - loss: 0.1826 - acc: 0.970 - ETA: 1:27 - loss: 0.1820 - acc: 0.970 - ETA: 1:25 - loss: 0.1815 - acc: 0.970 - ETA: 1:23 - loss: 0.1825 - acc: 0.970 - ETA: 1:20 - loss: 0.1848 - acc: 0.970 - ETA: 1:18 - loss: 0.1852 - acc: 0.970 - ETA: 1:15 - loss: 0.1849 - acc: 0.969 - ETA: 1:13 - loss: 0.1843 - acc: 0.969 - ETA: 1:10 - loss: 0.1843 - acc: 0.969 - ETA: 1:08 - loss: 0.1838 - acc: 0.969 - ETA: 1:05 - loss: 0.1852 - acc: 0.969 - ETA: 1:03 - loss: 0.1847 - acc: 0.969 - ETA: 1:01 - loss: 0.1847 - acc: 0.969 - ETA: 58s - loss: 0.1847 - acc: 0.969 - ETA: 56s - loss: 0.1841 - acc: 0.96 - ETA: 53s - loss: 0.1835 - acc: 0.96 - ETA: 51s - loss: 0.1848 - acc: 0.96 - ETA: 48s - loss: 0.1890 - acc: 0.96 - ETA: 46s - loss: 0.1886 - acc: 0.96 - ETA: 43s - loss: 0.1882 - acc: 0.96 - ETA: 41s - loss: 0.1876 - acc: 0.96 - ETA: 39s - loss: 0.1887 - acc: 0.96 - ETA: 36s - loss: 0.1887 - acc: 0.96 - ETA: 34s - loss: 0.1883 - acc: 0.96 - ETA: 31s - loss: 0.1877 - acc: 0.96 - ETA: 29s - loss: 0.1872 - acc: 0.96 - ETA: 26s - loss: 0.1866 - acc: 0.96 - ETA: 24s - loss: 0.1861 - acc: 0.96 - ETA: 21s - loss: 0.1857 - acc: 0.96 - ETA: 19s - loss: 0.1855 - acc: 0.96 - ETA: 17s - loss: 0.1849 - acc: 0.96 - ETA: 14s - loss: 0.1845 - acc: 0.96 - ETA: 12s - loss: 0.1840 - acc: 0.96 - ETA: 9s - loss: 0.1859 - acc: 0.9691 - ETA: 7s - loss: 0.1853 - acc: 0.969 - ETA: 4s - loss: 0.1861 - acc: 0.969 - ETA: 2s - loss: 0.1915 - acc: 0.968 - 841s 126ms/step - loss: 0.1937 - acc: 0.9681 - val_loss: 11.5806 - val_acc: 0.0407\n",
      "\n",
      "Epoch 00009: val_loss did not improve\n",
      "Epoch 10/10\n"
     ]
    },
    {
     "name": "stdout",
     "output_type": "stream",
     "text": [
      "4080/6680 [=================>............] - ETA: 13:36 - loss: 4.2048e-05 - acc: 1.00 - ETA: 13:37 - loss: 0.0022 - acc: 1.0000   - ETA: 13:35 - loss: 0.0020 - acc: 1.00 - ETA: 13:29 - loss: 0.0021 - acc: 1.00 - ETA: 13:26 - loss: 0.0024 - acc: 1.00 - ETA: 13:22 - loss: 0.0058 - acc: 1.00 - ETA: 13:19 - loss: 0.0068 - acc: 1.00 - ETA: 13:15 - loss: 0.0155 - acc: 0.99 - ETA: 13:12 - loss: 0.0138 - acc: 0.99 - ETA: 13:10 - loss: 0.0553 - acc: 0.98 - ETA: 13:07 - loss: 0.0503 - acc: 0.98 - ETA: 13:05 - loss: 0.0463 - acc: 0.98 - ETA: 13:02 - loss: 0.0503 - acc: 0.98 - ETA: 13:00 - loss: 0.0479 - acc: 0.98 - ETA: 12:57 - loss: 0.0450 - acc: 0.99 - ETA: 12:55 - loss: 0.0577 - acc: 0.98 - ETA: 12:53 - loss: 0.0573 - acc: 0.98 - ETA: 12:51 - loss: 0.0554 - acc: 0.98 - ETA: 12:48 - loss: 0.0526 - acc: 0.98 - ETA: 12:46 - loss: 0.0500 - acc: 0.98 - ETA: 12:43 - loss: 0.0523 - acc: 0.98 - ETA: 12:41 - loss: 0.0507 - acc: 0.98 - ETA: 12:38 - loss: 0.0485 - acc: 0.98 - ETA: 12:35 - loss: 0.0473 - acc: 0.98 - ETA: 12:32 - loss: 0.0454 - acc: 0.98 - ETA: 12:30 - loss: 0.0437 - acc: 0.98 - ETA: 12:29 - loss: 0.0421 - acc: 0.98 - ETA: 12:27 - loss: 0.0406 - acc: 0.98 - ETA: 12:25 - loss: 0.0398 - acc: 0.98 - ETA: 12:22 - loss: 0.0385 - acc: 0.99 - ETA: 12:20 - loss: 0.0375 - acc: 0.99 - ETA: 12:17 - loss: 0.0363 - acc: 0.99 - ETA: 12:15 - loss: 0.0352 - acc: 0.99 - ETA: 12:13 - loss: 0.0342 - acc: 0.99 - ETA: 12:10 - loss: 0.0333 - acc: 0.99 - ETA: 12:08 - loss: 0.0325 - acc: 0.99 - ETA: 12:05 - loss: 0.0316 - acc: 0.99 - ETA: 12:03 - loss: 0.0308 - acc: 0.99 - ETA: 12:00 - loss: 0.0383 - acc: 0.99 - ETA: 11:58 - loss: 0.0447 - acc: 0.98 - ETA: 11:56 - loss: 0.0519 - acc: 0.98 - ETA: 11:53 - loss: 0.0798 - acc: 0.98 - ETA: 11:51 - loss: 0.0985 - acc: 0.98 - ETA: 11:48 - loss: 0.1073 - acc: 0.97 - ETA: 11:46 - loss: 0.1053 - acc: 0.97 - ETA: 11:43 - loss: 0.1030 - acc: 0.97 - ETA: 11:41 - loss: 0.1021 - acc: 0.97 - ETA: 11:38 - loss: 0.1000 - acc: 0.97 - ETA: 11:36 - loss: 0.0980 - acc: 0.97 - ETA: 11:34 - loss: 0.0964 - acc: 0.98 - ETA: 11:31 - loss: 0.0950 - acc: 0.98 - ETA: 11:29 - loss: 0.0933 - acc: 0.98 - ETA: 11:27 - loss: 0.0916 - acc: 0.98 - ETA: 11:24 - loss: 0.1035 - acc: 0.97 - ETA: 11:22 - loss: 0.1017 - acc: 0.98 - ETA: 11:19 - loss: 0.1000 - acc: 0.98 - ETA: 11:17 - loss: 0.0982 - acc: 0.98 - ETA: 11:14 - loss: 0.1151 - acc: 0.97 - ETA: 11:12 - loss: 0.1131 - acc: 0.97 - ETA: 11:09 - loss: 0.1152 - acc: 0.97 - ETA: 11:07 - loss: 0.1162 - acc: 0.97 - ETA: 11:04 - loss: 0.1278 - acc: 0.97 - ETA: 11:02 - loss: 0.1258 - acc: 0.97 - ETA: 10:59 - loss: 0.1239 - acc: 0.97 - ETA: 10:57 - loss: 0.1220 - acc: 0.97 - ETA: 10:55 - loss: 0.1202 - acc: 0.97 - ETA: 10:52 - loss: 0.1203 - acc: 0.97 - ETA: 10:50 - loss: 0.1196 - acc: 0.97 - ETA: 10:47 - loss: 0.1181 - acc: 0.97 - ETA: 10:45 - loss: 0.1164 - acc: 0.98 - ETA: 10:42 - loss: 0.1152 - acc: 0.98 - ETA: 10:40 - loss: 0.1137 - acc: 0.98 - ETA: 10:38 - loss: 0.1121 - acc: 0.98 - ETA: 10:35 - loss: 0.1120 - acc: 0.98 - ETA: 10:33 - loss: 0.1115 - acc: 0.98 - ETA: 10:30 - loss: 0.1107 - acc: 0.97 - ETA: 10:28 - loss: 0.1101 - acc: 0.97 - ETA: 10:26 - loss: 0.1168 - acc: 0.97 - ETA: 10:23 - loss: 0.1164 - acc: 0.97 - ETA: 10:21 - loss: 0.1150 - acc: 0.97 - ETA: 10:19 - loss: 0.1136 - acc: 0.97 - ETA: 10:16 - loss: 0.1122 - acc: 0.97 - ETA: 10:14 - loss: 0.1116 - acc: 0.97 - ETA: 10:11 - loss: 0.1103 - acc: 0.97 - ETA: 10:09 - loss: 0.1112 - acc: 0.97 - ETA: 10:06 - loss: 0.1278 - acc: 0.97 - ETA: 10:04 - loss: 0.1263 - acc: 0.97 - ETA: 10:02 - loss: 0.1255 - acc: 0.97 - ETA: 9:59 - loss: 0.1241 - acc: 0.9787 - ETA: 9:57 - loss: 0.1228 - acc: 0.978 - ETA: 9:54 - loss: 0.1215 - acc: 0.979 - ETA: 9:51 - loss: 0.1209 - acc: 0.978 - ETA: 9:49 - loss: 0.1197 - acc: 0.979 - ETA: 9:47 - loss: 0.1184 - acc: 0.979 - ETA: 9:44 - loss: 0.1172 - acc: 0.979 - ETA: 9:42 - loss: 0.1159 - acc: 0.979 - ETA: 9:39 - loss: 0.1149 - acc: 0.979 - ETA: 9:37 - loss: 0.1153 - acc: 0.979 - ETA: 9:34 - loss: 0.1171 - acc: 0.979 - ETA: 9:32 - loss: 0.1244 - acc: 0.978 - ETA: 9:30 - loss: 0.1255 - acc: 0.977 - ETA: 9:27 - loss: 0.1243 - acc: 0.977 - ETA: 9:25 - loss: 0.1233 - acc: 0.978 - ETA: 9:22 - loss: 0.1236 - acc: 0.977 - ETA: 9:20 - loss: 0.1225 - acc: 0.978 - ETA: 9:17 - loss: 0.1214 - acc: 0.978 - ETA: 9:15 - loss: 0.1223 - acc: 0.978 - ETA: 9:12 - loss: 0.1287 - acc: 0.977 - ETA: 9:10 - loss: 0.1381 - acc: 0.976 - ETA: 9:07 - loss: 0.1411 - acc: 0.975 - ETA: 9:05 - loss: 0.1425 - acc: 0.975 - ETA: 9:03 - loss: 0.1420 - acc: 0.975 - ETA: 9:00 - loss: 0.1407 - acc: 0.975 - ETA: 8:58 - loss: 0.1395 - acc: 0.975 - ETA: 8:55 - loss: 0.1383 - acc: 0.975 - ETA: 8:53 - loss: 0.1381 - acc: 0.975 - ETA: 8:50 - loss: 0.1370 - acc: 0.975 - ETA: 8:48 - loss: 0.1368 - acc: 0.975 - ETA: 8:45 - loss: 0.1359 - acc: 0.975 - ETA: 8:43 - loss: 0.1348 - acc: 0.975 - ETA: 8:40 - loss: 0.1337 - acc: 0.976 - ETA: 8:38 - loss: 0.1415 - acc: 0.975 - ETA: 8:36 - loss: 0.1404 - acc: 0.975 - ETA: 8:33 - loss: 0.1393 - acc: 0.975 - ETA: 8:31 - loss: 0.1383 - acc: 0.976 - ETA: 8:28 - loss: 0.1382 - acc: 0.975 - ETA: 8:26 - loss: 0.1386 - acc: 0.975 - ETA: 8:23 - loss: 0.1413 - acc: 0.974 - ETA: 8:21 - loss: 0.1412 - acc: 0.974 - ETA: 8:18 - loss: 0.1402 - acc: 0.974 - ETA: 8:16 - loss: 0.1434 - acc: 0.974 - ETA: 8:14 - loss: 0.1452 - acc: 0.974 - ETA: 8:11 - loss: 0.1442 - acc: 0.974 - ETA: 8:09 - loss: 0.1454 - acc: 0.974 - ETA: 8:06 - loss: 0.1494 - acc: 0.974 - ETA: 8:04 - loss: 0.1488 - acc: 0.974 - ETA: 8:01 - loss: 0.1478 - acc: 0.974 - ETA: 7:59 - loss: 0.1530 - acc: 0.973 - ETA: 7:56 - loss: 0.1525 - acc: 0.973 - ETA: 7:54 - loss: 0.1516 - acc: 0.973 - ETA: 7:51 - loss: 0.1520 - acc: 0.973 - ETA: 7:49 - loss: 0.1509 - acc: 0.973 - ETA: 7:47 - loss: 0.1499 - acc: 0.973 - ETA: 7:44 - loss: 0.1489 - acc: 0.974 - ETA: 7:42 - loss: 0.1479 - acc: 0.974 - ETA: 7:39 - loss: 0.1469 - acc: 0.974 - ETA: 7:37 - loss: 0.1460 - acc: 0.974 - ETA: 7:34 - loss: 0.1450 - acc: 0.974 - ETA: 7:32 - loss: 0.1441 - acc: 0.974 - ETA: 7:29 - loss: 0.1432 - acc: 0.975 - ETA: 7:27 - loss: 0.1422 - acc: 0.975 - ETA: 7:25 - loss: 0.1413 - acc: 0.975 - ETA: 7:22 - loss: 0.1407 - acc: 0.975 - ETA: 7:20 - loss: 0.1398 - acc: 0.975 - ETA: 7:17 - loss: 0.1391 - acc: 0.975 - ETA: 7:15 - loss: 0.1384 - acc: 0.976 - ETA: 7:12 - loss: 0.1430 - acc: 0.975 - ETA: 7:10 - loss: 0.1422 - acc: 0.975 - ETA: 7:07 - loss: 0.1413 - acc: 0.975 - ETA: 7:05 - loss: 0.1408 - acc: 0.975 - ETA: 7:02 - loss: 0.1400 - acc: 0.975 - ETA: 7:00 - loss: 0.1391 - acc: 0.975 - ETA: 6:58 - loss: 0.1383 - acc: 0.976 - ETA: 6:55 - loss: 0.1375 - acc: 0.976 - ETA: 6:53 - loss: 0.1370 - acc: 0.976 - ETA: 6:50 - loss: 0.1362 - acc: 0.976 - ETA: 6:48 - loss: 0.1361 - acc: 0.976 - ETA: 6:45 - loss: 0.1449 - acc: 0.975 - ETA: 6:43 - loss: 0.1493 - acc: 0.974 - ETA: 6:41 - loss: 0.1497 - acc: 0.974 - ETA: 6:38 - loss: 0.1494 - acc: 0.974 - ETA: 6:36 - loss: 0.1496 - acc: 0.974 - ETA: 6:33 - loss: 0.1487 - acc: 0.974 - ETA: 6:31 - loss: 0.1479 - acc: 0.974 - ETA: 6:28 - loss: 0.1471 - acc: 0.974 - ETA: 6:26 - loss: 0.1462 - acc: 0.974 - ETA: 6:23 - loss: 0.1455 - acc: 0.974 - ETA: 6:21 - loss: 0.1450 - acc: 0.974 - ETA: 6:19 - loss: 0.1443 - acc: 0.974 - ETA: 6:16 - loss: 0.1435 - acc: 0.975 - ETA: 6:14 - loss: 0.1429 - acc: 0.975 - ETA: 6:11 - loss: 0.1433 - acc: 0.975 - ETA: 6:09 - loss: 0.1425 - acc: 0.975 - ETA: 6:06 - loss: 0.1419 - acc: 0.975 - ETA: 6:04 - loss: 0.1411 - acc: 0.975 - ETA: 6:01 - loss: 0.1451 - acc: 0.974 - ETA: 5:59 - loss: 0.1445 - acc: 0.974 - ETA: 5:56 - loss: 0.1444 - acc: 0.974 - ETA: 5:54 - loss: 0.1440 - acc: 0.974 - ETA: 5:52 - loss: 0.1435 - acc: 0.974 - ETA: 5:49 - loss: 0.1428 - acc: 0.974 - ETA: 5:47 - loss: 0.1502 - acc: 0.974 - ETA: 5:44 - loss: 0.1528 - acc: 0.973 - ETA: 5:42 - loss: 0.1556 - acc: 0.973 - ETA: 5:39 - loss: 0.1556 - acc: 0.973 - ETA: 5:37 - loss: 0.1552 - acc: 0.973 - ETA: 5:34 - loss: 0.1544 - acc: 0.973 - ETA: 5:32 - loss: 0.1547 - acc: 0.973 - ETA: 5:29 - loss: 0.1540 - acc: 0.973 - ETA: 5:27 - loss: 0.1539 - acc: 0.973 - ETA: 5:25 - loss: 0.1533 - acc: 0.973 - ETA: 5:22 - loss: 0.1525 - acc: 0.973 - ETA: 5:20 - loss: 0.1519 - acc: 0.973 - ETA: 5:17 - loss: 0.1522 - acc: 0.9738"
     ]
    },
    {
     "name": "stdout",
     "output_type": "stream",
     "text": [
      "6680/6680 [==============================] - ETA: 5:15 - loss: 0.1534 - acc: 0.973 - ETA: 5:12 - loss: 0.1527 - acc: 0.973 - ETA: 5:10 - loss: 0.1520 - acc: 0.973 - ETA: 5:08 - loss: 0.1523 - acc: 0.973 - ETA: 5:05 - loss: 0.1576 - acc: 0.973 - ETA: 5:03 - loss: 0.1569 - acc: 0.973 - ETA: 5:00 - loss: 0.1565 - acc: 0.973 - ETA: 4:58 - loss: 0.1575 - acc: 0.972 - ETA: 4:55 - loss: 0.1569 - acc: 0.973 - ETA: 4:53 - loss: 0.1564 - acc: 0.973 - ETA: 4:50 - loss: 0.1568 - acc: 0.972 - ETA: 4:48 - loss: 0.1572 - acc: 0.972 - ETA: 4:45 - loss: 0.1565 - acc: 0.972 - ETA: 4:43 - loss: 0.1558 - acc: 0.972 - ETA: 4:41 - loss: 0.1554 - acc: 0.972 - ETA: 4:38 - loss: 0.1566 - acc: 0.972 - ETA: 4:36 - loss: 0.1565 - acc: 0.972 - ETA: 4:33 - loss: 0.1568 - acc: 0.972 - ETA: 4:31 - loss: 0.1573 - acc: 0.972 - ETA: 4:28 - loss: 0.1615 - acc: 0.971 - ETA: 4:26 - loss: 0.1611 - acc: 0.971 - ETA: 4:23 - loss: 0.1604 - acc: 0.971 - ETA: 4:21 - loss: 0.1599 - acc: 0.972 - ETA: 4:19 - loss: 0.1592 - acc: 0.972 - ETA: 4:16 - loss: 0.1585 - acc: 0.972 - ETA: 4:14 - loss: 0.1579 - acc: 0.972 - ETA: 4:11 - loss: 0.1575 - acc: 0.972 - ETA: 4:09 - loss: 0.1574 - acc: 0.972 - ETA: 4:06 - loss: 0.1572 - acc: 0.972 - ETA: 4:04 - loss: 0.1566 - acc: 0.972 - ETA: 4:02 - loss: 0.1561 - acc: 0.972 - ETA: 3:59 - loss: 0.1554 - acc: 0.972 - ETA: 3:57 - loss: 0.1554 - acc: 0.972 - ETA: 3:54 - loss: 0.1550 - acc: 0.972 - ETA: 3:52 - loss: 0.1551 - acc: 0.972 - ETA: 3:49 - loss: 0.1548 - acc: 0.972 - ETA: 3:47 - loss: 0.1542 - acc: 0.972 - ETA: 3:44 - loss: 0.1538 - acc: 0.972 - ETA: 3:42 - loss: 0.1532 - acc: 0.972 - ETA: 3:39 - loss: 0.1526 - acc: 0.972 - ETA: 3:37 - loss: 0.1521 - acc: 0.972 - ETA: 3:35 - loss: 0.1515 - acc: 0.973 - ETA: 3:32 - loss: 0.1509 - acc: 0.973 - ETA: 3:30 - loss: 0.1503 - acc: 0.973 - ETA: 3:27 - loss: 0.1500 - acc: 0.973 - ETA: 3:25 - loss: 0.1515 - acc: 0.972 - ETA: 3:22 - loss: 0.1580 - acc: 0.971 - ETA: 3:20 - loss: 0.1574 - acc: 0.971 - ETA: 3:18 - loss: 0.1567 - acc: 0.971 - ETA: 3:15 - loss: 0.1561 - acc: 0.971 - ETA: 3:13 - loss: 0.1555 - acc: 0.972 - ETA: 3:10 - loss: 0.1550 - acc: 0.972 - ETA: 3:08 - loss: 0.1547 - acc: 0.972 - ETA: 3:05 - loss: 0.1542 - acc: 0.972 - ETA: 3:03 - loss: 0.1542 - acc: 0.972 - ETA: 3:00 - loss: 0.1558 - acc: 0.971 - ETA: 2:58 - loss: 0.1552 - acc: 0.972 - ETA: 2:56 - loss: 0.1547 - acc: 0.972 - ETA: 2:53 - loss: 0.1562 - acc: 0.971 - ETA: 2:51 - loss: 0.1558 - acc: 0.972 - ETA: 2:48 - loss: 0.1581 - acc: 0.971 - ETA: 2:46 - loss: 0.1575 - acc: 0.971 - ETA: 2:43 - loss: 0.1570 - acc: 0.971 - ETA: 2:41 - loss: 0.1564 - acc: 0.971 - ETA: 2:38 - loss: 0.1558 - acc: 0.971 - ETA: 2:36 - loss: 0.1562 - acc: 0.971 - ETA: 2:34 - loss: 0.1558 - acc: 0.972 - ETA: 2:31 - loss: 0.1569 - acc: 0.971 - ETA: 2:29 - loss: 0.1570 - acc: 0.971 - ETA: 2:26 - loss: 0.1564 - acc: 0.971 - ETA: 2:24 - loss: 0.1559 - acc: 0.971 - ETA: 2:21 - loss: 0.1554 - acc: 0.971 - ETA: 2:19 - loss: 0.1566 - acc: 0.971 - ETA: 2:16 - loss: 0.1596 - acc: 0.971 - ETA: 2:14 - loss: 0.1600 - acc: 0.971 - ETA: 2:12 - loss: 0.1597 - acc: 0.971 - ETA: 2:09 - loss: 0.1597 - acc: 0.971 - ETA: 2:07 - loss: 0.1596 - acc: 0.970 - ETA: 2:04 - loss: 0.1594 - acc: 0.970 - ETA: 2:02 - loss: 0.1589 - acc: 0.971 - ETA: 1:59 - loss: 0.1586 - acc: 0.971 - ETA: 1:57 - loss: 0.1586 - acc: 0.971 - ETA: 1:54 - loss: 0.1581 - acc: 0.971 - ETA: 1:52 - loss: 0.1576 - acc: 0.971 - ETA: 1:50 - loss: 0.1581 - acc: 0.970 - ETA: 1:47 - loss: 0.1575 - acc: 0.971 - ETA: 1:45 - loss: 0.1573 - acc: 0.971 - ETA: 1:42 - loss: 0.1700 - acc: 0.969 - ETA: 1:40 - loss: 0.1697 - acc: 0.969 - ETA: 1:37 - loss: 0.1697 - acc: 0.969 - ETA: 1:35 - loss: 0.1696 - acc: 0.969 - ETA: 1:33 - loss: 0.1718 - acc: 0.969 - ETA: 1:30 - loss: 0.1712 - acc: 0.969 - ETA: 1:28 - loss: 0.1708 - acc: 0.969 - ETA: 1:25 - loss: 0.1702 - acc: 0.969 - ETA: 1:23 - loss: 0.1696 - acc: 0.969 - ETA: 1:20 - loss: 0.1693 - acc: 0.969 - ETA: 1:18 - loss: 0.1687 - acc: 0.969 - ETA: 1:16 - loss: 0.1683 - acc: 0.969 - ETA: 1:13 - loss: 0.1679 - acc: 0.969 - ETA: 1:11 - loss: 0.1674 - acc: 0.969 - ETA: 1:08 - loss: 0.1671 - acc: 0.969 - ETA: 1:06 - loss: 0.1692 - acc: 0.968 - ETA: 1:03 - loss: 0.1702 - acc: 0.968 - ETA: 1:01 - loss: 0.1697 - acc: 0.968 - ETA: 58s - loss: 0.1691 - acc: 0.968 - ETA: 56s - loss: 0.1686 - acc: 0.96 - ETA: 54s - loss: 0.1681 - acc: 0.96 - ETA: 51s - loss: 0.1695 - acc: 0.96 - ETA: 49s - loss: 0.1697 - acc: 0.96 - ETA: 46s - loss: 0.1693 - acc: 0.96 - ETA: 44s - loss: 0.1690 - acc: 0.96 - ETA: 41s - loss: 0.1688 - acc: 0.96 - ETA: 39s - loss: 0.1683 - acc: 0.96 - ETA: 36s - loss: 0.1679 - acc: 0.96 - ETA: 34s - loss: 0.1727 - acc: 0.96 - ETA: 31s - loss: 0.1732 - acc: 0.96 - ETA: 29s - loss: 0.1743 - acc: 0.96 - ETA: 27s - loss: 0.1766 - acc: 0.96 - ETA: 24s - loss: 0.1760 - acc: 0.96 - ETA: 22s - loss: 0.1755 - acc: 0.96 - ETA: 19s - loss: 0.1750 - acc: 0.96 - ETA: 17s - loss: 0.1745 - acc: 0.96 - ETA: 14s - loss: 0.1740 - acc: 0.96 - ETA: 12s - loss: 0.1757 - acc: 0.96 - ETA: 9s - loss: 0.1752 - acc: 0.9680 - ETA: 7s - loss: 0.1771 - acc: 0.968 - ETA: 4s - loss: 0.1766 - acc: 0.968 - ETA: 2s - loss: 0.1761 - acc: 0.968 - 853s 128ms/step - loss: 0.1766 - acc: 0.9681 - val_loss: 12.5644 - val_acc: 0.0431\n",
      "\n",
      "Epoch 00010: val_loss did not improve\n"
     ]
    },
    {
     "data": {
      "text/plain": [
       "<keras.callbacks.History at 0x384ba9b0>"
      ]
     },
     "execution_count": 15,
     "metadata": {},
     "output_type": "execute_result"
    }
   ],
   "source": [
    "from keras.callbacks import ModelCheckpoint  \n",
    "\n",
    "### TODO: specify the number of epochs that you would like to use to train the model.\n",
    "\n",
    "epochs = 10\n",
    "\n",
    "### Do NOT modify the code below this line.\n",
    "\n",
    "checkpointer = ModelCheckpoint(filepath='saved_models/weights.best.from_scratch.hdf5', \n",
    "                               verbose=1, save_best_only=True)\n",
    "\n",
    "model.fit(train_tensors, train_targets, \n",
    "          validation_data=(valid_tensors, valid_targets),\n",
    "          epochs=epochs, batch_size=20, callbacks=[checkpointer], verbose=1)"
   ]
  },
  {
   "cell_type": "markdown",
   "metadata": {},
   "source": [
    "### Load the Model with the Best Validation Loss"
   ]
  },
  {
   "cell_type": "code",
   "execution_count": 16,
   "metadata": {},
   "outputs": [],
   "source": [
    "model.load_weights('saved_models/weights.best.from_scratch.hdf5')"
   ]
  },
  {
   "cell_type": "markdown",
   "metadata": {},
   "source": [
    "### Test the Model\n",
    "\n",
    "Try out your model on the test dataset of dog images.  Ensure that your test accuracy is greater than 1%."
   ]
  },
  {
   "cell_type": "code",
   "execution_count": 17,
   "metadata": {},
   "outputs": [
    {
     "name": "stdout",
     "output_type": "stream",
     "text": [
      "Test accuracy: 3.8278%\n"
     ]
    }
   ],
   "source": [
    "# get index of predicted dog breed for each image in test set\n",
    "dog_breed_predictions = [np.argmax(model.predict(np.expand_dims(tensor, axis=0))) for tensor in test_tensors]\n",
    "\n",
    "# report test accuracy\n",
    "test_accuracy = 100*np.sum(np.array(dog_breed_predictions)==np.argmax(test_targets, axis=1))/len(dog_breed_predictions)\n",
    "print('Test accuracy: %.4f%%' % test_accuracy)"
   ]
  },
  {
   "cell_type": "markdown",
   "metadata": {},
   "source": [
    "---\n",
    "<a id='step4'></a>\n",
    "## Step 4: Use a CNN to Classify Dog Breeds\n",
    "\n",
    "To reduce training time without sacrificing accuracy, we show you how to train a CNN using transfer learning.  In the following step, you will get a chance to use transfer learning to train your own CNN.\n",
    "\n",
    "### Obtain Bottleneck Features"
   ]
  },
  {
   "cell_type": "code",
   "execution_count": 4,
   "metadata": {},
   "outputs": [],
   "source": [
    "bottleneck_features = np.load('bottleneck_features/DogVGG16Data.npz')\n",
    "train_VGG16 = bottleneck_features['train']\n",
    "valid_VGG16 = bottleneck_features['valid']\n",
    "test_VGG16 = bottleneck_features['test']"
   ]
  },
  {
   "cell_type": "markdown",
   "metadata": {},
   "source": [
    "### Model Architecture\n",
    "\n",
    "The model uses the the pre-trained VGG-16 model as a fixed feature extractor, where the last convolutional output of VGG-16 is fed as input to our model.  We only add a global average pooling layer and a fully connected layer, where the latter contains one node for each dog category and is equipped with a softmax."
   ]
  },
  {
   "cell_type": "code",
   "execution_count": 5,
   "metadata": {},
   "outputs": [
    {
     "name": "stdout",
     "output_type": "stream",
     "text": [
      "_________________________________________________________________\n",
      "Layer (type)                 Output Shape              Param #   \n",
      "=================================================================\n",
      "global_average_pooling2d_1 ( (None, 512)               0         \n",
      "_________________________________________________________________\n",
      "dense_1 (Dense)              (None, 133)               68229     \n",
      "=================================================================\n",
      "Total params: 68,229\n",
      "Trainable params: 68,229\n",
      "Non-trainable params: 0\n",
      "_________________________________________________________________\n"
     ]
    }
   ],
   "source": [
    "from keras.layers import Conv2D, MaxPooling2D, GlobalAveragePooling2D\n",
    "from keras.layers import Dropout, Flatten, Dense\n",
    "from keras.models import Sequential\n",
    "\n",
    "VGG16_model = Sequential()\n",
    "VGG16_model.add(GlobalAveragePooling2D(input_shape=train_VGG16.shape[1:]))\n",
    "VGG16_model.add(Dense(133, activation='softmax'))\n",
    "\n",
    "VGG16_model.summary()"
   ]
  },
  {
   "cell_type": "markdown",
   "metadata": {},
   "source": [
    "### Compile the Model"
   ]
  },
  {
   "cell_type": "code",
   "execution_count": 6,
   "metadata": {},
   "outputs": [],
   "source": [
    "VGG16_model.compile(loss='categorical_crossentropy', optimizer='rmsprop', metrics=['accuracy'])"
   ]
  },
  {
   "cell_type": "markdown",
   "metadata": {},
   "source": [
    "### Train the Model"
   ]
  },
  {
   "cell_type": "code",
   "execution_count": 7,
   "metadata": {},
   "outputs": [
    {
     "name": "stdout",
     "output_type": "stream",
     "text": [
      "Train on 6680 samples, validate on 835 samples\n",
      "Epoch 1/20\n",
      "6680/6680 [==============================] - 2s 264us/step - loss: 12.2529 - acc: 0.1249 - val_loss: 10.8711 - val_acc: 0.2204\n",
      "\n",
      "Epoch 00001: val_loss improved from inf to 10.87112, saving model to saved_models/weights.best.VGG16.hdf5\n",
      "Epoch 2/20\n",
      "6680/6680 [==============================] - 2s 237us/step - loss: 10.1526 - acc: 0.2766 - val_loss: 9.9821 - val_acc: 0.2862\n",
      "\n",
      "Epoch 00002: val_loss improved from 10.87112 to 9.98212, saving model to saved_models/weights.best.VGG16.hdf5\n",
      "Epoch 3/20\n",
      "6680/6680 [==============================] - 2s 240us/step - loss: 9.5110 - acc: 0.3427 - val_loss: 9.7973 - val_acc: 0.3126\n",
      "\n",
      "Epoch 00003: val_loss improved from 9.98212 to 9.79730, saving model to saved_models/weights.best.VGG16.hdf5\n",
      "Epoch 4/20\n",
      "6680/6680 [==============================] - 2s 235us/step - loss: 9.1193 - acc: 0.3786 - val_loss: 9.3019 - val_acc: 0.3317\n",
      "\n",
      "Epoch 00004: val_loss improved from 9.79730 to 9.30188, saving model to saved_models/weights.best.VGG16.hdf5\n",
      "Epoch 5/20\n",
      "6680/6680 [==============================] - 2s 252us/step - loss: 8.4110 - acc: 0.4220 - val_loss: 8.7171 - val_acc: 0.3760\n",
      "\n",
      "Epoch 00005: val_loss improved from 9.30188 to 8.71713, saving model to saved_models/weights.best.VGG16.hdf5\n",
      "Epoch 6/20\n",
      "6680/6680 [==============================] - 2s 247us/step - loss: 8.0751 - acc: 0.4518 - val_loss: 8.5122 - val_acc: 0.3808\n",
      "\n",
      "Epoch 00006: val_loss improved from 8.71713 to 8.51223, saving model to saved_models/weights.best.VGG16.hdf5\n",
      "Epoch 7/20\n",
      "6680/6680 [==============================] - 2s 242us/step - loss: 7.8203 - acc: 0.4760 - val_loss: 8.3862 - val_acc: 0.3916\n",
      "\n",
      "Epoch 00007: val_loss improved from 8.51223 to 8.38616, saving model to saved_models/weights.best.VGG16.hdf5\n",
      "Epoch 8/20\n",
      "6680/6680 [==============================] - 2s 248us/step - loss: 7.6928 - acc: 0.4919 - val_loss: 8.2482 - val_acc: 0.4024\n",
      "\n",
      "Epoch 00008: val_loss improved from 8.38616 to 8.24824, saving model to saved_models/weights.best.VGG16.hdf5\n",
      "Epoch 9/20\n",
      "6680/6680 [==============================] - 2s 231us/step - loss: 7.4188 - acc: 0.5033 - val_loss: 7.8381 - val_acc: 0.4096\n",
      "\n",
      "Epoch 00009: val_loss improved from 8.24824 to 7.83810, saving model to saved_models/weights.best.VGG16.hdf5\n",
      "Epoch 10/20\n",
      "6680/6680 [==============================] - 2s 245us/step - loss: 7.1074 - acc: 0.5298 - val_loss: 7.8092 - val_acc: 0.4180\n",
      "\n",
      "Epoch 00010: val_loss improved from 7.83810 to 7.80916, saving model to saved_models/weights.best.VGG16.hdf5\n",
      "Epoch 11/20\n",
      "6680/6680 [==============================] - 2s 254us/step - loss: 7.0254 - acc: 0.5449 - val_loss: 7.7817 - val_acc: 0.4275\n",
      "\n",
      "Epoch 00011: val_loss improved from 7.80916 to 7.78171, saving model to saved_models/weights.best.VGG16.hdf5\n",
      "Epoch 12/20\n",
      "6680/6680 [==============================] - 2s 227us/step - loss: 7.0018 - acc: 0.5522 - val_loss: 7.7136 - val_acc: 0.4383\n",
      "\n",
      "Epoch 00012: val_loss improved from 7.78171 to 7.71363, saving model to saved_models/weights.best.VGG16.hdf5\n",
      "Epoch 13/20\n",
      "6680/6680 [==============================] - 2s 243us/step - loss: 6.9296 - acc: 0.5504 - val_loss: 7.8155 - val_acc: 0.4251\n",
      "\n",
      "Epoch 00013: val_loss did not improve\n",
      "Epoch 14/20\n",
      "6680/6680 [==============================] - 2s 229us/step - loss: 6.7347 - acc: 0.5644 - val_loss: 7.4365 - val_acc: 0.4563\n",
      "\n",
      "Epoch 00014: val_loss improved from 7.71363 to 7.43646, saving model to saved_models/weights.best.VGG16.hdf5\n",
      "Epoch 15/20\n",
      "6680/6680 [==============================] - 2s 232us/step - loss: 6.6077 - acc: 0.5740 - val_loss: 7.4074 - val_acc: 0.4611\n",
      "\n",
      "Epoch 00015: val_loss improved from 7.43646 to 7.40745, saving model to saved_models/weights.best.VGG16.hdf5\n",
      "Epoch 16/20\n",
      "6680/6680 [==============================] - 2s 227us/step - loss: 6.5182 - acc: 0.5778 - val_loss: 7.3621 - val_acc: 0.4515\n",
      "\n",
      "Epoch 00016: val_loss improved from 7.40745 to 7.36210, saving model to saved_models/weights.best.VGG16.hdf5\n",
      "Epoch 17/20\n",
      "6680/6680 [==============================] - 2s 234us/step - loss: 6.3379 - acc: 0.5892 - val_loss: 7.1915 - val_acc: 0.4611\n",
      "\n",
      "Epoch 00017: val_loss improved from 7.36210 to 7.19151, saving model to saved_models/weights.best.VGG16.hdf5\n",
      "Epoch 18/20\n",
      "6680/6680 [==============================] - 2s 226us/step - loss: 6.1719 - acc: 0.6027 - val_loss: 7.0476 - val_acc: 0.4695\n",
      "\n",
      "Epoch 00018: val_loss improved from 7.19151 to 7.04758, saving model to saved_models/weights.best.VGG16.hdf5\n",
      "Epoch 19/20\n",
      "6680/6680 [==============================] - 2s 234us/step - loss: 6.0358 - acc: 0.6115 - val_loss: 6.9450 - val_acc: 0.4790\n",
      "\n",
      "Epoch 00019: val_loss improved from 7.04758 to 6.94503, saving model to saved_models/weights.best.VGG16.hdf5\n",
      "Epoch 20/20\n",
      "6680/6680 [==============================] - 2s 228us/step - loss: 5.9140 - acc: 0.6174 - val_loss: 7.0697 - val_acc: 0.4599\n",
      "\n",
      "Epoch 00020: val_loss did not improve\n"
     ]
    },
    {
     "data": {
      "text/plain": [
       "<keras.callbacks.History at 0x2c652e8>"
      ]
     },
     "execution_count": 7,
     "metadata": {},
     "output_type": "execute_result"
    }
   ],
   "source": [
    "from keras.callbacks import ModelCheckpoint\n",
    "\n",
    "checkpointer = ModelCheckpoint(filepath='saved_models/weights.best.VGG16.hdf5', \n",
    "                               verbose=1, save_best_only=True)\n",
    "\n",
    "VGG16_model.fit(train_VGG16, train_targets, \n",
    "          validation_data=(valid_VGG16, valid_targets),\n",
    "          epochs=20, batch_size=20, callbacks=[checkpointer], verbose=1)"
   ]
  },
  {
   "cell_type": "markdown",
   "metadata": {},
   "source": [
    "### Load the Model with the Best Validation Loss"
   ]
  },
  {
   "cell_type": "code",
   "execution_count": 8,
   "metadata": {},
   "outputs": [],
   "source": [
    "VGG16_model.load_weights('saved_models/weights.best.VGG16.hdf5')"
   ]
  },
  {
   "cell_type": "markdown",
   "metadata": {},
   "source": [
    "### Test the Model\n",
    "\n",
    "Now, we can use the CNN to test how well it identifies breed within our test dataset of dog images.  We print the test accuracy below."
   ]
  },
  {
   "cell_type": "code",
   "execution_count": 9,
   "metadata": {},
   "outputs": [
    {
     "name": "stdout",
     "output_type": "stream",
     "text": [
      "Test accuracy: 49.6411%\n"
     ]
    }
   ],
   "source": [
    "# get index of predicted dog breed for each image in test set\n",
    "VGG16_predictions = [np.argmax(VGG16_model.predict(np.expand_dims(feature, axis=0))) for feature in test_VGG16]\n",
    "\n",
    "# report test accuracy\n",
    "test_accuracy = 100*np.sum(np.array(VGG16_predictions)==np.argmax(test_targets, axis=1))/len(VGG16_predictions)\n",
    "print('Test accuracy: %.4f%%' % test_accuracy)"
   ]
  },
  {
   "cell_type": "markdown",
   "metadata": {},
   "source": [
    "### Predict Dog Breed with the Model"
   ]
  },
  {
   "cell_type": "code",
   "execution_count": 10,
   "metadata": {},
   "outputs": [],
   "source": [
    "from extract_bottleneck_features import *\n",
    "\n",
    "def VGG16_predict_breed(img_path):\n",
    "    # extract bottleneck features\n",
    "    bottleneck_feature = extract_VGG16(path_to_tensor(img_path))\n",
    "    # obtain predicted vector\n",
    "    predicted_vector = VGG16_model.predict(bottleneck_feature)\n",
    "    # return dog breed that is predicted by the model\n",
    "    return dog_names[np.argmax(predicted_vector)]"
   ]
  },
  {
   "cell_type": "markdown",
   "metadata": {},
   "source": [
    "---\n",
    "<a id='step5'></a>\n",
    "## Step 5: Create a CNN to Classify Dog Breeds (using Transfer Learning)\n",
    "\n",
    "You will now use transfer learning to create a CNN that can identify dog breed from images.  Your CNN must attain at least 60% accuracy on the test set.\n",
    "\n",
    "In Step 4, we used transfer learning to create a CNN using VGG-16 bottleneck features.  In this section, you must use the bottleneck features from a different pre-trained model.  To make things easier for you, we have pre-computed the features for all of the networks that are currently available in Keras:\n",
    "- [VGG-19](https://s3-us-west-1.amazonaws.com/udacity-aind/dog-project/DogVGG19Data.npz) bottleneck features\n",
    "- [ResNet-50](https://s3-us-west-1.amazonaws.com/udacity-aind/dog-project/DogResnet50Data.npz) bottleneck features\n",
    "- [Inception](https://s3-us-west-1.amazonaws.com/udacity-aind/dog-project/DogInceptionV3Data.npz) bottleneck features\n",
    "- [Xception](https://s3-us-west-1.amazonaws.com/udacity-aind/dog-project/DogXceptionData.npz) bottleneck features\n",
    "\n",
    "The files are encoded as such:\n",
    "\n",
    "    Dog{network}Data.npz\n",
    "    \n",
    "where `{network}`, in the above filename, can be one of `VGG19`, `Resnet50`, `InceptionV3`, or `Xception`.  Pick one of the above architectures, download the corresponding bottleneck features, and store the downloaded file in the `bottleneck_features/` folder in the repository.\n",
    "\n",
    "### (IMPLEMENTATION) Obtain Bottleneck Features\n",
    "\n",
    "In the code block below, extract the bottleneck features corresponding to the train, test, and validation sets by running the following:\n",
    "\n",
    "    bottleneck_features = np.load('bottleneck_features/Dog{network}Data.npz')\n",
    "    train_{network} = bottleneck_features['train']\n",
    "    valid_{network} = bottleneck_features['valid']\n",
    "    test_{network} = bottleneck_features['test']"
   ]
  },
  {
   "cell_type": "code",
   "execution_count": 9,
   "metadata": {},
   "outputs": [],
   "source": [
    "### TODO: Obtain bottleneck features from another pre-trained CNN.\n",
    "pretrained_model_name = \"Resnet50\"\n",
    "bottleneck_features = np.load('bottleneck_features/Dog'+ pretrained_model_name + 'Data.npz')\n",
    "train_new_model = bottleneck_features['train']\n",
    "valid_new_model = bottleneck_features['valid']\n",
    "test_new_model = bottleneck_features['test']\n",
    "\n"
   ]
  },
  {
   "cell_type": "markdown",
   "metadata": {},
   "source": [
    "### (IMPLEMENTATION) Model Architecture\n",
    "\n",
    "Create a CNN to classify dog breed.  At the end of your code cell block, summarize the layers of your model by executing the line:\n",
    "    \n",
    "        <your model's name>.summary()\n",
    "   \n",
    "__Question 5:__ Outline the steps you took to get to your final CNN architecture and your reasoning at each step.  Describe why you think the architecture is suitable for the current problem.\n",
    "\n",
    "__Answer:__ \n",
    "\n"
   ]
  },
  {
   "cell_type": "code",
   "execution_count": 10,
   "metadata": {},
   "outputs": [
    {
     "name": "stdout",
     "output_type": "stream",
     "text": [
      "_________________________________________________________________\n",
      "Layer (type)                 Output Shape              Param #   \n",
      "=================================================================\n",
      "global_average_pooling2d_1 ( (None, 2048)              0         \n",
      "_________________________________________________________________\n",
      "dropout_1 (Dropout)          (None, 2048)              0         \n",
      "_________________________________________________________________\n",
      "dense_1 (Dense)              (None, 133)               272517    \n",
      "=================================================================\n",
      "Total params: 272,517\n",
      "Trainable params: 272,517\n",
      "Non-trainable params: 0\n",
      "_________________________________________________________________\n",
      "(1, 1, 2048)\n"
     ]
    }
   ],
   "source": [
    "### TODO: Define your architecture.\n",
    "from keras.layers import Conv2D, MaxPooling2D, GlobalAveragePooling2D\n",
    "from keras.layers import Dropout, Flatten, Dense\n",
    "from keras.models import Sequential\n",
    "\n",
    "new_model = Sequential()\n",
    "new_model.add(GlobalAveragePooling2D(input_shape=train_new_model.shape[1:]))\n",
    "new_model.add(Dropout(.2))\n",
    "new_model.add(Dense(133, activation='softmax'))\n",
    "\n",
    "new_model.summary()\n",
    "print(train_new_model.shape[1:])"
   ]
  },
  {
   "cell_type": "markdown",
   "metadata": {},
   "source": [
    "### (IMPLEMENTATION) Compile the Model"
   ]
  },
  {
   "cell_type": "code",
   "execution_count": 11,
   "metadata": {},
   "outputs": [],
   "source": [
    "### TODO: Compile the model.\n",
    "new_model.compile(loss='categorical_crossentropy', optimizer='sgd', metrics=['accuracy'])"
   ]
  },
  {
   "cell_type": "markdown",
   "metadata": {},
   "source": [
    "### (IMPLEMENTATION) Train the Model\n",
    "\n",
    "Train your model in the code cell below.  Use model checkpointing to save the model that attains the best validation loss.  \n",
    "\n",
    "You are welcome to [augment the training data](https://blog.keras.io/building-powerful-image-classification-models-using-very-little-data.html), but this is not a requirement. "
   ]
  },
  {
   "cell_type": "code",
   "execution_count": 12,
   "metadata": {},
   "outputs": [
    {
     "name": "stdout",
     "output_type": "stream",
     "text": [
      "Train on 6680 samples, validate on 835 samples\n",
      "Epoch 1/20\n",
      "6680/6680 [==============================] - ETA: 7:09 - loss: 5.5551 - acc: 0.0000e+0 - ETA: 1:48 - loss: 5.5665 - acc: 0.0000e+0 - ETA: 48s - loss: 5.4096 - acc: 0.0000e+0 - ETA: 29s - loss: 5.3278 - acc: 0.0133   - ETA: 20s - loss: 5.2256 - acc: 0.01 - ETA: 16s - loss: 5.1647 - acc: 0.02 - ETA: 13s - loss: 5.0891 - acc: 0.02 - ETA: 10s - loss: 5.0249 - acc: 0.03 - ETA: 9s - loss: 4.9657 - acc: 0.0348 - ETA: 8s - loss: 4.9030 - acc: 0.039 - ETA: 7s - loss: 4.8553 - acc: 0.043 - ETA: 6s - loss: 4.7930 - acc: 0.049 - ETA: 5s - loss: 4.7372 - acc: 0.054 - ETA: 5s - loss: 4.6845 - acc: 0.061 - ETA: 4s - loss: 4.6247 - acc: 0.067 - ETA: 4s - loss: 4.5622 - acc: 0.076 - ETA: 3s - loss: 4.4980 - acc: 0.088 - ETA: 3s - loss: 4.4428 - acc: 0.098 - ETA: 3s - loss: 4.3867 - acc: 0.106 - ETA: 2s - loss: 4.3169 - acc: 0.119 - ETA: 2s - loss: 4.2604 - acc: 0.130 - ETA: 2s - loss: 4.2000 - acc: 0.143 - ETA: 2s - loss: 4.1420 - acc: 0.154 - ETA: 1s - loss: 4.0876 - acc: 0.166 - ETA: 1s - loss: 4.0338 - acc: 0.175 - ETA: 1s - loss: 3.9771 - acc: 0.186 - ETA: 1s - loss: 3.9084 - acc: 0.197 - ETA: 0s - loss: 3.8430 - acc: 0.209 - ETA: 0s - loss: 3.7783 - acc: 0.221 - ETA: 0s - loss: 3.7279 - acc: 0.231 - ETA: 0s - loss: 3.6845 - acc: 0.239 - ETA: 0s - loss: 3.6392 - acc: 0.249 - ETA: 0s - loss: 3.5928 - acc: 0.258 - 4s 583us/step - loss: 3.5675 - acc: 0.2624 - val_loss: 2.2049 - val_acc: 0.5437\n",
      "\n",
      "Epoch 00001: val_loss improved from inf to 2.20491, saving model to saved_models/weights.best1.new_model.hdf5\n",
      "Epoch 2/20\n",
      "6680/6680 [==============================] - ETA: 1s - loss: 2.0266 - acc: 0.666 - ETA: 1s - loss: 2.0348 - acc: 0.587 - ETA: 1s - loss: 2.0860 - acc: 0.562 - ETA: 1s - loss: 2.0628 - acc: 0.578 - ETA: 1s - loss: 2.0417 - acc: 0.590 - ETA: 1s - loss: 2.0311 - acc: 0.592 - ETA: 1s - loss: 2.0150 - acc: 0.589 - ETA: 0s - loss: 2.0103 - acc: 0.586 - ETA: 0s - loss: 1.9824 - acc: 0.594 - ETA: 0s - loss: 1.9727 - acc: 0.592 - ETA: 0s - loss: 1.9560 - acc: 0.593 - ETA: 0s - loss: 1.9530 - acc: 0.590 - ETA: 0s - loss: 1.9394 - acc: 0.594 - ETA: 0s - loss: 1.9354 - acc: 0.591 - ETA: 0s - loss: 1.9230 - acc: 0.595 - ETA: 0s - loss: 1.9115 - acc: 0.598 - ETA: 0s - loss: 1.8981 - acc: 0.602 - ETA: 0s - loss: 1.8900 - acc: 0.602 - ETA: 0s - loss: 1.8751 - acc: 0.604 - ETA: 0s - loss: 1.8638 - acc: 0.604 - ETA: 0s - loss: 1.8505 - acc: 0.606 - ETA: 0s - loss: 1.8422 - acc: 0.608 - ETA: 0s - loss: 1.8267 - acc: 0.612 - ETA: 0s - loss: 1.8145 - acc: 0.613 - ETA: 0s - loss: 1.8035 - acc: 0.615 - ETA: 0s - loss: 1.7952 - acc: 0.616 - ETA: 0s - loss: 1.7844 - acc: 0.618 - ETA: 0s - loss: 1.7719 - acc: 0.618 - ETA: 0s - loss: 1.7527 - acc: 0.623 - 2s 236us/step - loss: 1.7437 - acc: 0.6243 - val_loss: 1.4011 - val_acc: 0.7006\n",
      "\n",
      "Epoch 00002: val_loss improved from 2.20491 to 1.40112, saving model to saved_models/weights.best1.new_model.hdf5\n",
      "Epoch 3/20\n",
      "6680/6680 [==============================] - ETA: 1s - loss: 1.1197 - acc: 0.766 - ETA: 1s - loss: 1.2358 - acc: 0.725 - ETA: 1s - loss: 1.2887 - acc: 0.711 - ETA: 1s - loss: 1.2889 - acc: 0.710 - ETA: 1s - loss: 1.3175 - acc: 0.698 - ETA: 1s - loss: 1.3130 - acc: 0.701 - ETA: 1s - loss: 1.3122 - acc: 0.709 - ETA: 1s - loss: 1.3260 - acc: 0.702 - ETA: 1s - loss: 1.3045 - acc: 0.709 - ETA: 1s - loss: 1.3019 - acc: 0.708 - ETA: 1s - loss: 1.2919 - acc: 0.710 - ETA: 1s - loss: 1.2812 - acc: 0.715 - ETA: 1s - loss: 1.2905 - acc: 0.707 - ETA: 1s - loss: 1.2775 - acc: 0.711 - ETA: 0s - loss: 1.2745 - acc: 0.711 - ETA: 0s - loss: 1.2686 - acc: 0.711 - ETA: 0s - loss: 1.2576 - acc: 0.713 - ETA: 0s - loss: 1.2510 - acc: 0.715 - ETA: 0s - loss: 1.2459 - acc: 0.716 - ETA: 0s - loss: 1.2362 - acc: 0.718 - ETA: 0s - loss: 1.2317 - acc: 0.716 - ETA: 0s - loss: 1.2214 - acc: 0.720 - ETA: 0s - loss: 1.2187 - acc: 0.719 - ETA: 0s - loss: 1.2114 - acc: 0.721 - ETA: 0s - loss: 1.2026 - acc: 0.724 - ETA: 0s - loss: 1.2036 - acc: 0.723 - ETA: 0s - loss: 1.1997 - acc: 0.724 - ETA: 0s - loss: 1.1929 - acc: 0.726 - ETA: 0s - loss: 1.1893 - acc: 0.726 - ETA: 0s - loss: 1.1849 - acc: 0.726 - ETA: 0s - loss: 1.1828 - acc: 0.726 - 2s 254us/step - loss: 1.1827 - acc: 0.7262 - val_loss: 1.0981 - val_acc: 0.7497\n",
      "\n",
      "Epoch 00003: val_loss improved from 1.40112 to 1.09812, saving model to saved_models/weights.best1.new_model.hdf5\n",
      "Epoch 4/20\n",
      "6680/6680 [==============================] - ETA: 1s - loss: 1.3288 - acc: 0.666 - ETA: 1s - loss: 0.9893 - acc: 0.762 - ETA: 1s - loss: 1.0550 - acc: 0.737 - ETA: 1s - loss: 1.0247 - acc: 0.753 - ETA: 1s - loss: 0.9918 - acc: 0.766 - ETA: 1s - loss: 0.9816 - acc: 0.772 - ETA: 1s - loss: 0.9687 - acc: 0.773 - ETA: 1s - loss: 0.9626 - acc: 0.777 - ETA: 1s - loss: 0.9435 - acc: 0.783 - ETA: 1s - loss: 0.9478 - acc: 0.779 - ETA: 1s - loss: 0.9406 - acc: 0.782 - ETA: 1s - loss: 0.9407 - acc: 0.781 - ETA: 0s - loss: 0.9528 - acc: 0.780 - ETA: 0s - loss: 0.9503 - acc: 0.782 - ETA: 0s - loss: 0.9434 - acc: 0.785 - ETA: 0s - loss: 0.9393 - acc: 0.788 - ETA: 0s - loss: 0.9373 - acc: 0.790 - ETA: 0s - loss: 0.9317 - acc: 0.791 - ETA: 0s - loss: 0.9299 - acc: 0.791 - ETA: 0s - loss: 0.9393 - acc: 0.788 - ETA: 0s - loss: 0.9378 - acc: 0.789 - ETA: 0s - loss: 0.9388 - acc: 0.788 - ETA: 0s - loss: 0.9372 - acc: 0.789 - ETA: 0s - loss: 0.9372 - acc: 0.788 - ETA: 0s - loss: 0.9332 - acc: 0.789 - ETA: 0s - loss: 0.9349 - acc: 0.788 - ETA: 0s - loss: 0.9320 - acc: 0.788 - ETA: 0s - loss: 0.9302 - acc: 0.788 - ETA: 0s - loss: 0.9252 - acc: 0.790 - 2s 244us/step - loss: 0.9242 - acc: 0.7898 - val_loss: 0.9514 - val_acc: 0.7593\n",
      "\n",
      "Epoch 00004: val_loss improved from 1.09812 to 0.95136, saving model to saved_models/weights.best1.new_model.hdf5\n",
      "Epoch 5/20\n",
      "6680/6680 [==============================] - ETA: 2s - loss: 0.9685 - acc: 0.766 - ETA: 1s - loss: 0.8465 - acc: 0.837 - ETA: 1s - loss: 0.8336 - acc: 0.828 - ETA: 1s - loss: 0.8197 - acc: 0.825 - ETA: 1s - loss: 0.8213 - acc: 0.819 - ETA: 1s - loss: 0.8154 - acc: 0.824 - ETA: 1s - loss: 0.7963 - acc: 0.833 - ETA: 1s - loss: 0.8027 - acc: 0.827 - ETA: 1s - loss: 0.7934 - acc: 0.829 - ETA: 0s - loss: 0.8013 - acc: 0.824 - ETA: 0s - loss: 0.7961 - acc: 0.824 - ETA: 0s - loss: 0.8024 - acc: 0.825 - ETA: 0s - loss: 0.8052 - acc: 0.822 - ETA: 0s - loss: 0.7947 - acc: 0.823 - ETA: 0s - loss: 0.7939 - acc: 0.823 - ETA: 0s - loss: 0.7904 - acc: 0.823 - ETA: 0s - loss: 0.7864 - acc: 0.823 - ETA: 0s - loss: 0.7906 - acc: 0.821 - ETA: 0s - loss: 0.7889 - acc: 0.820 - ETA: 0s - loss: 0.7840 - acc: 0.821 - ETA: 0s - loss: 0.7823 - acc: 0.821 - ETA: 0s - loss: 0.7806 - acc: 0.822 - ETA: 0s - loss: 0.7812 - acc: 0.821 - ETA: 0s - loss: 0.7799 - acc: 0.820 - ETA: 0s - loss: 0.7802 - acc: 0.819 - ETA: 0s - loss: 0.7787 - acc: 0.819 - ETA: 0s - loss: 0.7797 - acc: 0.819 - ETA: 0s - loss: 0.7744 - acc: 0.821 - ETA: 0s - loss: 0.7726 - acc: 0.819 - ETA: 0s - loss: 0.7716 - acc: 0.820 - 2s 246us/step - loss: 0.7713 - acc: 0.8201 - val_loss: 0.8582 - val_acc: 0.7784\n",
      "\n",
      "Epoch 00005: val_loss improved from 0.95136 to 0.85818, saving model to saved_models/weights.best1.new_model.hdf5\n",
      "Epoch 6/20\n"
     ]
    },
    {
     "name": "stdout",
     "output_type": "stream",
     "text": [
      "6680/6680 [==============================] - ETA: 1s - loss: 0.4518 - acc: 0.866 - ETA: 1s - loss: 0.7256 - acc: 0.848 - ETA: 1s - loss: 0.6956 - acc: 0.835 - ETA: 1s - loss: 0.6793 - acc: 0.842 - ETA: 1s - loss: 0.6738 - acc: 0.842 - ETA: 1s - loss: 0.6711 - acc: 0.845 - ETA: 1s - loss: 0.6872 - acc: 0.838 - ETA: 1s - loss: 0.6883 - acc: 0.836 - ETA: 1s - loss: 0.6860 - acc: 0.841 - ETA: 1s - loss: 0.6870 - acc: 0.843 - ETA: 1s - loss: 0.6962 - acc: 0.840 - ETA: 1s - loss: 0.7006 - acc: 0.838 - ETA: 0s - loss: 0.6995 - acc: 0.840 - ETA: 0s - loss: 0.7054 - acc: 0.836 - ETA: 0s - loss: 0.7030 - acc: 0.838 - ETA: 0s - loss: 0.7018 - acc: 0.838 - ETA: 0s - loss: 0.6930 - acc: 0.840 - ETA: 0s - loss: 0.6949 - acc: 0.842 - ETA: 0s - loss: 0.6906 - acc: 0.842 - ETA: 0s - loss: 0.6902 - acc: 0.842 - ETA: 0s - loss: 0.6870 - acc: 0.843 - ETA: 0s - loss: 0.6836 - acc: 0.844 - ETA: 0s - loss: 0.6793 - acc: 0.846 - ETA: 0s - loss: 0.6803 - acc: 0.846 - ETA: 0s - loss: 0.6804 - acc: 0.846 - ETA: 0s - loss: 0.6789 - acc: 0.845 - ETA: 0s - loss: 0.6764 - acc: 0.846 - ETA: 0s - loss: 0.6715 - acc: 0.847 - ETA: 0s - loss: 0.6706 - acc: 0.847 - 2s 240us/step - loss: 0.6696 - acc: 0.8482 - val_loss: 0.7952 - val_acc: 0.7689\n",
      "\n",
      "Epoch 00006: val_loss improved from 0.85818 to 0.79519, saving model to saved_models/weights.best1.new_model.hdf5\n",
      "Epoch 7/20\n",
      "6680/6680 [==============================] - ETA: 2s - loss: 0.6879 - acc: 0.866 - ETA: 1s - loss: 0.6210 - acc: 0.854 - ETA: 1s - loss: 0.6081 - acc: 0.857 - ETA: 1s - loss: 0.5849 - acc: 0.866 - ETA: 1s - loss: 0.6038 - acc: 0.862 - ETA: 1s - loss: 0.6072 - acc: 0.861 - ETA: 1s - loss: 0.6034 - acc: 0.858 - ETA: 1s - loss: 0.6082 - acc: 0.854 - ETA: 1s - loss: 0.6136 - acc: 0.850 - ETA: 1s - loss: 0.6166 - acc: 0.848 - ETA: 1s - loss: 0.6078 - acc: 0.852 - ETA: 1s - loss: 0.6071 - acc: 0.854 - ETA: 1s - loss: 0.6060 - acc: 0.855 - ETA: 0s - loss: 0.6039 - acc: 0.856 - ETA: 0s - loss: 0.6019 - acc: 0.857 - ETA: 0s - loss: 0.6063 - acc: 0.856 - ETA: 0s - loss: 0.6053 - acc: 0.858 - ETA: 0s - loss: 0.6039 - acc: 0.858 - ETA: 0s - loss: 0.6023 - acc: 0.858 - ETA: 0s - loss: 0.6042 - acc: 0.858 - ETA: 0s - loss: 0.6006 - acc: 0.859 - ETA: 0s - loss: 0.6004 - acc: 0.858 - ETA: 0s - loss: 0.5996 - acc: 0.858 - ETA: 0s - loss: 0.6013 - acc: 0.857 - ETA: 0s - loss: 0.6010 - acc: 0.857 - ETA: 0s - loss: 0.6015 - acc: 0.856 - ETA: 0s - loss: 0.6000 - acc: 0.857 - ETA: 0s - loss: 0.5994 - acc: 0.857 - ETA: 0s - loss: 0.5991 - acc: 0.858 - ETA: 0s - loss: 0.5983 - acc: 0.859 - 2s 248us/step - loss: 0.5974 - acc: 0.8585 - val_loss: 0.7501 - val_acc: 0.7916\n",
      "\n",
      "Epoch 00007: val_loss improved from 0.79519 to 0.75011, saving model to saved_models/weights.best1.new_model.hdf5\n",
      "Epoch 8/20\n",
      "6680/6680 [==============================] - ETA: 2s - loss: 0.5030 - acc: 0.866 - ETA: 1s - loss: 0.4581 - acc: 0.904 - ETA: 1s - loss: 0.4856 - acc: 0.908 - ETA: 1s - loss: 0.5236 - acc: 0.887 - ETA: 1s - loss: 0.5468 - acc: 0.875 - ETA: 1s - loss: 0.5272 - acc: 0.883 - ETA: 1s - loss: 0.5390 - acc: 0.880 - ETA: 1s - loss: 0.5351 - acc: 0.879 - ETA: 1s - loss: 0.5456 - acc: 0.874 - ETA: 1s - loss: 0.5390 - acc: 0.876 - ETA: 1s - loss: 0.5440 - acc: 0.874 - ETA: 1s - loss: 0.5433 - acc: 0.876 - ETA: 0s - loss: 0.5428 - acc: 0.877 - ETA: 0s - loss: 0.5497 - acc: 0.873 - ETA: 0s - loss: 0.5473 - acc: 0.874 - ETA: 0s - loss: 0.5409 - acc: 0.875 - ETA: 0s - loss: 0.5396 - acc: 0.875 - ETA: 0s - loss: 0.5379 - acc: 0.876 - ETA: 0s - loss: 0.5433 - acc: 0.875 - ETA: 0s - loss: 0.5401 - acc: 0.876 - ETA: 0s - loss: 0.5385 - acc: 0.876 - ETA: 0s - loss: 0.5393 - acc: 0.874 - ETA: 0s - loss: 0.5387 - acc: 0.875 - ETA: 0s - loss: 0.5404 - acc: 0.875 - ETA: 0s - loss: 0.5439 - acc: 0.874 - ETA: 0s - loss: 0.5454 - acc: 0.873 - ETA: 0s - loss: 0.5468 - acc: 0.873 - ETA: 0s - loss: 0.5465 - acc: 0.874 - ETA: 0s - loss: 0.5444 - acc: 0.875 - ETA: 0s - loss: 0.5439 - acc: 0.875 - 2s 247us/step - loss: 0.5438 - acc: 0.8750 - val_loss: 0.7159 - val_acc: 0.7928\n",
      "\n",
      "Epoch 00008: val_loss improved from 0.75011 to 0.71594, saving model to saved_models/weights.best1.new_model.hdf5\n",
      "Epoch 9/20\n",
      "6680/6680 [==============================] - ETA: 1s - loss: 0.3880 - acc: 1.000 - ETA: 1s - loss: 0.3901 - acc: 0.937 - ETA: 1s - loss: 0.4253 - acc: 0.904 - ETA: 1s - loss: 0.4576 - acc: 0.897 - ETA: 1s - loss: 0.4921 - acc: 0.885 - ETA: 1s - loss: 0.4923 - acc: 0.894 - ETA: 1s - loss: 0.4904 - acc: 0.893 - ETA: 1s - loss: 0.4942 - acc: 0.890 - ETA: 1s - loss: 0.4952 - acc: 0.888 - ETA: 1s - loss: 0.4947 - acc: 0.888 - ETA: 1s - loss: 0.4903 - acc: 0.891 - ETA: 0s - loss: 0.4873 - acc: 0.892 - ETA: 0s - loss: 0.4891 - acc: 0.892 - ETA: 0s - loss: 0.4957 - acc: 0.888 - ETA: 0s - loss: 0.4894 - acc: 0.891 - ETA: 0s - loss: 0.4862 - acc: 0.892 - ETA: 0s - loss: 0.4826 - acc: 0.893 - ETA: 0s - loss: 0.4813 - acc: 0.895 - ETA: 0s - loss: 0.4814 - acc: 0.895 - ETA: 0s - loss: 0.4817 - acc: 0.895 - ETA: 0s - loss: 0.4820 - acc: 0.895 - ETA: 0s - loss: 0.4802 - acc: 0.896 - ETA: 0s - loss: 0.4811 - acc: 0.895 - ETA: 0s - loss: 0.4820 - acc: 0.895 - ETA: 0s - loss: 0.4835 - acc: 0.893 - ETA: 0s - loss: 0.4864 - acc: 0.892 - ETA: 0s - loss: 0.4904 - acc: 0.891 - ETA: 0s - loss: 0.4896 - acc: 0.892 - 2s 232us/step - loss: 0.4910 - acc: 0.8909 - val_loss: 0.6809 - val_acc: 0.8168\n",
      "\n",
      "Epoch 00009: val_loss improved from 0.71594 to 0.68087, saving model to saved_models/weights.best1.new_model.hdf5\n",
      "Epoch 10/20\n",
      "6680/6680 [==============================] - ETA: 1s - loss: 0.3985 - acc: 0.966 - ETA: 1s - loss: 0.4532 - acc: 0.911 - ETA: 1s - loss: 0.4508 - acc: 0.910 - ETA: 1s - loss: 0.4494 - acc: 0.902 - ETA: 1s - loss: 0.4524 - acc: 0.893 - ETA: 1s - loss: 0.4717 - acc: 0.883 - ETA: 0s - loss: 0.4618 - acc: 0.886 - ETA: 0s - loss: 0.4600 - acc: 0.890 - ETA: 0s - loss: 0.4584 - acc: 0.893 - ETA: 0s - loss: 0.4608 - acc: 0.893 - ETA: 0s - loss: 0.4591 - acc: 0.894 - ETA: 0s - loss: 0.4582 - acc: 0.894 - ETA: 0s - loss: 0.4607 - acc: 0.893 - ETA: 0s - loss: 0.4585 - acc: 0.892 - ETA: 0s - loss: 0.4575 - acc: 0.894 - ETA: 0s - loss: 0.4567 - acc: 0.894 - ETA: 0s - loss: 0.4587 - acc: 0.894 - ETA: 0s - loss: 0.4547 - acc: 0.895 - ETA: 0s - loss: 0.4544 - acc: 0.895 - ETA: 0s - loss: 0.4552 - acc: 0.895 - ETA: 0s - loss: 0.4532 - acc: 0.895 - ETA: 0s - loss: 0.4531 - acc: 0.896 - ETA: 0s - loss: 0.4548 - acc: 0.896 - ETA: 0s - loss: 0.4576 - acc: 0.895 - ETA: 0s - loss: 0.4570 - acc: 0.895 - ETA: 0s - loss: 0.4600 - acc: 0.895 - ETA: 0s - loss: 0.4599 - acc: 0.894 - ETA: 0s - loss: 0.4572 - acc: 0.896 - 2s 228us/step - loss: 0.4572 - acc: 0.8963 - val_loss: 0.6614 - val_acc: 0.8156\n",
      "\n",
      "Epoch 00010: val_loss improved from 0.68087 to 0.66136, saving model to saved_models/weights.best1.new_model.hdf5\n",
      "Epoch 11/20\n",
      "6680/6680 [==============================] - ETA: 2s - loss: 0.3066 - acc: 0.900 - ETA: 1s - loss: 0.4083 - acc: 0.908 - ETA: 1s - loss: 0.4296 - acc: 0.900 - ETA: 1s - loss: 0.4290 - acc: 0.897 - ETA: 1s - loss: 0.4251 - acc: 0.900 - ETA: 1s - loss: 0.4237 - acc: 0.900 - ETA: 1s - loss: 0.4251 - acc: 0.896 - ETA: 1s - loss: 0.4212 - acc: 0.901 - ETA: 1s - loss: 0.4299 - acc: 0.897 - ETA: 1s - loss: 0.4366 - acc: 0.896 - ETA: 1s - loss: 0.4400 - acc: 0.897 - ETA: 1s - loss: 0.4290 - acc: 0.901 - ETA: 1s - loss: 0.4273 - acc: 0.901 - ETA: 0s - loss: 0.4265 - acc: 0.902 - ETA: 0s - loss: 0.4281 - acc: 0.902 - ETA: 0s - loss: 0.4299 - acc: 0.901 - ETA: 0s - loss: 0.4293 - acc: 0.902 - ETA: 0s - loss: 0.4305 - acc: 0.901 - ETA: 0s - loss: 0.4268 - acc: 0.903 - ETA: 0s - loss: 0.4246 - acc: 0.904 - ETA: 0s - loss: 0.4248 - acc: 0.905 - ETA: 0s - loss: 0.4222 - acc: 0.906 - ETA: 0s - loss: 0.4249 - acc: 0.904 - ETA: 0s - loss: 0.4258 - acc: 0.905 - ETA: 0s - loss: 0.4235 - acc: 0.905 - ETA: 0s - loss: 0.4245 - acc: 0.904 - ETA: 0s - loss: 0.4235 - acc: 0.905 - ETA: 0s - loss: 0.4231 - acc: 0.905 - ETA: 0s - loss: 0.4215 - acc: 0.906 - ETA: 0s - loss: 0.4216 - acc: 0.906 - 2s 249us/step - loss: 0.4196 - acc: 0.9072 - val_loss: 0.6456 - val_acc: 0.8144\n",
      "\n",
      "Epoch 00011: val_loss improved from 0.66136 to 0.64556, saving model to saved_models/weights.best1.new_model.hdf5\n",
      "Epoch 12/20\n"
     ]
    },
    {
     "name": "stdout",
     "output_type": "stream",
     "text": [
      "6680/6680 [==============================] - ETA: 2s - loss: 0.4068 - acc: 0.866 - ETA: 1s - loss: 0.4093 - acc: 0.895 - ETA: 1s - loss: 0.4298 - acc: 0.897 - ETA: 1s - loss: 0.4115 - acc: 0.909 - ETA: 1s - loss: 0.4223 - acc: 0.907 - ETA: 1s - loss: 0.4098 - acc: 0.911 - ETA: 1s - loss: 0.4074 - acc: 0.914 - ETA: 1s - loss: 0.4126 - acc: 0.913 - ETA: 1s - loss: 0.4129 - acc: 0.913 - ETA: 1s - loss: 0.4067 - acc: 0.915 - ETA: 1s - loss: 0.4040 - acc: 0.914 - ETA: 0s - loss: 0.4029 - acc: 0.913 - ETA: 0s - loss: 0.3973 - acc: 0.914 - ETA: 0s - loss: 0.4058 - acc: 0.911 - ETA: 0s - loss: 0.4096 - acc: 0.910 - ETA: 0s - loss: 0.4082 - acc: 0.911 - ETA: 0s - loss: 0.4076 - acc: 0.910 - ETA: 0s - loss: 0.4112 - acc: 0.908 - ETA: 0s - loss: 0.4106 - acc: 0.908 - ETA: 0s - loss: 0.4088 - acc: 0.909 - ETA: 0s - loss: 0.4075 - acc: 0.909 - ETA: 0s - loss: 0.4066 - acc: 0.909 - ETA: 0s - loss: 0.4024 - acc: 0.911 - ETA: 0s - loss: 0.4025 - acc: 0.911 - ETA: 0s - loss: 0.3997 - acc: 0.912 - ETA: 0s - loss: 0.3983 - acc: 0.913 - ETA: 0s - loss: 0.3984 - acc: 0.913 - ETA: 0s - loss: 0.3981 - acc: 0.913 - ETA: 0s - loss: 0.3966 - acc: 0.914 - ETA: 0s - loss: 0.3963 - acc: 0.913 - ETA: 0s - loss: 0.3943 - acc: 0.914 - 2s 258us/step - loss: 0.3944 - acc: 0.9147 - val_loss: 0.6313 - val_acc: 0.8108\n",
      "\n",
      "Epoch 00012: val_loss improved from 0.64556 to 0.63134, saving model to saved_models/weights.best1.new_model.hdf5\n",
      "Epoch 13/20\n",
      "6680/6680 [==============================] - ETA: 1s - loss: 0.3259 - acc: 1.000 - ETA: 1s - loss: 0.3596 - acc: 0.933 - ETA: 1s - loss: 0.3926 - acc: 0.914 - ETA: 0s - loss: 0.4013 - acc: 0.911 - ETA: 0s - loss: 0.3866 - acc: 0.918 - ETA: 1s - loss: 0.3901 - acc: 0.916 - ETA: 1s - loss: 0.3909 - acc: 0.913 - ETA: 1s - loss: 0.3853 - acc: 0.913 - ETA: 0s - loss: 0.3936 - acc: 0.911 - ETA: 0s - loss: 0.3905 - acc: 0.914 - ETA: 0s - loss: 0.3868 - acc: 0.916 - ETA: 0s - loss: 0.3884 - acc: 0.914 - ETA: 0s - loss: 0.3817 - acc: 0.916 - ETA: 0s - loss: 0.3818 - acc: 0.917 - ETA: 0s - loss: 0.3771 - acc: 0.919 - ETA: 0s - loss: 0.3779 - acc: 0.918 - ETA: 0s - loss: 0.3775 - acc: 0.918 - ETA: 0s - loss: 0.3756 - acc: 0.919 - ETA: 0s - loss: 0.3744 - acc: 0.919 - ETA: 0s - loss: 0.3744 - acc: 0.919 - ETA: 0s - loss: 0.3766 - acc: 0.919 - ETA: 0s - loss: 0.3771 - acc: 0.917 - ETA: 0s - loss: 0.3766 - acc: 0.917 - ETA: 0s - loss: 0.3760 - acc: 0.916 - ETA: 0s - loss: 0.3783 - acc: 0.914 - ETA: 0s - loss: 0.3772 - acc: 0.914 - ETA: 0s - loss: 0.3767 - acc: 0.916 - ETA: 0s - loss: 0.3751 - acc: 0.916 - ETA: 0s - loss: 0.3777 - acc: 0.915 - 2s 239us/step - loss: 0.3766 - acc: 0.9156 - val_loss: 0.6187 - val_acc: 0.8192\n",
      "\n",
      "Epoch 00013: val_loss improved from 0.63134 to 0.61872, saving model to saved_models/weights.best1.new_model.hdf5\n",
      "Epoch 14/20\n",
      "6680/6680 [==============================] - ETA: 2s - loss: 0.3298 - acc: 0.966 - ETA: 2s - loss: 0.3669 - acc: 0.927 - ETA: 1s - loss: 0.3598 - acc: 0.938 - ETA: 1s - loss: 0.3519 - acc: 0.938 - ETA: 1s - loss: 0.3523 - acc: 0.937 - ETA: 1s - loss: 0.3676 - acc: 0.933 - ETA: 1s - loss: 0.3631 - acc: 0.935 - ETA: 1s - loss: 0.3606 - acc: 0.933 - ETA: 1s - loss: 0.3537 - acc: 0.934 - ETA: 1s - loss: 0.3643 - acc: 0.927 - ETA: 1s - loss: 0.3593 - acc: 0.930 - ETA: 1s - loss: 0.3547 - acc: 0.930 - ETA: 1s - loss: 0.3498 - acc: 0.931 - ETA: 1s - loss: 0.3553 - acc: 0.927 - ETA: 1s - loss: 0.3576 - acc: 0.926 - ETA: 0s - loss: 0.3576 - acc: 0.926 - ETA: 0s - loss: 0.3593 - acc: 0.925 - ETA: 0s - loss: 0.3582 - acc: 0.926 - ETA: 0s - loss: 0.3579 - acc: 0.925 - ETA: 0s - loss: 0.3568 - acc: 0.925 - ETA: 0s - loss: 0.3572 - acc: 0.925 - ETA: 0s - loss: 0.3555 - acc: 0.924 - ETA: 0s - loss: 0.3569 - acc: 0.923 - ETA: 0s - loss: 0.3543 - acc: 0.925 - ETA: 0s - loss: 0.3524 - acc: 0.925 - ETA: 0s - loss: 0.3525 - acc: 0.926 - ETA: 0s - loss: 0.3526 - acc: 0.926 - ETA: 0s - loss: 0.3521 - acc: 0.927 - ETA: 0s - loss: 0.3506 - acc: 0.927 - ETA: 0s - loss: 0.3499 - acc: 0.928 - ETA: 0s - loss: 0.3511 - acc: 0.928 - ETA: 0s - loss: 0.3510 - acc: 0.928 - 2s 265us/step - loss: 0.3509 - acc: 0.9284 - val_loss: 0.6044 - val_acc: 0.8156\n",
      "\n",
      "Epoch 00014: val_loss improved from 0.61872 to 0.60436, saving model to saved_models/weights.best1.new_model.hdf5\n",
      "Epoch 15/20\n",
      "6680/6680 [==============================] - ETA: 1s - loss: 0.2637 - acc: 0.966 - ETA: 1s - loss: 0.3338 - acc: 0.929 - ETA: 1s - loss: 0.3580 - acc: 0.919 - ETA: 1s - loss: 0.3322 - acc: 0.925 - ETA: 1s - loss: 0.3534 - acc: 0.916 - ETA: 1s - loss: 0.3472 - acc: 0.922 - ETA: 1s - loss: 0.3387 - acc: 0.926 - ETA: 1s - loss: 0.3279 - acc: 0.931 - ETA: 1s - loss: 0.3284 - acc: 0.932 - ETA: 1s - loss: 0.3320 - acc: 0.930 - ETA: 1s - loss: 0.3268 - acc: 0.932 - ETA: 1s - loss: 0.3272 - acc: 0.934 - ETA: 1s - loss: 0.3269 - acc: 0.935 - ETA: 1s - loss: 0.3280 - acc: 0.933 - ETA: 1s - loss: 0.3289 - acc: 0.933 - ETA: 0s - loss: 0.3281 - acc: 0.933 - ETA: 0s - loss: 0.3301 - acc: 0.932 - ETA: 0s - loss: 0.3313 - acc: 0.932 - ETA: 0s - loss: 0.3317 - acc: 0.932 - ETA: 0s - loss: 0.3295 - acc: 0.932 - ETA: 0s - loss: 0.3311 - acc: 0.932 - ETA: 0s - loss: 0.3307 - acc: 0.931 - ETA: 0s - loss: 0.3307 - acc: 0.931 - ETA: 0s - loss: 0.3331 - acc: 0.930 - ETA: 0s - loss: 0.3333 - acc: 0.930 - ETA: 0s - loss: 0.3331 - acc: 0.930 - ETA: 0s - loss: 0.3339 - acc: 0.930 - ETA: 0s - loss: 0.3331 - acc: 0.930 - ETA: 0s - loss: 0.3314 - acc: 0.931 - ETA: 0s - loss: 0.3322 - acc: 0.930 - ETA: 0s - loss: 0.3311 - acc: 0.931 - ETA: 0s - loss: 0.3301 - acc: 0.931 - 2s 262us/step - loss: 0.3303 - acc: 0.9316 - val_loss: 0.5983 - val_acc: 0.8180\n",
      "\n",
      "Epoch 00015: val_loss improved from 0.60436 to 0.59832, saving model to saved_models/weights.best1.new_model.hdf5\n",
      "Epoch 16/20\n",
      "6680/6680 [==============================] - ETA: 1s - loss: 0.3056 - acc: 0.966 - ETA: 1s - loss: 0.3242 - acc: 0.945 - ETA: 1s - loss: 0.3014 - acc: 0.951 - ETA: 1s - loss: 0.2851 - acc: 0.954 - ETA: 1s - loss: 0.2825 - acc: 0.954 - ETA: 1s - loss: 0.2822 - acc: 0.954 - ETA: 1s - loss: 0.2875 - acc: 0.952 - ETA: 1s - loss: 0.2843 - acc: 0.952 - ETA: 1s - loss: 0.2901 - acc: 0.949 - ETA: 1s - loss: 0.2888 - acc: 0.949 - ETA: 1s - loss: 0.2855 - acc: 0.950 - ETA: 1s - loss: 0.2939 - acc: 0.946 - ETA: 0s - loss: 0.2961 - acc: 0.944 - ETA: 0s - loss: 0.2999 - acc: 0.943 - ETA: 0s - loss: 0.3008 - acc: 0.944 - ETA: 0s - loss: 0.2998 - acc: 0.944 - ETA: 0s - loss: 0.3006 - acc: 0.943 - ETA: 0s - loss: 0.3017 - acc: 0.941 - ETA: 0s - loss: 0.3024 - acc: 0.941 - ETA: 0s - loss: 0.3035 - acc: 0.941 - ETA: 0s - loss: 0.3042 - acc: 0.940 - ETA: 0s - loss: 0.3047 - acc: 0.941 - ETA: 0s - loss: 0.3066 - acc: 0.940 - ETA: 0s - loss: 0.3051 - acc: 0.940 - ETA: 0s - loss: 0.3058 - acc: 0.941 - ETA: 0s - loss: 0.3042 - acc: 0.941 - ETA: 0s - loss: 0.3046 - acc: 0.940 - ETA: 0s - loss: 0.3062 - acc: 0.940 - ETA: 0s - loss: 0.3068 - acc: 0.939 - ETA: 0s - loss: 0.3067 - acc: 0.939 - ETA: 0s - loss: 0.3075 - acc: 0.938 - ETA: 0s - loss: 0.3084 - acc: 0.937 - 2s 262us/step - loss: 0.3089 - acc: 0.9376 - val_loss: 0.5887 - val_acc: 0.8251\n",
      "\n",
      "Epoch 00016: val_loss improved from 0.59832 to 0.58867, saving model to saved_models/weights.best1.new_model.hdf5\n",
      "Epoch 17/20\n"
     ]
    },
    {
     "name": "stdout",
     "output_type": "stream",
     "text": [
      "6680/6680 [==============================] - ETA: 1s - loss: 0.2238 - acc: 0.966 - ETA: 1s - loss: 0.2778 - acc: 0.960 - ETA: 1s - loss: 0.2812 - acc: 0.960 - ETA: 1s - loss: 0.2805 - acc: 0.952 - ETA: 1s - loss: 0.2792 - acc: 0.946 - ETA: 1s - loss: 0.2756 - acc: 0.948 - ETA: 1s - loss: 0.2802 - acc: 0.949 - ETA: 1s - loss: 0.2877 - acc: 0.944 - ETA: 1s - loss: 0.2920 - acc: 0.944 - ETA: 1s - loss: 0.2955 - acc: 0.941 - ETA: 1s - loss: 0.2992 - acc: 0.941 - ETA: 0s - loss: 0.2997 - acc: 0.938 - ETA: 0s - loss: 0.3016 - acc: 0.937 - ETA: 0s - loss: 0.3002 - acc: 0.939 - ETA: 0s - loss: 0.3024 - acc: 0.939 - ETA: 0s - loss: 0.3013 - acc: 0.939 - ETA: 0s - loss: 0.3011 - acc: 0.939 - ETA: 0s - loss: 0.2996 - acc: 0.940 - ETA: 0s - loss: 0.2956 - acc: 0.941 - ETA: 0s - loss: 0.2955 - acc: 0.941 - ETA: 0s - loss: 0.2975 - acc: 0.941 - ETA: 0s - loss: 0.2985 - acc: 0.941 - ETA: 0s - loss: 0.2999 - acc: 0.941 - ETA: 0s - loss: 0.2996 - acc: 0.940 - ETA: 0s - loss: 0.3017 - acc: 0.939 - ETA: 0s - loss: 0.3016 - acc: 0.938 - ETA: 0s - loss: 0.3014 - acc: 0.938 - ETA: 0s - loss: 0.2981 - acc: 0.940 - ETA: 0s - loss: 0.2994 - acc: 0.940 - 2s 244us/step - loss: 0.2995 - acc: 0.9404 - val_loss: 0.5802 - val_acc: 0.8228\n",
      "\n",
      "Epoch 00017: val_loss improved from 0.58867 to 0.58018, saving model to saved_models/weights.best1.new_model.hdf5\n",
      "Epoch 18/20\n",
      "6680/6680 [==============================] - ETA: 1s - loss: 0.2958 - acc: 0.966 - ETA: 1s - loss: 0.3001 - acc: 0.947 - ETA: 1s - loss: 0.2627 - acc: 0.957 - ETA: 1s - loss: 0.2476 - acc: 0.963 - ETA: 1s - loss: 0.2640 - acc: 0.954 - ETA: 1s - loss: 0.2720 - acc: 0.945 - ETA: 1s - loss: 0.2607 - acc: 0.951 - ETA: 1s - loss: 0.2574 - acc: 0.953 - ETA: 1s - loss: 0.2540 - acc: 0.955 - ETA: 1s - loss: 0.2633 - acc: 0.948 - ETA: 1s - loss: 0.2666 - acc: 0.949 - ETA: 1s - loss: 0.2682 - acc: 0.949 - ETA: 1s - loss: 0.2669 - acc: 0.949 - ETA: 1s - loss: 0.2678 - acc: 0.948 - ETA: 1s - loss: 0.2658 - acc: 0.949 - ETA: 0s - loss: 0.2665 - acc: 0.949 - ETA: 0s - loss: 0.2673 - acc: 0.948 - ETA: 0s - loss: 0.2697 - acc: 0.947 - ETA: 0s - loss: 0.2759 - acc: 0.945 - ETA: 0s - loss: 0.2771 - acc: 0.945 - ETA: 0s - loss: 0.2787 - acc: 0.945 - ETA: 0s - loss: 0.2787 - acc: 0.944 - ETA: 0s - loss: 0.2783 - acc: 0.945 - ETA: 0s - loss: 0.2783 - acc: 0.945 - ETA: 0s - loss: 0.2797 - acc: 0.945 - ETA: 0s - loss: 0.2808 - acc: 0.944 - ETA: 0s - loss: 0.2801 - acc: 0.945 - ETA: 0s - loss: 0.2804 - acc: 0.945 - ETA: 0s - loss: 0.2795 - acc: 0.945 - ETA: 0s - loss: 0.2802 - acc: 0.945 - ETA: 0s - loss: 0.2810 - acc: 0.944 - 2s 256us/step - loss: 0.2817 - acc: 0.9440 - val_loss: 0.5757 - val_acc: 0.8299\n",
      "\n",
      "Epoch 00018: val_loss improved from 0.58018 to 0.57568, saving model to saved_models/weights.best1.new_model.hdf5\n",
      "Epoch 19/20\n",
      "6680/6680 [==============================] - ETA: 1s - loss: 0.3263 - acc: 0.900 - ETA: 1s - loss: 0.2563 - acc: 0.947 - ETA: 1s - loss: 0.2640 - acc: 0.935 - ETA: 1s - loss: 0.2597 - acc: 0.945 - ETA: 1s - loss: 0.2728 - acc: 0.939 - ETA: 1s - loss: 0.2759 - acc: 0.936 - ETA: 1s - loss: 0.2683 - acc: 0.942 - ETA: 1s - loss: 0.2640 - acc: 0.945 - ETA: 1s - loss: 0.2731 - acc: 0.940 - ETA: 1s - loss: 0.2744 - acc: 0.940 - ETA: 1s - loss: 0.2677 - acc: 0.942 - ETA: 0s - loss: 0.2704 - acc: 0.942 - ETA: 0s - loss: 0.2744 - acc: 0.941 - ETA: 0s - loss: 0.2746 - acc: 0.942 - ETA: 0s - loss: 0.2757 - acc: 0.942 - ETA: 0s - loss: 0.2751 - acc: 0.942 - ETA: 0s - loss: 0.2734 - acc: 0.943 - ETA: 0s - loss: 0.2707 - acc: 0.944 - ETA: 0s - loss: 0.2686 - acc: 0.946 - ETA: 0s - loss: 0.2683 - acc: 0.946 - ETA: 0s - loss: 0.2691 - acc: 0.946 - ETA: 0s - loss: 0.2671 - acc: 0.947 - ETA: 0s - loss: 0.2672 - acc: 0.947 - ETA: 0s - loss: 0.2655 - acc: 0.948 - ETA: 0s - loss: 0.2656 - acc: 0.948 - ETA: 0s - loss: 0.2663 - acc: 0.948 - ETA: 0s - loss: 0.2666 - acc: 0.947 - ETA: 0s - loss: 0.2677 - acc: 0.947 - ETA: 0s - loss: 0.2684 - acc: 0.947 - ETA: 0s - loss: 0.2674 - acc: 0.947 - ETA: 0s - loss: 0.2685 - acc: 0.947 - ETA: 0s - loss: 0.2689 - acc: 0.947 - 2s 260us/step - loss: 0.2698 - acc: 0.9464 - val_loss: 0.5704 - val_acc: 0.8251\n",
      "\n",
      "Epoch 00019: val_loss improved from 0.57568 to 0.57037, saving model to saved_models/weights.best1.new_model.hdf5\n",
      "Epoch 20/20\n",
      "6680/6680 [==============================] - ETA: 1s - loss: 0.3348 - acc: 0.900 - ETA: 1s - loss: 0.3026 - acc: 0.933 - ETA: 1s - loss: 0.2817 - acc: 0.940 - ETA: 1s - loss: 0.2734 - acc: 0.945 - ETA: 1s - loss: 0.2654 - acc: 0.951 - ETA: 1s - loss: 0.2632 - acc: 0.951 - ETA: 1s - loss: 0.2620 - acc: 0.951 - ETA: 1s - loss: 0.2579 - acc: 0.955 - ETA: 1s - loss: 0.2586 - acc: 0.954 - ETA: 1s - loss: 0.2567 - acc: 0.955 - ETA: 1s - loss: 0.2567 - acc: 0.955 - ETA: 1s - loss: 0.2559 - acc: 0.955 - ETA: 1s - loss: 0.2582 - acc: 0.953 - ETA: 0s - loss: 0.2601 - acc: 0.952 - ETA: 0s - loss: 0.2591 - acc: 0.952 - ETA: 0s - loss: 0.2588 - acc: 0.952 - ETA: 0s - loss: 0.2578 - acc: 0.952 - ETA: 0s - loss: 0.2572 - acc: 0.952 - ETA: 0s - loss: 0.2590 - acc: 0.951 - ETA: 0s - loss: 0.2627 - acc: 0.950 - ETA: 0s - loss: 0.2600 - acc: 0.950 - ETA: 0s - loss: 0.2605 - acc: 0.950 - ETA: 0s - loss: 0.2592 - acc: 0.950 - ETA: 0s - loss: 0.2583 - acc: 0.951 - ETA: 0s - loss: 0.2578 - acc: 0.951 - ETA: 0s - loss: 0.2570 - acc: 0.951 - ETA: 0s - loss: 0.2571 - acc: 0.951 - ETA: 0s - loss: 0.2579 - acc: 0.951 - ETA: 0s - loss: 0.2562 - acc: 0.951 - ETA: 0s - loss: 0.2549 - acc: 0.952 - ETA: 0s - loss: 0.2550 - acc: 0.953 - 2s 257us/step - loss: 0.2548 - acc: 0.9531 - val_loss: 0.5675 - val_acc: 0.8168\n",
      "\n",
      "Epoch 00020: val_loss improved from 0.57037 to 0.56755, saving model to saved_models/weights.best1.new_model.hdf5\n"
     ]
    },
    {
     "data": {
      "text/plain": [
       "<keras.callbacks.History at 0x42499be0>"
      ]
     },
     "execution_count": 12,
     "metadata": {},
     "output_type": "execute_result"
    }
   ],
   "source": [
    "### TODO: Train the model.\n",
    "from keras.callbacks import ModelCheckpoint\n",
    "\n",
    "checkpointer = ModelCheckpoint(filepath='saved_models/weights.best1.new_model.hdf5', \n",
    "                               verbose=1, save_best_only=True)\n",
    "\n",
    "new_model.fit(train_new_model, train_targets, \n",
    "          validation_data=(valid_new_model, valid_targets),\n",
    "          epochs=20, batch_size=30, callbacks=[checkpointer], verbose=1)"
   ]
  },
  {
   "cell_type": "markdown",
   "metadata": {},
   "source": [
    "### (IMPLEMENTATION) Load the Model with the Best Validation Loss"
   ]
  },
  {
   "cell_type": "code",
   "execution_count": 13,
   "metadata": {},
   "outputs": [],
   "source": [
    "### TODO: Load the model weights with the best validation loss.\n",
    "new_model.load_weights('saved_models/weights.best1.new_model.hdf5')"
   ]
  },
  {
   "cell_type": "markdown",
   "metadata": {},
   "source": [
    "### (IMPLEMENTATION) Test the Model\n",
    "\n",
    "Try out your model on the test dataset of dog images. Ensure that your test accuracy is greater than 60%."
   ]
  },
  {
   "cell_type": "code",
   "execution_count": 14,
   "metadata": {},
   "outputs": [
    {
     "name": "stdout",
     "output_type": "stream",
     "text": [
      "Test accuracy: 83.9713%\n"
     ]
    }
   ],
   "source": [
    "### TODO: Calculate classification accuracy on the test dataset.\n",
    "# get index of predicted dog breed for each image in test set\n",
    "new_model_predictions = [np.argmax(new_model.predict(np.expand_dims(feature, axis=0))) for feature in test_new_model]\n",
    "\n",
    "# report test accuracy\n",
    "new_model_test_accuracy = 100*np.sum(np.array(new_model_predictions)==np.argmax(test_targets, axis=1))/len(new_model_predictions)\n",
    "print('Test accuracy: %.4f%%' % new_model_test_accuracy)"
   ]
  },
  {
   "cell_type": "code",
   "execution_count": null,
   "metadata": {},
   "outputs": [],
   "source": [
    "#VGG19  (7,7,512) -> 68%\n",
    "##ResNet50, sdg (1,1,2048) --> 83%\n",
    "##Inception , sdg (5,5,2048) --> 82.4%\n",
    "##Exception, sdg, (7,7,2048), 272K Parameters ---> 84%\n"
   ]
  },
  {
   "cell_type": "markdown",
   "metadata": {},
   "source": [
    "### (IMPLEMENTATION) Predict Dog Breed with the Model\n",
    "\n",
    "Write a function that takes an image path as input and returns the dog breed (`Affenpinscher`, `Afghan_hound`, etc) that is predicted by your model.  \n",
    "\n",
    "Similar to the analogous function in Step 5, your function should have three steps:\n",
    "1. Extract the bottleneck features corresponding to the chosen CNN model.\n",
    "2. Supply the bottleneck features as input to the model to return the predicted vector.  Note that the argmax of this prediction vector gives the index of the predicted dog breed.\n",
    "3. Use the `dog_names` array defined in Step 0 of this notebook to return the corresponding breed.\n",
    "\n",
    "The functions to extract the bottleneck features can be found in `extract_bottleneck_features.py`, and they have been imported in an earlier code cell.  To obtain the bottleneck features corresponding to your chosen CNN architecture, you need to use the function\n",
    "\n",
    "    extract_{network}\n",
    "    \n",
    "where `{network}`, in the above filename, should be one of `VGG19`, `Resnet50`, `InceptionV3`, or `Xception`."
   ]
  },
  {
   "cell_type": "code",
   "execution_count": 30,
   "metadata": {},
   "outputs": [
    {
     "name": "stdout",
     "output_type": "stream",
     "text": [
      "Dog Breed Name is Labrador_retriever\n"
     ]
    },
    {
     "data": {
      "text/plain": [
       "'Labrador_retriever'"
      ]
     },
     "execution_count": 30,
     "metadata": {},
     "output_type": "execute_result"
    }
   ],
   "source": [
    "### TODO: Write a function that takes a path to an image as input\n",
    "### and returns the dog breed that is predicted by the model.\n",
    "from extract_bottleneck_features import *\n",
    "\n",
    "def Xception_predict_breed(img_path):\n",
    "    # extract bottleneck features\n",
    "    bottleneck_feature = extract_Xception(path_to_tensor(img_path))\n",
    "    # obtain predicted vector\n",
    "    predicted_vector = new_model.predict(bottleneck_feature)\n",
    "    # return dog breed that is predicted by the model\n",
    "    print(\"Xception Dog Breed Name is\", dog_names[np.argmax(predicted_vector)])\n",
    "    return dog_names[np.argmax(predicted_vector)]\n",
    "\n",
    "###Execute Xception_Predict_breed\n",
    "Xception_predict_breed(\"images/Labrador_retriever_06455.jpg\")"
   ]
  },
  {
   "cell_type": "code",
   "execution_count": 18,
   "metadata": {},
   "outputs": [
    {
     "data": {
      "text/plain": [
       "'Labrador_retriever'"
      ]
     },
     "execution_count": 18,
     "metadata": {},
     "output_type": "execute_result"
    }
   ],
   "source": [
    "### TODO: Write a function that takes a path to an image as input\n",
    "### and returns the dog breed that is predicted by the model.\n",
    "from extract_bottleneck_features import *\n",
    "\n",
    "def predict_breed(cnn_model, img_path):\n",
    "    #print(\"CNN Pre Training Model:\", cnn_model)\n",
    "    # extract bottleneck features\n",
    "    if (cnn_model == 'Resnet50'):\n",
    "        bottleneck_feature = extract_Resnet50(path_to_tensor(img_path))\n",
    "    elif (cnn_model == \"Inception3D\"):\n",
    "        bottleneck_feature = extract_Inception3D(path_to_tensor(img_path))\n",
    "    else:\n",
    "        bottleneck_feature = extract_Exception(path_to_tensor(img_path))\n",
    "    \n",
    "    # obtain predicted vector\n",
    "    predicted_vector = new_model.predict(bottleneck_feature)\n",
    "    # return dog breed that is predicted by the model\n",
    "    #print(\"Resent50 Dog Breed Name is\", dog_names[np.argmax(predicted_vector)])\n",
    "    return dog_names[np.argmax(predicted_vector)]\n",
    "\n",
    "###Execute Resenet50_Predict_breed\n",
    "predict_breed(\"Resnet50\", \"images/Labrador_retriever_06455.jpg\")"
   ]
  },
  {
   "cell_type": "markdown",
   "metadata": {},
   "source": [
    "---\n",
    "<a id='step6'></a>\n",
    "## Step 6: Write your Algorithm\n",
    "\n",
    "Write an algorithm that accepts a file path to an image and first determines whether the image contains a human, dog, or neither.  Then,\n",
    "- if a __dog__ is detected in the image, return the predicted breed.\n",
    "- if a __human__ is detected in the image, return the resembling dog breed.\n",
    "- if __neither__ is detected in the image, provide output that indicates an error.\n",
    "\n",
    "You are welcome to write your own functions for detecting humans and dogs in images, but feel free to use the `face_detector` and `dog_detector` functions developed above.  You are __required__ to use your CNN from Step 5 to predict dog breed.  \n",
    "\n",
    "Some sample output for our algorithm is provided below, but feel free to design your own user experience!\n",
    "\n",
    "![Sample Human Output](images/sample_human_output.png)\n",
    "\n",
    "\n",
    "### (IMPLEMENTATION) Write your Algorithm"
   ]
  },
  {
   "cell_type": "code",
   "execution_count": 19,
   "metadata": {},
   "outputs": [
    {
     "name": "stdout",
     "output_type": "stream",
     "text": [
      "Hello Human face found, The resembling dog Breed is: Norwegian_lundehund\n"
     ]
    }
   ],
   "source": [
    "### TODO: Write your algorithm.\n",
    "### Feel free to use as many code cells as needed.\n",
    "def detect_picture(cnn_model, img_path):\n",
    "    ## if dog is detected, find out a breed\n",
    "    if (dog_detector(img_path)):\n",
    "        print(\"Hello, Dog is found. Dog breed is\", predict_breed(cnn_model, img_path))\n",
    "    elif face_detector(img_path):\n",
    "        print(\"Hello Human face found, The resembling dog Breed is:\", predict_breed(cnn_model, img_path))\n",
    "    else:\n",
    "        print(\"Error: Neither Dog nor Human found\")\n",
    "\n",
    "detect_picture(\"Resnet50\",\"images/sample_human_output.png\")\n"
   ]
  },
  {
   "cell_type": "markdown",
   "metadata": {},
   "source": [
    "---\n",
    "<a id='step7'></a>\n",
    "## Step 7: Test Your Algorithm\n",
    "\n",
    "In this section, you will take your new algorithm for a spin!  What kind of dog does the algorithm think that __you__ look like?  If you have a dog, does it predict your dog's breed accurately?  If you have a cat, does it mistakenly think that your cat is a dog?\n",
    "\n",
    "### (IMPLEMENTATION) Test Your Algorithm on Sample Images!\n",
    "\n",
    "Test your algorithm at least six images on your computer.  Feel free to use any images you like.  Use at least two human and two dog images.  \n",
    "\n",
    "__Question 6:__ Is the output better than you expected :) ?  Or worse :( ?  Provide at least three possible points of improvement for your algorithm.\n",
    "\n",
    "__Answer:__ "
   ]
  },
  {
   "cell_type": "code",
   "execution_count": 21,
   "metadata": {},
   "outputs": [
    {
     "name": "stdout",
     "output_type": "stream",
     "text": [
      "1) Input file is My  Face:\n",
      "Hello Human face found, The resembling dog Breed is: Basenji\n",
      "2) Input file is Jackie Chan  Face:\n",
      "Hello Human face found, The resembling dog Breed is: Norwegian_lundehund\n",
      "3) Input file is Bulldog:\n",
      "Hello, Dog is found. Dog breed is Bulldog\n",
      "4) Input file is a Dog:\n",
      "Hello, Dog is found. Dog breed is Boxer\n",
      "5) Input file is a Cat:\n",
      "Error: Neither Dog nor Human found\n",
      "6) Input file is a Elephant:\n",
      "Error: Neither Dog nor Human found\n"
     ]
    }
   ],
   "source": [
    "## TODO: Execute your algorithm from Step 6 on\n",
    "## at least 6 images on your computer.\n",
    "## Feel free to use as many code cells as needed.\n",
    "\n",
    "###Image 1 - my face\n",
    "print(\"1) Input file is My  Face:\")\n",
    "detect_picture(\"Resnet50\",\"images/venkat.jpg\")\n",
    "\n",
    "###Image 2 - Jackie Chan face\n",
    "print(\"2) Input file is Jackie Chan  Face:\")\n",
    "detect_picture(\"Resnet50\",\"images/jackiechan.jpg\")\n",
    "\n",
    "###Image 3 - Bulldog\n",
    "print(\"3) Input file is Bulldog:\")\n",
    "detect_picture(\"Resnet50\",\"images/bulldog.jpg\")\n",
    "\n",
    "###Image 4 - Puggle \n",
    "print(\"4) Input file is a Dog:\")\n",
    "detect_picture(\"Resnet50\",\"images/puggle.jpg\")\n",
    "\n",
    "###Image5 - cat\n",
    "print(\"5) Input file is a Cat:\")\n",
    "detect_picture(\"Resnet50\",\"images/cat1.jpg\")\n",
    "\n",
    "###Image 6 - deer\n",
    "print(\"6) Input file is a Elephant:\")\n",
    "detect_picture(\"Resnet50\",\"images/elephant.jpg\")"
   ]
  },
  {
   "cell_type": "code",
   "execution_count": null,
   "metadata": {},
   "outputs": [],
   "source": []
  }
 ],
 "metadata": {
  "anaconda-cloud": {},
  "kernelspec": {
   "display_name": "dog-project",
   "language": "python",
   "name": "dog-project"
  },
  "language_info": {
   "codemirror_mode": {
    "name": "ipython",
    "version": 3
   },
   "file_extension": ".py",
   "mimetype": "text/x-python",
   "name": "python",
   "nbconvert_exporter": "python",
   "pygments_lexer": "ipython3",
   "version": "3.6.4"
  }
 },
 "nbformat": 4,
 "nbformat_minor": 2
}
